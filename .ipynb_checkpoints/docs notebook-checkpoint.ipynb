{
 "cells": [
  {
   "cell_type": "markdown",
   "metadata": {},
   "source": [
    "# dukto"
   ]
  },
  {
   "cell_type": "markdown",
   "metadata": {},
   "source": [
    "`dukto means pipeline in`[esperanto](https://en.wikipedia.org/wiki/Esperanto)"
   ]
  },
  {
   "cell_type": "markdown",
   "metadata": {},
   "source": [
    "`duckto` is a simple package that aims to create a single pipeline to handle data `cleaning`, `extraction` and `transformation` and tracks and logs sensible stats about all steps in the pipeline."
   ]
  },
  {
   "cell_type": "markdown",
   "metadata": {},
   "source": [
    "### Installation"
   ]
  },
  {
   "cell_type": "markdown",
   "metadata": {},
   "source": [
    "### `pip install duckto`"
   ]
  },
  {
   "cell_type": "markdown",
   "metadata": {},
   "source": [
    "### Let's go though an example of a data cleaning task using [UFC](https://en.wikipedia.org/wiki/Ultimate_Fighting_Championship) data."
   ]
  },
  {
   "cell_type": "code",
   "execution_count": 1,
   "metadata": {},
   "outputs": [],
   "source": [
    "import pandas as pd\n",
    "import numpy as np\n",
    "\n",
    "from dukto.pipe import Pipe\n",
    "from dukto.processor import ColProcessor, MultiColProcessor, Transformer\n",
    "\n",
    "from feature_engine.encoding import CountFrequencyEncoder\n",
    "from feature_engine.imputation import MeanMedianImputer, CategoricalImputer"
   ]
  },
  {
   "cell_type": "code",
   "execution_count": 2,
   "metadata": {},
   "outputs": [],
   "source": [
    "data  = pd.read_csv('data/ufc.csv', index_col=0)"
   ]
  },
  {
   "cell_type": "markdown",
   "metadata": {},
   "source": [
    "### a sample of the data"
   ]
  },
  {
   "cell_type": "code",
   "execution_count": 3,
   "metadata": {},
   "outputs": [
    {
     "data": {
      "text/plain": [
       "(5923, 21)"
      ]
     },
     "execution_count": 3,
     "metadata": {},
     "output_type": "execute_result"
    }
   ],
   "source": [
    "data.shape"
   ]
  },
  {
   "cell_type": "code",
   "execution_count": 4,
   "metadata": {},
   "outputs": [
    {
     "data": {
      "text/plain": [
       "Index(['agg_dob_first', 'agg_dob_second', 'agg_height_first',\n",
       "       'agg_height_second', 'agg_reach_first', 'agg_reach_second',\n",
       "       'agg_stand_first', 'agg_stand_second', 'agg_str_acc_first',\n",
       "       'agg_str_acc_second', 'agg_weight_first', 'date_card',\n",
       "       'first_fighter_res', 'first_sig_str_', 'first_sig_str_percentage',\n",
       "       'first_total_str', 'method', 'second_sig_str_percentage',\n",
       "       'second_total_str', 'time', 'type'],\n",
       "      dtype='object')"
      ]
     },
     "execution_count": 4,
     "metadata": {},
     "output_type": "execute_result"
    }
   ],
   "source": [
    "data.columns"
   ]
  },
  {
   "cell_type": "code",
   "execution_count": 44,
   "metadata": {},
   "outputs": [],
   "source": [
    "p = lambda x:print(x.to_markdown())"
   ]
  },
  {
   "cell_type": "code",
   "execution_count": 45,
   "metadata": {},
   "outputs": [
    {
     "name": "stdout",
     "output_type": "stream",
     "text": [
      "|    | agg_dob_first   | agg_height_first   | agg_reach_first   | agg_stand_first   | agg_str_acc_first   | agg_weight_first   | first_fighter_res   |\n",
      "|---:|:----------------|:-------------------|:------------------|:------------------|:--------------------|:-------------------|:--------------------|\n",
      "|  0 | 19-Jul-87       | 6' 4\"              | 84\"               | Orthodox          | 57%                 | 205 lbs.           | W                   |\n",
      "|  1 | 7-Mar-88        | 5' 5\"              | 66\"               | Southpaw          | 51%                 | 125 lbs.           | W                   |\n",
      "|  2 | 16-Jan-92       | 6' 5\"              | 80\"               | Orthodox          | 55%                 | 265 lbs.           | L                   |\n",
      "|  3 | 16-Feb-91       | 5' 8\"              | 70\"               | Orthodox          | 41%                 | 145 lbs.           | L                   |\n",
      "|  4 | 7-Feb-85        | 6' 3\"              | 79\"               | Orthodox          | 50%                 | 260 lbs.           | W                   |\n"
     ]
    }
   ],
   "source": [
    "p(data.iloc[:5, range(0, 13, 2)])"
   ]
  },
  {
   "cell_type": "markdown",
   "metadata": {},
   "source": []
  },
  {
   "cell_type": "markdown",
   "metadata": {},
   "source": [
    "#### In dukto we have 3 main types of Processors `ColProcessor`, `MultiColProcessor`, and `Transformer`\n",
    "#### To run these we need a `Pipe`"
   ]
  },
  {
   "cell_type": "markdown",
   "metadata": {},
   "source": [
    "# `ColProcessor`\n",
    "\n",
    "### applies function/s to a column/s\n",
    "#### usage:\n",
    "##### In some cases the computation is going to be applied on one column without the need of accessing other columns or rows. \n",
    "##### Examples: changing the type, extracting digits from strings, multiplying by a scalar .. "
   ]
  },
  {
   "cell_type": "markdown",
   "metadata": {},
   "source": [
    "# some arguments\n",
    "- `funcs` (callable or list): in function or function you'll apply to the columns \n",
    "- `name`  (str or list): the name or names of the columns you'll be applying the functions on\n",
    "- `new_name` (dict): if you want to rename the new column you can use a dict to map the old names to the new ones,\n",
    "- `drop` (bool): if true it'll drop the old columns,\n",
    "- `funcs_test` (dict): test cases for the output of that processor given and input example {'1h:30min', 1.5} (if that's the expected output of your funcs)\n",
    "- `suffix` (str): text added at the end of the column name example if suffix=\"_new\"  col_name -> col_name_new\n"
   ]
  },
  {
   "cell_type": "markdown",
   "metadata": {},
   "source": [
    "#### Some cleaning functions that we will use in our examples."
   ]
  },
  {
   "cell_type": "code",
   "execution_count": 16,
   "metadata": {},
   "outputs": [],
   "source": [
    "def convert_foot_to_cm(r):\n",
    "    if isinstance(r, str) and \"'\" in r:\n",
    "        foot, inches = r.split(\"'\")\n",
    "        inches = int(foot)*12 + int(inches.replace('\"', ''))\n",
    "        return inches*2.54\n",
    "    return np.nan\n",
    "\n",
    "def convert_inch_to_cm(r):\n",
    "    if isinstance(r,str) and '\"' in r:\n",
    "        return int(r.replace('\"', '')) * 2.54\n",
    "    return np.nan\n",
    "\n",
    "def num_of_num_to_perc(r):\n",
    "    if isinstance(r,str) and 'of' in r:\n",
    "        thr, landed = map(int, r.split('of'))\n",
    "        if landed > 0:\n",
    "            return thr / landed \n",
    "    return np.nan\n",
    "\n",
    "def pounds_to_kg(r):\n",
    "    if isinstance(r, str) and 'lbs' in r:\n",
    "        return int(r.split(' ')[0]) * 0.4535\n",
    "    return r"
   ]
  },
  {
   "cell_type": "code",
   "execution_count": 17,
   "metadata": {},
   "outputs": [],
   "source": [
    "single_pipe = [\n",
    "    ColProcessor(name=['agg_height_first','agg_height_second'], \n",
    "                 funcs=[convert_foot_to_cm], funcs_test={\"6'2\\\"\":187.96}, suffix='_new'),\n",
    "    \n",
    "    ColProcessor(name=['agg_reach_first','agg_reach_second'], \n",
    "                 funcs=[convert_inch_to_cm], funcs_test={'70\"': 177.80}, suffix='_new'),\n",
    "    \n",
    "    ColProcessor(name=['second_total_str', 'first_total_str'], \n",
    "                 funcs=[num_of_num_to_perc], suffix='_%%_new', funcs_test={'50 of 100':0.5}),\n",
    "    \n",
    "    ColProcessor(name=['agg_dob_first', 'agg_dob_second', 'date_card'], \n",
    "                 funcs=[pd.to_datetime]),\n",
    "    \n",
    "    ColProcessor(name='agg_weight_first', new_name={\"agg_weight_first\":'weight_class'}, \n",
    "                 funcs=[pounds_to_kg], suffix='_new', drop=True)\n",
    "]"
   ]
  },
  {
   "cell_type": "markdown",
   "metadata": {},
   "source": [
    "## `MultiColProcessor`\n",
    "\n",
    "### applies a function that takes and returns a pandas DataFrame\n",
    "### this class is used to add columns based on other column/s\n",
    "\n",
    "#### usage:\n",
    "##### In some cases the computation is going to be applied on more than one column. \n",
    "##### Examples: adding column a and b to create c or dropping some columns if they contain the word java."
   ]
  },
  {
   "cell_type": "markdown",
   "metadata": {},
   "source": [
    "# some arguments\n",
    "- `funcs`  (list): function or function you'll apply \n",
    "- `name`  (str) : in this case it's optional and only useful for logging purpose and easy debugging\n",
    "\n"
   ]
  },
  {
   "cell_type": "markdown",
   "metadata": {},
   "source": [
    "#### Some cleaning functions that we will use in our examples."
   ]
  },
  {
   "cell_type": "code",
   "execution_count": 18,
   "metadata": {},
   "outputs": [],
   "source": [
    "def add_ages(df):\n",
    "    df['first_fighter_age_new'] = df['date_card'] - df['agg_dob_first']\n",
    "    df['second_fighter_age_new'] = df['date_card'] - df['agg_dob_second']\n",
    "    return df\n",
    "\n",
    "def ages_in_years(df):\n",
    "    df[['first_fighter_age_new', 'second_fighter_age_new']] = df[['first_fighter_age_new', 'second_fighter_age_new']].applymap(lambda x:x/np.timedelta64(1, 'Y'))\n",
    "    return df"
   ]
  },
  {
   "cell_type": "code",
   "execution_count": 19,
   "metadata": {},
   "outputs": [],
   "source": [
    "multi_pipe = [\n",
    "    MultiColProcessor(name=['first_fighter_age_new', 'second_fighter_age_new'], \n",
    "                      funcs=[add_ages, ages_in_years]),\n",
    "             ]"
   ]
  },
  {
   "cell_type": "markdown",
   "metadata": {},
   "source": [
    "## `Transformer`\n",
    "\n",
    "### Applies a `feature_engine` and \"`sklearn`\" after using [SklearnTransformerWrapper](https://feature-engine.readthedocs.io/en/1.1.x/wrappers/Wrapper.html)  style transformers to a column/s \n",
    "\n",
    "#### usage:\n",
    "##### Applying transformations on a column/s  \n",
    "##### Examples: `Missing data imputation`, `Categorical variable encoding`, `Discretisation`, `Variable transformation`, `Outlier capping or removal`, `Variable combination`, `Variable selection`."
   ]
  },
  {
   "cell_type": "markdown",
   "metadata": {},
   "source": [
    "# some arguments\n",
    "- `transformers` (list  or Callable): list of transformers.\n",
    "- `name` (str) : in this case it's optional and only useful for logging purposes and easy debugging."
   ]
  },
  {
   "cell_type": "code",
   "execution_count": 20,
   "metadata": {},
   "outputs": [],
   "source": [
    "### selecting columns numarical cols to use as an inpu to the transformers\n",
    "new_cols_func = lambda x: [i for i in x if (('new' in i) and ('weight' not in i))]\n",
    "\n",
    "trans_pipe  = [\n",
    "    Transformer(name_from_func=new_cols_func, \n",
    "                transformers=[MeanMedianImputer], imputation_method='median'),    \n",
    "#     MultiColProcessor(funcs=[lambda x:x.assign(weight_class_new=x.weight_class_new.astype(str))]), # i needed to add this there becouse CategoricalImputer expects a strtype \n",
    "#     Transformer(name=['weight_class_new'], \n",
    "#                 transformers=[CategoricalImputer,CountFrequencyEncoder]),\n",
    "]"
   ]
  },
  {
   "cell_type": "markdown",
   "metadata": {},
   "source": [
    "## Pipe\n",
    "\n",
    "### Runs the pipeline sequentially\n"
   ]
  },
  {
   "cell_type": "markdown",
   "metadata": {},
   "source": [
    "- `data`: pandas DataFrame,\n",
    "- `pipeline` (list): list of all Processors(`ColProcessor`, `MultiColProcessor` and `Transformer`)\n",
    "- `run_test_cases` (bool): if true all test cases will run,\n",
    "- `mode` (str) : \"fit_transform\" can be fit_transform or transform in case you want to apply the pipe on [train vs test](https://stackoverflow.com/questions/23838056/what-is-the-difference-between-transform-and-fit-transform-in-sklearn) data separately."
   ]
  },
  {
   "cell_type": "markdown",
   "metadata": {},
   "source": [
    "## Running"
   ]
  },
  {
   "cell_type": "code",
   "execution_count": 22,
   "metadata": {},
   "outputs": [],
   "source": [
    "from copy import deepcopy as c"
   ]
  },
  {
   "cell_type": "code",
   "execution_count": 23,
   "metadata": {},
   "outputs": [
    {
     "name": "stdout",
     "output_type": "stream",
     "text": [
      "Runningconvert_foot_to_cm(agg_height_first)\n",
      "Runningconvert_foot_to_cm(agg_height_second)\n",
      "Runningconvert_inch_to_cm(agg_reach_first)\n",
      "Runningconvert_inch_to_cm(agg_reach_second)\n",
      "Runningnum_of_num_to_perc(second_total_str)\n",
      "Runningnum_of_num_to_perc(first_total_str)\n",
      "Runningto_datetime(agg_dob_first)\n",
      "Runningto_datetime(agg_dob_second)\n",
      "Runningto_datetime(date_card)\n",
      "Runningpounds_to_kg(agg_weight_first)\n",
      "added columns ['second_fighter_age_new', 'first_fighter_age_new']... deleted columns []\n",
      "[<class 'feature_engine.imputation.mean_median.MeanMedianImputer'>] <class 'type'>\n"
     ]
    }
   ],
   "source": [
    "pipeline = single_pipe+multi_pipe+trans_pipe\n",
    "pipe = Pipe(data=data.copy(), pipeline=c(pipeline), run_test_cases=False, mode='fit_transform')\n",
    "res = pipe.run()"
   ]
  },
  {
   "cell_type": "markdown",
   "metadata": {},
   "source": [
    "## Running with `test`"
   ]
  },
  {
   "cell_type": "code",
   "execution_count": 26,
   "metadata": {},
   "outputs": [
    {
     "name": "stdout",
     "output_type": "stream",
     "text": [
      "Runningconvert_foot_to_cm(agg_height_first)\n",
      "Runningconvert_foot_to_cm(agg_height_second)\n",
      "Runningconvert_foot_to_cm(in)\n",
      "ColProcessor (agg_height_first, agg_height_second) test cases PASSED! 😎\n",
      "Runningconvert_inch_to_cm(agg_reach_first)\n",
      "Runningconvert_inch_to_cm(agg_reach_second)\n",
      "Runningconvert_inch_to_cm(in)\n",
      "ColProcessor (agg_reach_first, agg_reach_second) test cases PASSED! 😎\n",
      "Runningnum_of_num_to_perc(second_total_str)\n",
      "Runningnum_of_num_to_perc(first_total_str)\n",
      "Runningnum_of_num_to_perc(in)\n",
      "ColProcessor (second_total_str, first_total_str) test cases PASSED! 😎\n",
      "Runningto_datetime(agg_dob_first)\n",
      "Runningto_datetime(agg_dob_second)\n",
      "Runningto_datetime(date_card)\n",
      "Runningto_datetime(in)\n",
      "ColProcessor (agg_dob_first, agg_dob_second, date_card) test cases NOT FOUND.\n",
      "Runningpounds_to_kg(agg_weight_first)\n",
      "Runningpounds_to_kg(in)\n",
      "ColProcessor (agg_weight_first)             test cases NOT FOUND.\n",
      "added columns ['second_fighter_age_new', 'first_fighter_age_new']... deleted columns []\n",
      "Multi test not implemented yet\n",
      "[<class 'feature_engine.imputation.mean_median.MeanMedianImputer'>] <class 'type'>\n",
      "transformer test not implemented yet\n"
     ]
    }
   ],
   "source": [
    "pipe = Pipe(data=data.copy(), pipeline=c(pipeline), run_test_cases=True, mode='fit_transform')\n",
    "res = pipe.run()"
   ]
  },
  {
   "cell_type": "markdown",
   "metadata": {},
   "source": [
    "## Using Transform"
   ]
  },
  {
   "cell_type": "code",
   "execution_count": 27,
   "metadata": {},
   "outputs": [],
   "source": [
    "fitted_pipe = pipe.pipeline"
   ]
  },
  {
   "cell_type": "code",
   "execution_count": 28,
   "metadata": {},
   "outputs": [],
   "source": [
    "transform_pipe = Pipe(data=data.head(20), pipeline=fitted_pipe, run_test_cases=False, mode='transform')"
   ]
  },
  {
   "cell_type": "code",
   "execution_count": 29,
   "metadata": {},
   "outputs": [
    {
     "name": "stdout",
     "output_type": "stream",
     "text": [
      "Runningconvert_foot_to_cm(agg_height_first)\n",
      "Runningconvert_foot_to_cm(agg_height_second)\n",
      "Runningconvert_inch_to_cm(agg_reach_first)\n",
      "Runningconvert_inch_to_cm(agg_reach_second)\n",
      "Runningnum_of_num_to_perc(second_total_str)\n",
      "Runningnum_of_num_to_perc(first_total_str)\n",
      "Runningto_datetime(agg_dob_first)\n",
      "Runningto_datetime(agg_dob_second)\n",
      "Runningto_datetime(date_card)\n",
      "Runningpounds_to_kg(agg_weight_first)\n",
      "added columns ['second_fighter_age_new', 'first_fighter_age_new']... deleted columns []\n",
      "[MeanMedianImputer(variables=['agg_height_first_new', 'agg_height_second_new',\n",
      "                             'agg_reach_first_new', 'agg_reach_second_new',\n",
      "                             'second_total_str_%%_new',\n",
      "                             'first_total_str_%%_new', 'first_fighter_age_new',\n",
      "                             'second_fighter_age_new'])] <class 'feature_engine.imputation.mean_median.MeanMedianImputer'>\n"
     ]
    }
   ],
   "source": [
    "res2 = transform_pipe.run()"
   ]
  },
  {
   "cell_type": "markdown",
   "metadata": {},
   "source": [
    "# after "
   ]
  },
  {
   "cell_type": "code",
   "execution_count": 48,
   "metadata": {},
   "outputs": [
    {
     "name": "stdout",
     "output_type": "stream",
     "text": [
      "|    |   agg_height_first_new |   agg_height_second_new |   agg_reach_first_new |   agg_reach_second_new |   second_total_str_%%_new |   first_total_str_%%_new |   weight_class_new |   first_fighter_age_new |   second_fighter_age_new |\n",
      "|---:|-----------------------:|------------------------:|----------------------:|-----------------------:|--------------------------:|-------------------------:|-------------------:|------------------------:|-------------------------:|\n",
      "|  0 |                 193.04 |                  193.04 |                213.36 |                 195.58 |                  0.452471 |                 0.629412 |            92.9675 |                 32.5592 |                  30.1197 |\n",
      "|  1 |                 165.1  |                  175.26 |                167.64 |                 172.72 |                  0.397059 |                 0.695122 |            56.6875 |                 31.924  |                  31.1136 |\n",
      "|  2 |                 195.58 |                  182.88 |                203.2  |                 187.96 |                  0.666667 |                 0.636364 |           120.178  |                 28.0635 |                  26.1552 |\n",
      "|  3 |                 172.72 |                  170.18 |                177.8  |                 180.34 |                  0.547009 |                 0.391892 |            65.7575 |                 28.978  |                  28.5098 |\n",
      "|  4 |                 190.5  |                  177.8  |                200.66 |                 185.42 |                  0.805195 |                 0.465517 |           117.91   |                 35.0014 |                  36.5346 |\n"
     ]
    }
   ],
   "source": [
    "p(res.head(5)[[i for i in res.columns if 'new' in i]])"
   ]
  },
  {
   "cell_type": "markdown",
   "metadata": {},
   "source": [
    "# After Transformed"
   ]
  },
  {
   "cell_type": "code",
   "execution_count": 47,
   "metadata": {},
   "outputs": [
    {
     "name": "stdout",
     "output_type": "stream",
     "text": [
      "|    |   agg_height_first_new |   agg_height_second_new |   agg_reach_first_new |   agg_reach_second_new |   second_total_str_%%_new |   first_total_str_%%_new |   weight_class_new |   first_fighter_age_new |   second_fighter_age_new |\n",
      "|---:|-----------------------:|------------------------:|----------------------:|-----------------------:|--------------------------:|-------------------------:|-------------------:|------------------------:|-------------------------:|\n",
      "|  0 |                 193.04 |                  193.04 |                213.36 |                 195.58 |                  0.452471 |                 0.629412 |            92.9675 |                 32.5592 |                  30.1197 |\n",
      "|  1 |                 165.1  |                  175.26 |                167.64 |                 172.72 |                  0.397059 |                 0.695122 |            56.6875 |                 31.924  |                  31.1136 |\n",
      "|  2 |                 195.58 |                  182.88 |                203.2  |                 187.96 |                  0.666667 |                 0.636364 |           120.178  |                 28.0635 |                  26.1552 |\n",
      "|  3 |                 172.72 |                  170.18 |                177.8  |                 180.34 |                  0.547009 |                 0.391892 |            65.7575 |                 28.978  |                  28.5098 |\n",
      "|  4 |                 190.5  |                  177.8  |                200.66 |                 185.42 |                  0.805195 |                 0.465517 |           117.91   |                 35.0014 |                  36.5346 |\n"
     ]
    }
   ],
   "source": [
    "p(res2.head(5)[[i for i in res.columns if 'new' in i]])"
   ]
  },
  {
   "cell_type": "markdown",
   "metadata": {},
   "source": [
    "# Before"
   ]
  },
  {
   "cell_type": "code",
   "execution_count": 46,
   "metadata": {},
   "outputs": [
    {
     "name": "stdout",
     "output_type": "stream",
     "text": [
      "|    | agg_dob_first   | agg_dob_second   | agg_height_first   | agg_height_second   | agg_reach_first   | agg_reach_second   | agg_stand_first   | agg_stand_second   | agg_str_acc_first   | agg_str_acc_second   | agg_weight_first   | date_card   | first_fighter_res   | first_sig_str_   | first_sig_str_percentage   | first_total_str   | method               | second_sig_str_percentage   | second_total_str   | time   | type   |\n",
      "|---:|:----------------|:-----------------|:-------------------|:--------------------|:------------------|:-------------------|:------------------|:-------------------|:--------------------|:---------------------|:-------------------|:------------|:--------------------|:-----------------|:---------------------------|:------------------|:---------------------|:----------------------------|:-------------------|:-------|:-------|\n",
      "|  0 | 19-Jul-87       | 26-Dec-89        | 6' 4\"              | 6' 4\"               | 84\"               | 77\"                | Orthodox          | Southpaw           | 57%                 | 50%                  | 205 lbs.           | 8-Feb-20    | W                   | 104 of 166       | 62%                        | 107 of 170        | Decision - Unanimous | 44%                         | 119 of 263         | 5:00   | belt   |\n",
      "|  1 | 7-Mar-88        | 28-Dec-88        | 5' 5\"              | 5' 9\"               | 66\"               | 68\"                | Southpaw          | Orthodox           | 51%                 | 35%                  | 125 lbs.           | 8-Feb-20    | W                   | 40 of 65         | 61%                        | 57 of 82          | KO/TKO               | 30%                         | 27 of 68           | 1:03   | belt   |\n",
      "|  2 | 16-Jan-92       | 13-Dec-93        | 6' 5\"              | 6' 0\"               | 80\"               | 74\"                | Orthodox          | Southpaw           | 55%                 | 55%                  | 265 lbs.           | 8-Feb-20    | L                   | 7 of 11          | 63%                        | 7 of 11           | KO/TKO               | 66%                         | 10 of 15           | 1:59   | nan    |\n",
      "|  3 | 16-Feb-91       | 6-Aug-91         | 5' 8\"              | 5' 7\"               | 70\"               | 71\"                | Orthodox          | Orthodox           | 41%                 | 46%                  | 145 lbs.           | 8-Feb-20    | L                   | 17 of 60         | 28%                        | 29 of 74          | Decision - Split     | 48%                         | 64 of 117          | 5:00   | nan    |\n",
      "|  4 | 7-Feb-85        | 28-Jul-83        | 6' 3\"              | 5' 10\"              | 79\"               | 73\"                | Orthodox          | Orthodox           | 50%                 | 39%                  | 260 lbs.           | 8-Feb-20    | W                   | 20 of 50         | 40%                        | 27 of 58          | Decision - Unanimous | 41%                         | 62 of 77           | 5:00   | nan    |\n"
     ]
    }
   ],
   "source": [
    "p(data.head(5))"
   ]
  },
  {
   "cell_type": "code",
   "execution_count": null,
   "metadata": {},
   "outputs": [],
   "source": []
  }
 ],
 "metadata": {
  "kernelspec": {
   "display_name": "Python 3",
   "language": "python",
   "name": "python3"
  },
  "language_info": {
   "codemirror_mode": {
    "name": "ipython",
    "version": 3
   },
   "file_extension": ".py",
   "mimetype": "text/x-python",
   "name": "python",
   "nbconvert_exporter": "python",
   "pygments_lexer": "ipython3",
   "version": "3.7.4"
  }
 },
 "nbformat": 4,
 "nbformat_minor": 4
}
