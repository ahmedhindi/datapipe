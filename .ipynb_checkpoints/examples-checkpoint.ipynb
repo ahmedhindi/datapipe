{
 "cells": [
  {
   "cell_type": "code",
   "execution_count": 327,
   "metadata": {},
   "outputs": [
    {
     "name": "stdout",
     "output_type": "stream",
     "text": [
      "The autoreload extension is already loaded. To reload it, use:\n",
      "  %reload_ext autoreload\n"
     ]
    }
   ],
   "source": [
    "%load_ext autoreload\n",
    "%autoreload 2"
   ]
  },
  {
   "cell_type": "code",
   "execution_count": 328,
   "metadata": {},
   "outputs": [],
   "source": [
    "from dukto.pipe import Pipe\n",
    "from dukto.processor import ColProcessor, MultiColProcessor, Transformer\n",
    "import pandas as pd\n",
    "import numpy as np"
   ]
  },
  {
   "cell_type": "code",
   "execution_count": 329,
   "metadata": {},
   "outputs": [],
   "source": [
    "data  = pd.read_csv('data/ufc.csv', index_col=0)"
   ]
  },
  {
   "cell_type": "markdown",
   "metadata": {},
   "source": [
    "## ColProcessor\n",
    "### applies function/s to a column/s  "
   ]
  },
  {
   "cell_type": "code",
   "execution_count": 330,
   "metadata": {},
   "outputs": [],
   "source": [
    "def convert_foot_to_cm(r):\n",
    "    if isinstance(r, str) and \"'\" in r:\n",
    "        foot, inches = r.split(\"'\")\n",
    "        inches = int(foot)*12 + int(inches.replace('\"', ''))\n",
    "        return inches*2.54\n",
    "    return np.nan\n",
    "\n",
    "def convert_inch_to_cm(r):\n",
    "    if isinstance(r,str) and '\"' in r:\n",
    "        return int(r.replace('\"', '')) * 2.54\n",
    "    return np.nan\n",
    "\n",
    "def num_of_num_to_perc(r):\n",
    "    if isinstance(r,str) and 'of' in r:\n",
    "        thr, landed = map(int, r.split('of'))\n",
    "        if landed > 0:\n",
    "            return thr / landed \n",
    "    return np.nan"
   ]
  },
  {
   "cell_type": "code",
   "execution_count": 336,
   "metadata": {},
   "outputs": [],
   "source": [
    "single_pipe = [\n",
    "    ColProcessor(name=['agg_height_first','agg_height_second'], funcs=[convert_foot_to_cm], funcs_test={\"6'2\\\"\":187.96}, suffix='_new'),\n",
    "    ColProcessor(name=['agg_reach_first','agg_reach_second'], funcs=[convert_inch_to_cm], funcs_test={'70\"': 177.80}, suffix='_new'),\n",
    "    ColProcessor(name=['second_total_str', 'first_total_str'], funcs=[num_of_num_to_perc], suffix='_%%_new', funcs_test={'50 of 100':0.5}),\n",
    "    ColProcessor(name=['agg_dob_first', 'agg_dob_second', 'date_card'], funcs=[pd.to_datetime])\n",
    "]"
   ]
  },
  {
   "cell_type": "code",
   "execution_count": 341,
   "metadata": {},
   "outputs": [],
   "source": [
    "def add_ages(df):\n",
    "    df['first_fighter_age_new'] = df['date_card'] - df['agg_dob_first']\n",
    "    df['second_fighter_age_new'] = df['date_card'] - df['agg_dob_second']\n",
    "    return df\n",
    "\n",
    "def age_in_years(df):\n",
    "    df['first_fighter_age_new'] = df['first_fighter_age_new'].dt.days/365\n",
    "    df['second_fighter_age_new'] = df['first_fighter_age_new'].dt.days/365\n",
    "    return df"
   ]
  },
  {
   "cell_type": "code",
   "execution_count": 338,
   "metadata": {},
   "outputs": [],
   "source": [
    "multi_pipe = [MultiColProcessor(funcs=[add_ages, age_in_years], funcs_test={})]"
   ]
  },
  {
   "cell_type": "code",
   "execution_count": 339,
   "metadata": {},
   "outputs": [],
   "source": [
    "pipe = Pipe(data=data, pipeline=single_pipe+multi_pipe, run_test_cases=True)"
   ]
  },
  {
   "cell_type": "code",
   "execution_count": 340,
   "metadata": {},
   "outputs": [
    {
     "name": "stdout",
     "output_type": "stream",
     "text": [
      "ColProcessor (agg_height_first, agg_height_second) test cases PASSED! 😎\n",
      "ColProcessor (agg_reach_first, agg_reach_second) test cases PASSED! 😎\n",
      "ColProcessor (second_total_str, first_total_str) test cases PASSED! 😎\n",
      "ColProcessor (agg_dob_first, agg_dob_second, date_card) test cases NOT FOUND.\n",
      "  agg_dob_first agg_dob_second agg_height_first agg_height_second  \\\n",
      "0    1987-07-19     1989-12-26            6' 4\"             6' 4\"   \n",
      "1    1988-03-07     1988-12-28            5' 5\"             5' 9\"   \n",
      "\n",
      "  agg_reach_first agg_reach_second       agg_recodr_first agg_recodr_second  \\\n",
      "0             84\"              77\"  Record: 26-1-0 (1 NC)    Record: 12-3-0   \n",
      "1             66\"              68\"         Record: 21-3-0    Record: 16-4-0   \n",
      "\n",
      "  agg_stand_first agg_stand_second  ...  type       weight_class  \\\n",
      "0        Orthodox         Southpaw  ...  belt  Light Heavyweight   \n",
      "1        Southpaw         Orthodox  ...  belt  Women's Flyweight   \n",
      "\n",
      "  agg_height_first_new agg_height_second_new agg_reach_first_new  \\\n",
      "0               193.04                193.04              213.36   \n",
      "1               165.10                175.26              167.64   \n",
      "\n",
      "  agg_reach_second_new second_total_str_%%_new first_total_str_%%_new  \\\n",
      "0               195.58                0.452471               0.629412   \n",
      "1               172.72                0.397059               0.695122   \n",
      "\n",
      "  first_fighter_age_new second_fighter_age_new  \n",
      "0            11892 days             11001 days  \n",
      "1            11660 days             11364 days  \n",
      "\n",
      "[2 rows x 33 columns]\n"
     ]
    },
    {
     "ename": "AttributeError",
     "evalue": "Can only use .dt accessor with datetimelike values",
     "output_type": "error",
     "traceback": [
      "\u001b[1;31m---------------------------------------------------------------------------\u001b[0m",
      "\u001b[1;31mAttributeError\u001b[0m                            Traceback (most recent call last)",
      "\u001b[1;32m<ipython-input-340-975cb74ee0ab>\u001b[0m in \u001b[0;36m<module>\u001b[1;34m\u001b[0m\n\u001b[1;32m----> 1\u001b[1;33m \u001b[0mres\u001b[0m \u001b[1;33m=\u001b[0m \u001b[0mpipe\u001b[0m\u001b[1;33m.\u001b[0m\u001b[0mrun\u001b[0m\u001b[1;33m(\u001b[0m\u001b[1;33m)\u001b[0m\u001b[1;33m\u001b[0m\u001b[1;33m\u001b[0m\u001b[0m\n\u001b[0m",
      "\u001b[1;32mH:\\myprojects\\Process\\dukto\\dukto\\pipe.py\u001b[0m in \u001b[0;36mrun\u001b[1;34m(self)\u001b[0m\n\u001b[0;32m     42\u001b[0m                 \u001b[0mproc\u001b[0m\u001b[1;33m.\u001b[0m\u001b[0mtest\u001b[0m\u001b[1;33m(\u001b[0m\u001b[1;33m)\u001b[0m\u001b[1;33m\u001b[0m\u001b[1;33m\u001b[0m\u001b[0m\n\u001b[0;32m     43\u001b[0m             \u001b[0mt0\u001b[0m \u001b[1;33m=\u001b[0m \u001b[0mtime\u001b[0m\u001b[1;33m.\u001b[0m\u001b[0mtime\u001b[0m\u001b[1;33m(\u001b[0m\u001b[1;33m)\u001b[0m\u001b[1;33m\u001b[0m\u001b[1;33m\u001b[0m\u001b[0m\n\u001b[1;32m---> 44\u001b[1;33m             \u001b[0mnew_data\u001b[0m \u001b[1;33m=\u001b[0m \u001b[0mproc\u001b[0m\u001b[1;33m.\u001b[0m\u001b[0mrun\u001b[0m\u001b[1;33m(\u001b[0m\u001b[0mdata\u001b[0m\u001b[1;33m=\u001b[0m\u001b[0mnew_data\u001b[0m\u001b[1;33m)\u001b[0m\u001b[1;33m\u001b[0m\u001b[1;33m\u001b[0m\u001b[0m\n\u001b[0m\u001b[0;32m     45\u001b[0m             \u001b[0mtime_to_finish\u001b[0m \u001b[1;33m=\u001b[0m \u001b[0mround\u001b[0m\u001b[1;33m(\u001b[0m\u001b[1;33m(\u001b[0m\u001b[0mtime\u001b[0m\u001b[1;33m.\u001b[0m\u001b[0mtime\u001b[0m\u001b[1;33m(\u001b[0m\u001b[1;33m)\u001b[0m \u001b[1;33m-\u001b[0m \u001b[0mt0\u001b[0m\u001b[1;33m)\u001b[0m\u001b[1;33m,\u001b[0m \u001b[1;36m3\u001b[0m\u001b[1;33m)\u001b[0m\u001b[1;33m\u001b[0m\u001b[1;33m\u001b[0m\u001b[0m\n\u001b[0;32m     46\u001b[0m \u001b[1;33m\u001b[0m\u001b[0m\n",
      "\u001b[1;32mH:\\myprojects\\Process\\dukto\\dukto\\processor.py\u001b[0m in \u001b[0;36mrun\u001b[1;34m(self, data)\u001b[0m\n\u001b[0;32m    117\u001b[0m     \u001b[1;32mdef\u001b[0m \u001b[0mrun\u001b[0m\u001b[1;33m(\u001b[0m\u001b[0mself\u001b[0m\u001b[1;33m,\u001b[0m \u001b[0mdata\u001b[0m\u001b[1;33m:\u001b[0m \u001b[0mDataFrame\u001b[0m\u001b[1;33m)\u001b[0m \u001b[1;33m->\u001b[0m \u001b[0mDataFrame\u001b[0m\u001b[1;33m:\u001b[0m\u001b[1;33m\u001b[0m\u001b[1;33m\u001b[0m\u001b[0m\n\u001b[0;32m    118\u001b[0m         \u001b[1;32mfor\u001b[0m \u001b[0mf\u001b[0m \u001b[1;32min\u001b[0m \u001b[0mself\u001b[0m\u001b[1;33m.\u001b[0m\u001b[0mfuncs\u001b[0m\u001b[1;33m:\u001b[0m\u001b[1;33m\u001b[0m\u001b[1;33m\u001b[0m\u001b[0m\n\u001b[1;32m--> 119\u001b[1;33m             \u001b[0mdata\u001b[0m \u001b[1;33m=\u001b[0m \u001b[0mdata\u001b[0m\u001b[1;33m.\u001b[0m\u001b[0mpipe\u001b[0m\u001b[1;33m(\u001b[0m\u001b[0mf\u001b[0m\u001b[1;33m)\u001b[0m\u001b[1;33m\u001b[0m\u001b[1;33m\u001b[0m\u001b[0m\n\u001b[0m\u001b[0;32m    120\u001b[0m             \u001b[0mprint\u001b[0m\u001b[1;33m(\u001b[0m\u001b[0mdata\u001b[0m\u001b[1;33m.\u001b[0m\u001b[0mhead\u001b[0m\u001b[1;33m(\u001b[0m\u001b[1;36m2\u001b[0m\u001b[1;33m)\u001b[0m\u001b[1;33m)\u001b[0m\u001b[1;33m\u001b[0m\u001b[1;33m\u001b[0m\u001b[0m\n\u001b[0;32m    121\u001b[0m         \u001b[1;32mreturn\u001b[0m \u001b[0mdata\u001b[0m\u001b[1;33m\u001b[0m\u001b[1;33m\u001b[0m\u001b[0m\n",
      "\u001b[1;32m~\\AppData\\Local\\Continuum\\anaconda3\\lib\\site-packages\\pandas\\core\\generic.py\u001b[0m in \u001b[0;36mpipe\u001b[1;34m(self, func, *args, **kwargs)\u001b[0m\n\u001b[0;32m   5404\u001b[0m         ...  )  # doctest: +SKIP\n\u001b[0;32m   5405\u001b[0m         \"\"\"\n\u001b[1;32m-> 5406\u001b[1;33m         \u001b[1;32mreturn\u001b[0m \u001b[0mcom\u001b[0m\u001b[1;33m.\u001b[0m\u001b[0mpipe\u001b[0m\u001b[1;33m(\u001b[0m\u001b[0mself\u001b[0m\u001b[1;33m,\u001b[0m \u001b[0mfunc\u001b[0m\u001b[1;33m,\u001b[0m \u001b[1;33m*\u001b[0m\u001b[0margs\u001b[0m\u001b[1;33m,\u001b[0m \u001b[1;33m**\u001b[0m\u001b[0mkwargs\u001b[0m\u001b[1;33m)\u001b[0m\u001b[1;33m\u001b[0m\u001b[1;33m\u001b[0m\u001b[0m\n\u001b[0m\u001b[0;32m   5407\u001b[0m \u001b[1;33m\u001b[0m\u001b[0m\n\u001b[0;32m   5408\u001b[0m     \u001b[1;31m# ----------------------------------------------------------------------\u001b[0m\u001b[1;33m\u001b[0m\u001b[1;33m\u001b[0m\u001b[1;33m\u001b[0m\u001b[0m\n",
      "\u001b[1;32m~\\AppData\\Local\\Continuum\\anaconda3\\lib\\site-packages\\pandas\\core\\common.py\u001b[0m in \u001b[0;36mpipe\u001b[1;34m(obj, func, *args, **kwargs)\u001b[0m\n\u001b[0;32m    438\u001b[0m         \u001b[1;32mreturn\u001b[0m \u001b[0mfunc\u001b[0m\u001b[1;33m(\u001b[0m\u001b[1;33m*\u001b[0m\u001b[0margs\u001b[0m\u001b[1;33m,\u001b[0m \u001b[1;33m**\u001b[0m\u001b[0mkwargs\u001b[0m\u001b[1;33m)\u001b[0m\u001b[1;33m\u001b[0m\u001b[1;33m\u001b[0m\u001b[0m\n\u001b[0;32m    439\u001b[0m     \u001b[1;32melse\u001b[0m\u001b[1;33m:\u001b[0m\u001b[1;33m\u001b[0m\u001b[1;33m\u001b[0m\u001b[0m\n\u001b[1;32m--> 440\u001b[1;33m         \u001b[1;32mreturn\u001b[0m \u001b[0mfunc\u001b[0m\u001b[1;33m(\u001b[0m\u001b[0mobj\u001b[0m\u001b[1;33m,\u001b[0m \u001b[1;33m*\u001b[0m\u001b[0margs\u001b[0m\u001b[1;33m,\u001b[0m \u001b[1;33m**\u001b[0m\u001b[0mkwargs\u001b[0m\u001b[1;33m)\u001b[0m\u001b[1;33m\u001b[0m\u001b[1;33m\u001b[0m\u001b[0m\n\u001b[0m\u001b[0;32m    441\u001b[0m \u001b[1;33m\u001b[0m\u001b[0m\n\u001b[0;32m    442\u001b[0m \u001b[1;33m\u001b[0m\u001b[0m\n",
      "\u001b[1;32m<ipython-input-337-5a27a36f4ccc>\u001b[0m in \u001b[0;36mage_in_years\u001b[1;34m(df)\u001b[0m\n\u001b[0;32m      5\u001b[0m \u001b[1;32mdef\u001b[0m \u001b[0mage_in_years\u001b[0m\u001b[1;33m(\u001b[0m\u001b[0mdf\u001b[0m\u001b[1;33m)\u001b[0m\u001b[1;33m:\u001b[0m\u001b[1;33m\u001b[0m\u001b[1;33m\u001b[0m\u001b[0m\n\u001b[0;32m      6\u001b[0m     \u001b[0mdf\u001b[0m\u001b[1;33m[\u001b[0m\u001b[1;34m'first_fighter_age_new'\u001b[0m\u001b[1;33m]\u001b[0m \u001b[1;33m=\u001b[0m \u001b[1;33m(\u001b[0m\u001b[0mdf\u001b[0m\u001b[1;33m[\u001b[0m\u001b[1;34m'first_fighter_age_new'\u001b[0m\u001b[1;33m]\u001b[0m\u001b[1;33m.\u001b[0m\u001b[0mdt\u001b[0m\u001b[1;33m.\u001b[0m\u001b[0mdays\u001b[0m\u001b[1;33m/\u001b[0m\u001b[1;36m365\u001b[0m\u001b[1;33m)\u001b[0m\u001b[1;33m\u001b[0m\u001b[1;33m\u001b[0m\u001b[0m\n\u001b[1;32m----> 7\u001b[1;33m     \u001b[0mdf\u001b[0m\u001b[1;33m[\u001b[0m\u001b[1;34m'second_fighter_age_new'\u001b[0m\u001b[1;33m]\u001b[0m \u001b[1;33m=\u001b[0m \u001b[1;33m(\u001b[0m\u001b[0mdf\u001b[0m\u001b[1;33m[\u001b[0m\u001b[1;34m'first_fighter_age_new'\u001b[0m\u001b[1;33m]\u001b[0m\u001b[1;33m.\u001b[0m\u001b[0mdt\u001b[0m\u001b[1;33m.\u001b[0m\u001b[0mdays\u001b[0m\u001b[1;33m/\u001b[0m\u001b[1;36m365\u001b[0m\u001b[1;33m)\u001b[0m\u001b[1;33m\u001b[0m\u001b[1;33m\u001b[0m\u001b[0m\n\u001b[0m\u001b[0;32m      8\u001b[0m     \u001b[1;32mreturn\u001b[0m \u001b[0mdf\u001b[0m\u001b[1;33m\u001b[0m\u001b[1;33m\u001b[0m\u001b[0m\n",
      "\u001b[1;32m~\\AppData\\Local\\Continuum\\anaconda3\\lib\\site-packages\\pandas\\core\\generic.py\u001b[0m in \u001b[0;36m__getattr__\u001b[1;34m(self, name)\u001b[0m\n\u001b[0;32m   5459\u001b[0m             \u001b[1;32mor\u001b[0m \u001b[0mname\u001b[0m \u001b[1;32min\u001b[0m \u001b[0mself\u001b[0m\u001b[1;33m.\u001b[0m\u001b[0m_accessors\u001b[0m\u001b[1;33m\u001b[0m\u001b[1;33m\u001b[0m\u001b[0m\n\u001b[0;32m   5460\u001b[0m         ):\n\u001b[1;32m-> 5461\u001b[1;33m             \u001b[1;32mreturn\u001b[0m \u001b[0mobject\u001b[0m\u001b[1;33m.\u001b[0m\u001b[0m__getattribute__\u001b[0m\u001b[1;33m(\u001b[0m\u001b[0mself\u001b[0m\u001b[1;33m,\u001b[0m \u001b[0mname\u001b[0m\u001b[1;33m)\u001b[0m\u001b[1;33m\u001b[0m\u001b[1;33m\u001b[0m\u001b[0m\n\u001b[0m\u001b[0;32m   5462\u001b[0m         \u001b[1;32melse\u001b[0m\u001b[1;33m:\u001b[0m\u001b[1;33m\u001b[0m\u001b[1;33m\u001b[0m\u001b[0m\n\u001b[0;32m   5463\u001b[0m             \u001b[1;32mif\u001b[0m \u001b[0mself\u001b[0m\u001b[1;33m.\u001b[0m\u001b[0m_info_axis\u001b[0m\u001b[1;33m.\u001b[0m\u001b[0m_can_hold_identifiers_and_holds_name\u001b[0m\u001b[1;33m(\u001b[0m\u001b[0mname\u001b[0m\u001b[1;33m)\u001b[0m\u001b[1;33m:\u001b[0m\u001b[1;33m\u001b[0m\u001b[1;33m\u001b[0m\u001b[0m\n",
      "\u001b[1;32m~\\AppData\\Local\\Continuum\\anaconda3\\lib\\site-packages\\pandas\\core\\accessor.py\u001b[0m in \u001b[0;36m__get__\u001b[1;34m(self, obj, cls)\u001b[0m\n\u001b[0;32m    178\u001b[0m             \u001b[1;31m# we're accessing the attribute of the class, i.e., Dataset.geo\u001b[0m\u001b[1;33m\u001b[0m\u001b[1;33m\u001b[0m\u001b[1;33m\u001b[0m\u001b[0m\n\u001b[0;32m    179\u001b[0m             \u001b[1;32mreturn\u001b[0m \u001b[0mself\u001b[0m\u001b[1;33m.\u001b[0m\u001b[0m_accessor\u001b[0m\u001b[1;33m\u001b[0m\u001b[1;33m\u001b[0m\u001b[0m\n\u001b[1;32m--> 180\u001b[1;33m         \u001b[0maccessor_obj\u001b[0m \u001b[1;33m=\u001b[0m \u001b[0mself\u001b[0m\u001b[1;33m.\u001b[0m\u001b[0m_accessor\u001b[0m\u001b[1;33m(\u001b[0m\u001b[0mobj\u001b[0m\u001b[1;33m)\u001b[0m\u001b[1;33m\u001b[0m\u001b[1;33m\u001b[0m\u001b[0m\n\u001b[0m\u001b[0;32m    181\u001b[0m         \u001b[1;31m# Replace the property with the accessor object. Inspired by:\u001b[0m\u001b[1;33m\u001b[0m\u001b[1;33m\u001b[0m\u001b[1;33m\u001b[0m\u001b[0m\n\u001b[0;32m    182\u001b[0m         \u001b[1;31m# https://www.pydanny.com/cached-property.html\u001b[0m\u001b[1;33m\u001b[0m\u001b[1;33m\u001b[0m\u001b[1;33m\u001b[0m\u001b[0m\n",
      "\u001b[1;32m~\\AppData\\Local\\Continuum\\anaconda3\\lib\\site-packages\\pandas\\core\\indexes\\accessors.py\u001b[0m in \u001b[0;36m__new__\u001b[1;34m(cls, data)\u001b[0m\n\u001b[0;32m    492\u001b[0m             \u001b[1;32mreturn\u001b[0m \u001b[0mPeriodProperties\u001b[0m\u001b[1;33m(\u001b[0m\u001b[0mdata\u001b[0m\u001b[1;33m,\u001b[0m \u001b[0morig\u001b[0m\u001b[1;33m)\u001b[0m\u001b[1;33m\u001b[0m\u001b[1;33m\u001b[0m\u001b[0m\n\u001b[0;32m    493\u001b[0m \u001b[1;33m\u001b[0m\u001b[0m\n\u001b[1;32m--> 494\u001b[1;33m         \u001b[1;32mraise\u001b[0m \u001b[0mAttributeError\u001b[0m\u001b[1;33m(\u001b[0m\u001b[1;34m\"Can only use .dt accessor with datetimelike values\"\u001b[0m\u001b[1;33m)\u001b[0m\u001b[1;33m\u001b[0m\u001b[1;33m\u001b[0m\u001b[0m\n\u001b[0m",
      "\u001b[1;31mAttributeError\u001b[0m: Can only use .dt accessor with datetimelike values"
     ]
    }
   ],
   "source": [
    "res = pipe.run()"
   ]
  },
  {
   "cell_type": "code",
   "execution_count": 317,
   "metadata": {},
   "outputs": [
    {
     "data": {
      "text/plain": [
       "0       32.580822\n",
       "1       31.945205\n",
       "2       28.082192\n",
       "3       28.997260\n",
       "4       35.024658\n",
       "          ...    \n",
       "5918    27.876712\n",
       "5919    27.241096\n",
       "5920    31.997260\n",
       "5921    32.389041\n",
       "5922    23.715068\n",
       "Name: first_fighter_age_new, Length: 5923, dtype: float64"
      ]
     },
     "execution_count": 317,
     "metadata": {},
     "output_type": "execute_result"
    }
   ],
   "source": [
    "res['first_fighter_age_new'].dt.days/365"
   ]
  },
  {
   "cell_type": "code",
   "execution_count": null,
   "metadata": {},
   "outputs": [],
   "source": []
  },
  {
   "cell_type": "code",
   "execution_count": 70,
   "metadata": {},
   "outputs": [
    {
     "ename": "SyntaxError",
     "evalue": "invalid syntax (<ipython-input-70-3697cfdfb3d0>, line 11)",
     "output_type": "error",
     "traceback": [
      "\u001b[1;36m  File \u001b[1;32m\"<ipython-input-70-3697cfdfb3d0>\"\u001b[1;36m, line \u001b[1;32m11\u001b[0m\n\u001b[1;33m    funcs_test={'156cm': 156, ''},\u001b[0m\n\u001b[1;37m                                ^\u001b[0m\n\u001b[1;31mSyntaxError\u001b[0m\u001b[1;31m:\u001b[0m invalid syntax\n"
     ]
    }
   ],
   "source": [
    "\n",
    "# ColProcessor \n",
    "pipeline = [\n",
    "    ColProcessor('chem_grade',\n",
    "                 funcs=[lambda x:(int(x.split('/')[0])/60)*100, int], \n",
    "                 funcs_test={'26/60':43},\n",
    "                drop=True),\n",
    "    ColProcessor(['phy_grade', 'bio_grade'], \n",
    "                 funcs=lambda x:int(x)),\n",
    "    ColProcessor('age', \n",
    "                 funcs=lambda x:int(x[:-1])/12 if 'm' in x else int(x)),\n",
    "    ColProcessor('height',\n",
    "                 funcs_test={'156cm': 156, ''},\n",
    "                 funcs=lambda x:float(x[:-2])*2.54),\n",
    "    ColProcessor('grade',\n",
    "                 funcs=[grade_prod_mapper, lambda x:int(x[:-2])], \n",
    "                 suffix='_new')\n",
    "]"
   ]
  },
  {
   "cell_type": "code",
   "execution_count": 47,
   "metadata": {},
   "outputs": [
    {
     "data": {
      "text/html": [
       "<div>\n",
       "<style scoped>\n",
       "    .dataframe tbody tr th:only-of-type {\n",
       "        vertical-align: middle;\n",
       "    }\n",
       "\n",
       "    .dataframe tbody tr th {\n",
       "        vertical-align: top;\n",
       "    }\n",
       "\n",
       "    .dataframe thead th {\n",
       "        text-align: right;\n",
       "    }\n",
       "</style>\n",
       "<table border=\"1\" class=\"dataframe\">\n",
       "  <thead>\n",
       "    <tr style=\"text-align: right;\">\n",
       "      <th></th>\n",
       "      <th>name</th>\n",
       "      <th>chem_grade</th>\n",
       "      <th>phy_grade</th>\n",
       "      <th>bio_grade</th>\n",
       "      <th>age</th>\n",
       "      <th>height</th>\n",
       "      <th>grade</th>\n",
       "      <th>class</th>\n",
       "    </tr>\n",
       "  </thead>\n",
       "  <tbody>\n",
       "    <tr>\n",
       "      <th>0</th>\n",
       "      <td>Jalyiah Darcey</td>\n",
       "      <td>26/60</td>\n",
       "      <td>77.0</td>\n",
       "      <td>17</td>\n",
       "      <td>17</td>\n",
       "      <td>156cm</td>\n",
       "      <td>Freshman</td>\n",
       "      <td>NaN</td>\n",
       "    </tr>\n",
       "    <tr>\n",
       "      <th>1</th>\n",
       "      <td>Eunita Beahm</td>\n",
       "      <td>11/60</td>\n",
       "      <td>56.0</td>\n",
       "      <td>67</td>\n",
       "      <td>184m</td>\n",
       "      <td>164cm</td>\n",
       "      <td>Freshman</td>\n",
       "      <td>C</td>\n",
       "    </tr>\n",
       "    <tr>\n",
       "      <th>2</th>\n",
       "      <td>Guluzar Bernand</td>\n",
       "      <td>42/60</td>\n",
       "      <td>97.0</td>\n",
       "      <td>65</td>\n",
       "      <td>18</td>\n",
       "      <td>157cm</td>\n",
       "      <td>Freshman</td>\n",
       "      <td>A</td>\n",
       "    </tr>\n",
       "    <tr>\n",
       "      <th>3</th>\n",
       "      <td>Jonatham Mcnicoll</td>\n",
       "      <td>57/60</td>\n",
       "      <td>68.0</td>\n",
       "      <td>92</td>\n",
       "      <td>17</td>\n",
       "      <td>149cm</td>\n",
       "      <td>Freshman</td>\n",
       "      <td>B</td>\n",
       "    </tr>\n",
       "    <tr>\n",
       "      <th>4</th>\n",
       "      <td>Greison Hisrich</td>\n",
       "      <td>56/60</td>\n",
       "      <td>96.0</td>\n",
       "      <td>49</td>\n",
       "      <td>14</td>\n",
       "      <td>163cm</td>\n",
       "      <td>Freshman</td>\n",
       "      <td>C</td>\n",
       "    </tr>\n",
       "    <tr>\n",
       "      <th>...</th>\n",
       "      <td>...</td>\n",
       "      <td>...</td>\n",
       "      <td>...</td>\n",
       "      <td>...</td>\n",
       "      <td>...</td>\n",
       "      <td>...</td>\n",
       "      <td>...</td>\n",
       "      <td>...</td>\n",
       "    </tr>\n",
       "    <tr>\n",
       "      <th>281</th>\n",
       "      <td>Bremen Hewatt</td>\n",
       "      <td>44/60</td>\n",
       "      <td>67.0</td>\n",
       "      <td>46</td>\n",
       "      <td>14</td>\n",
       "      <td>134cm</td>\n",
       "      <td>Freshman</td>\n",
       "      <td>B</td>\n",
       "    </tr>\n",
       "    <tr>\n",
       "      <th>282</th>\n",
       "      <td>Venerino Billey</td>\n",
       "      <td>16/60</td>\n",
       "      <td>63.0</td>\n",
       "      <td>60</td>\n",
       "      <td>17</td>\n",
       "      <td>130cm</td>\n",
       "      <td>Freshman</td>\n",
       "      <td>C</td>\n",
       "    </tr>\n",
       "    <tr>\n",
       "      <th>283</th>\n",
       "      <td>Aylmar Berken</td>\n",
       "      <td>33/60</td>\n",
       "      <td>47.0</td>\n",
       "      <td>96</td>\n",
       "      <td>18</td>\n",
       "      <td>155cm</td>\n",
       "      <td>Freshman</td>\n",
       "      <td>C</td>\n",
       "    </tr>\n",
       "    <tr>\n",
       "      <th>284</th>\n",
       "      <td>Lhiam Roysum</td>\n",
       "      <td>35/60</td>\n",
       "      <td>31.0</td>\n",
       "      <td>76</td>\n",
       "      <td>14</td>\n",
       "      <td>167cm</td>\n",
       "      <td>Freshman</td>\n",
       "      <td>C</td>\n",
       "    </tr>\n",
       "    <tr>\n",
       "      <th>285</th>\n",
       "      <td>Lagena Kan</td>\n",
       "      <td>12/60</td>\n",
       "      <td>55.0</td>\n",
       "      <td>83</td>\n",
       "      <td>18</td>\n",
       "      <td>132cm</td>\n",
       "      <td>Freshman</td>\n",
       "      <td>C</td>\n",
       "    </tr>\n",
       "  </tbody>\n",
       "</table>\n",
       "<p>286 rows × 8 columns</p>\n",
       "</div>"
      ],
      "text/plain": [
       "                  name chem_grade  phy_grade  bio_grade   age height  \\\n",
       "0       Jalyiah Darcey      26/60       77.0         17    17  156cm   \n",
       "1         Eunita Beahm      11/60       56.0         67  184m  164cm   \n",
       "2      Guluzar Bernand      42/60       97.0         65    18  157cm   \n",
       "3    Jonatham Mcnicoll      57/60       68.0         92    17  149cm   \n",
       "4      Greison Hisrich      56/60       96.0         49    14  163cm   \n",
       "..                 ...        ...        ...        ...   ...    ...   \n",
       "281      Bremen Hewatt      44/60       67.0         46    14  134cm   \n",
       "282    Venerino Billey      16/60       63.0         60    17  130cm   \n",
       "283      Aylmar Berken      33/60       47.0         96    18  155cm   \n",
       "284       Lhiam Roysum      35/60       31.0         76    14  167cm   \n",
       "285         Lagena Kan      12/60       55.0         83    18  132cm   \n",
       "\n",
       "        grade class  \n",
       "0    Freshman   NaN  \n",
       "1    Freshman     C  \n",
       "2    Freshman     A  \n",
       "3    Freshman     B  \n",
       "4    Freshman     C  \n",
       "..        ...   ...  \n",
       "281  Freshman     B  \n",
       "282  Freshman     C  \n",
       "283  Freshman     C  \n",
       "284  Freshman     C  \n",
       "285  Freshman     C  \n",
       "\n",
       "[286 rows x 8 columns]"
      ]
     },
     "execution_count": 47,
     "metadata": {},
     "output_type": "execute_result"
    }
   ],
   "source": [
    "data"
   ]
  },
  {
   "cell_type": "markdown",
   "metadata": {},
   "source": [
    "## MultiColProcessor\n",
    "\n",
    "## applies a function that takes and returns a dataframe\n",
    "## this class is used to add columns based on other column/s"
   ]
  },
  {
   "cell_type": "code",
   "execution_count": 16,
   "metadata": {},
   "outputs": [],
   "source": [
    "def avg_grade(df):\n",
    "    df['avg_grade'] = df[['chem_grade','phy_grade','bio_grade']].mean(axis=1)\n",
    "    return df\n",
    "\n",
    "multi_pipe = [\n",
    "    MultiColProcessor(funcs=[avg_grade], funcs_test={})\n",
    "] "
   ]
  },
  {
   "cell_type": "markdown",
   "metadata": {},
   "source": [
    "## Transformer\n",
    "\n",
    "### applies a feature_engine style transformer to a column/s"
   ]
  },
  {
   "cell_type": "code",
   "execution_count": 40,
   "metadata": {},
   "outputs": [],
   "source": [
    "from feature_engine.encoding import CountFrequencyEncoder\n",
    "from feature_engine.imputation import MeanMedianImputer, CategoricalImputer\n",
    "# add school name so you can encode it\n",
    "\n",
    "transformers = [\n",
    "    Transformer(name=['phy_grade'], transformers=[MeanMedianImputer]),\n",
    "    Transformer(name=['class'], transformers=[CategoricalImputer,CountFrequencyEncoder]),\n",
    "#     Transformer(name=['class'], transformers=[CountFrequencyEncoder]),\n",
    "]"
   ]
  },
  {
   "cell_type": "code",
   "execution_count": 41,
   "metadata": {},
   "outputs": [],
   "source": [
    "# add all pipelines\n",
    "all_pipes = transformers + pipeline + multi_pipe "
   ]
  },
  {
   "cell_type": "code",
   "execution_count": 42,
   "metadata": {},
   "outputs": [
    {
     "data": {
      "text/plain": [
       "[Transformer(phy_grade),\n",
       " Transformer(class),\n",
       " ColProcessor(chem_grade),\n",
       " ColProcessor(phy_grade, bio_grade),\n",
       " ColProcessor(age),\n",
       " ColProcessor(height),\n",
       " ColProcessor(grade),\n",
       " MultiColProcessor()]"
      ]
     },
     "execution_count": 42,
     "metadata": {},
     "output_type": "execute_result"
    }
   ],
   "source": [
    "all_pipes"
   ]
  },
  {
   "cell_type": "code",
   "execution_count": 43,
   "metadata": {},
   "outputs": [],
   "source": [
    "pipe = Pipe(data=data, pipeline=all_pipes, run_test_cases=True)"
   ]
  },
  {
   "cell_type": "markdown",
   "metadata": {},
   "source": [
    "## After"
   ]
  },
  {
   "cell_type": "code",
   "execution_count": 44,
   "metadata": {},
   "outputs": [
    {
     "name": "stdout",
     "output_type": "stream",
     "text": [
      "ColProcessor (chem_grade)                   test cases PASSED! 😎\n",
      "ColProcessor (phy_grade, bio_grade)         test cases NOT FOUND.\n",
      "ColProcessor (age)                          test cases NOT FOUND.\n",
      "ColProcessor (height)                       test cases NOT FOUND.\n",
      "ColProcessor (grade)                        test cases NOT FOUND.\n"
     ]
    },
    {
     "data": {
      "text/html": [
       "<div>\n",
       "<style scoped>\n",
       "    .dataframe tbody tr th:only-of-type {\n",
       "        vertical-align: middle;\n",
       "    }\n",
       "\n",
       "    .dataframe tbody tr th {\n",
       "        vertical-align: top;\n",
       "    }\n",
       "\n",
       "    .dataframe thead th {\n",
       "        text-align: right;\n",
       "    }\n",
       "</style>\n",
       "<table border=\"1\" class=\"dataframe\">\n",
       "  <thead>\n",
       "    <tr style=\"text-align: right;\">\n",
       "      <th></th>\n",
       "      <th>name</th>\n",
       "      <th>chem_grade</th>\n",
       "      <th>phy_grade</th>\n",
       "      <th>bio_grade</th>\n",
       "      <th>age</th>\n",
       "      <th>height</th>\n",
       "      <th>grade</th>\n",
       "      <th>class</th>\n",
       "      <th>grade_new</th>\n",
       "      <th>avg_grade</th>\n",
       "    </tr>\n",
       "  </thead>\n",
       "  <tbody>\n",
       "    <tr>\n",
       "      <th>0</th>\n",
       "      <td>Jalyiah Darcey</td>\n",
       "      <td>43</td>\n",
       "      <td>77</td>\n",
       "      <td>17</td>\n",
       "      <td>17.000000</td>\n",
       "      <td>396.24</td>\n",
       "      <td>Freshman</td>\n",
       "      <td>17</td>\n",
       "      <td>9</td>\n",
       "      <td>45.666667</td>\n",
       "    </tr>\n",
       "    <tr>\n",
       "      <th>1</th>\n",
       "      <td>Eunita Beahm</td>\n",
       "      <td>18</td>\n",
       "      <td>56</td>\n",
       "      <td>67</td>\n",
       "      <td>15.333333</td>\n",
       "      <td>416.56</td>\n",
       "      <td>Freshman</td>\n",
       "      <td>131</td>\n",
       "      <td>9</td>\n",
       "      <td>47.000000</td>\n",
       "    </tr>\n",
       "    <tr>\n",
       "      <th>2</th>\n",
       "      <td>Guluzar Bernand</td>\n",
       "      <td>70</td>\n",
       "      <td>97</td>\n",
       "      <td>65</td>\n",
       "      <td>18.000000</td>\n",
       "      <td>398.78</td>\n",
       "      <td>Freshman</td>\n",
       "      <td>53</td>\n",
       "      <td>9</td>\n",
       "      <td>77.333333</td>\n",
       "    </tr>\n",
       "    <tr>\n",
       "      <th>3</th>\n",
       "      <td>Jonatham Mcnicoll</td>\n",
       "      <td>95</td>\n",
       "      <td>68</td>\n",
       "      <td>92</td>\n",
       "      <td>17.000000</td>\n",
       "      <td>378.46</td>\n",
       "      <td>Freshman</td>\n",
       "      <td>85</td>\n",
       "      <td>9</td>\n",
       "      <td>85.000000</td>\n",
       "    </tr>\n",
       "    <tr>\n",
       "      <th>4</th>\n",
       "      <td>Greison Hisrich</td>\n",
       "      <td>93</td>\n",
       "      <td>96</td>\n",
       "      <td>49</td>\n",
       "      <td>14.000000</td>\n",
       "      <td>414.02</td>\n",
       "      <td>Freshman</td>\n",
       "      <td>131</td>\n",
       "      <td>9</td>\n",
       "      <td>79.333333</td>\n",
       "    </tr>\n",
       "    <tr>\n",
       "      <th>...</th>\n",
       "      <td>...</td>\n",
       "      <td>...</td>\n",
       "      <td>...</td>\n",
       "      <td>...</td>\n",
       "      <td>...</td>\n",
       "      <td>...</td>\n",
       "      <td>...</td>\n",
       "      <td>...</td>\n",
       "      <td>...</td>\n",
       "      <td>...</td>\n",
       "    </tr>\n",
       "    <tr>\n",
       "      <th>281</th>\n",
       "      <td>Bremen Hewatt</td>\n",
       "      <td>73</td>\n",
       "      <td>67</td>\n",
       "      <td>46</td>\n",
       "      <td>14.000000</td>\n",
       "      <td>340.36</td>\n",
       "      <td>Freshman</td>\n",
       "      <td>85</td>\n",
       "      <td>9</td>\n",
       "      <td>62.000000</td>\n",
       "    </tr>\n",
       "    <tr>\n",
       "      <th>282</th>\n",
       "      <td>Venerino Billey</td>\n",
       "      <td>26</td>\n",
       "      <td>63</td>\n",
       "      <td>60</td>\n",
       "      <td>17.000000</td>\n",
       "      <td>330.20</td>\n",
       "      <td>Freshman</td>\n",
       "      <td>131</td>\n",
       "      <td>9</td>\n",
       "      <td>49.666667</td>\n",
       "    </tr>\n",
       "    <tr>\n",
       "      <th>283</th>\n",
       "      <td>Aylmar Berken</td>\n",
       "      <td>55</td>\n",
       "      <td>47</td>\n",
       "      <td>96</td>\n",
       "      <td>18.000000</td>\n",
       "      <td>393.70</td>\n",
       "      <td>Freshman</td>\n",
       "      <td>131</td>\n",
       "      <td>9</td>\n",
       "      <td>66.000000</td>\n",
       "    </tr>\n",
       "    <tr>\n",
       "      <th>284</th>\n",
       "      <td>Lhiam Roysum</td>\n",
       "      <td>58</td>\n",
       "      <td>31</td>\n",
       "      <td>76</td>\n",
       "      <td>14.000000</td>\n",
       "      <td>424.18</td>\n",
       "      <td>Freshman</td>\n",
       "      <td>131</td>\n",
       "      <td>9</td>\n",
       "      <td>55.000000</td>\n",
       "    </tr>\n",
       "    <tr>\n",
       "      <th>285</th>\n",
       "      <td>Lagena Kan</td>\n",
       "      <td>20</td>\n",
       "      <td>55</td>\n",
       "      <td>83</td>\n",
       "      <td>18.000000</td>\n",
       "      <td>335.28</td>\n",
       "      <td>Freshman</td>\n",
       "      <td>131</td>\n",
       "      <td>9</td>\n",
       "      <td>52.666667</td>\n",
       "    </tr>\n",
       "  </tbody>\n",
       "</table>\n",
       "<p>286 rows × 10 columns</p>\n",
       "</div>"
      ],
      "text/plain": [
       "                  name  chem_grade  phy_grade  bio_grade        age  height  \\\n",
       "0       Jalyiah Darcey          43         77         17  17.000000  396.24   \n",
       "1         Eunita Beahm          18         56         67  15.333333  416.56   \n",
       "2      Guluzar Bernand          70         97         65  18.000000  398.78   \n",
       "3    Jonatham Mcnicoll          95         68         92  17.000000  378.46   \n",
       "4      Greison Hisrich          93         96         49  14.000000  414.02   \n",
       "..                 ...         ...        ...        ...        ...     ...   \n",
       "281      Bremen Hewatt          73         67         46  14.000000  340.36   \n",
       "282    Venerino Billey          26         63         60  17.000000  330.20   \n",
       "283      Aylmar Berken          55         47         96  18.000000  393.70   \n",
       "284       Lhiam Roysum          58         31         76  14.000000  424.18   \n",
       "285         Lagena Kan          20         55         83  18.000000  335.28   \n",
       "\n",
       "        grade  class  grade_new  avg_grade  \n",
       "0    Freshman     17          9  45.666667  \n",
       "1    Freshman    131          9  47.000000  \n",
       "2    Freshman     53          9  77.333333  \n",
       "3    Freshman     85          9  85.000000  \n",
       "4    Freshman    131          9  79.333333  \n",
       "..        ...    ...        ...        ...  \n",
       "281  Freshman     85          9  62.000000  \n",
       "282  Freshman    131          9  49.666667  \n",
       "283  Freshman    131          9  66.000000  \n",
       "284  Freshman    131          9  55.000000  \n",
       "285  Freshman    131          9  52.666667  \n",
       "\n",
       "[286 rows x 10 columns]"
      ]
     },
     "execution_count": 44,
     "metadata": {},
     "output_type": "execute_result"
    }
   ],
   "source": [
    "pipe.run()"
   ]
  },
  {
   "cell_type": "markdown",
   "metadata": {},
   "source": [
    "## Before"
   ]
  },
  {
   "cell_type": "code",
   "execution_count": 22,
   "metadata": {},
   "outputs": [
    {
     "data": {
      "text/html": [
       "<div>\n",
       "<style scoped>\n",
       "    .dataframe tbody tr th:only-of-type {\n",
       "        vertical-align: middle;\n",
       "    }\n",
       "\n",
       "    .dataframe tbody tr th {\n",
       "        vertical-align: top;\n",
       "    }\n",
       "\n",
       "    .dataframe thead th {\n",
       "        text-align: right;\n",
       "    }\n",
       "</style>\n",
       "<table border=\"1\" class=\"dataframe\">\n",
       "  <thead>\n",
       "    <tr style=\"text-align: right;\">\n",
       "      <th></th>\n",
       "      <th>name</th>\n",
       "      <th>chem_grade</th>\n",
       "      <th>phy_grade</th>\n",
       "      <th>bio_grade</th>\n",
       "      <th>age</th>\n",
       "      <th>height</th>\n",
       "      <th>grade</th>\n",
       "      <th>class</th>\n",
       "    </tr>\n",
       "  </thead>\n",
       "  <tbody>\n",
       "    <tr>\n",
       "      <th>0</th>\n",
       "      <td>Jalyiah Darcey</td>\n",
       "      <td>26/60</td>\n",
       "      <td>77.0</td>\n",
       "      <td>17</td>\n",
       "      <td>17</td>\n",
       "      <td>156cm</td>\n",
       "      <td>Freshman</td>\n",
       "      <td>NaN</td>\n",
       "    </tr>\n",
       "    <tr>\n",
       "      <th>1</th>\n",
       "      <td>Eunita Beahm</td>\n",
       "      <td>11/60</td>\n",
       "      <td>56.0</td>\n",
       "      <td>67</td>\n",
       "      <td>184m</td>\n",
       "      <td>164cm</td>\n",
       "      <td>Freshman</td>\n",
       "      <td>C</td>\n",
       "    </tr>\n",
       "    <tr>\n",
       "      <th>2</th>\n",
       "      <td>Guluzar Bernand</td>\n",
       "      <td>42/60</td>\n",
       "      <td>97.0</td>\n",
       "      <td>65</td>\n",
       "      <td>18</td>\n",
       "      <td>157cm</td>\n",
       "      <td>Freshman</td>\n",
       "      <td>A</td>\n",
       "    </tr>\n",
       "    <tr>\n",
       "      <th>3</th>\n",
       "      <td>Jonatham Mcnicoll</td>\n",
       "      <td>57/60</td>\n",
       "      <td>68.0</td>\n",
       "      <td>92</td>\n",
       "      <td>17</td>\n",
       "      <td>149cm</td>\n",
       "      <td>Freshman</td>\n",
       "      <td>B</td>\n",
       "    </tr>\n",
       "    <tr>\n",
       "      <th>4</th>\n",
       "      <td>Greison Hisrich</td>\n",
       "      <td>56/60</td>\n",
       "      <td>96.0</td>\n",
       "      <td>49</td>\n",
       "      <td>14</td>\n",
       "      <td>163cm</td>\n",
       "      <td>Freshman</td>\n",
       "      <td>C</td>\n",
       "    </tr>\n",
       "  </tbody>\n",
       "</table>\n",
       "</div>"
      ],
      "text/plain": [
       "                name chem_grade  phy_grade  bio_grade   age height     grade  \\\n",
       "0     Jalyiah Darcey      26/60       77.0         17    17  156cm  Freshman   \n",
       "1       Eunita Beahm      11/60       56.0         67  184m  164cm  Freshman   \n",
       "2    Guluzar Bernand      42/60       97.0         65    18  157cm  Freshman   \n",
       "3  Jonatham Mcnicoll      57/60       68.0         92    17  149cm  Freshman   \n",
       "4    Greison Hisrich      56/60       96.0         49    14  163cm  Freshman   \n",
       "\n",
       "  class  \n",
       "0   NaN  \n",
       "1     C  \n",
       "2     A  \n",
       "3     B  \n",
       "4     C  "
      ]
     },
     "execution_count": 22,
     "metadata": {},
     "output_type": "execute_result"
    }
   ],
   "source": [
    "data.head()"
   ]
  },
  {
   "cell_type": "code",
   "execution_count": 23,
   "metadata": {},
   "outputs": [],
   "source": [
    "a = None"
   ]
  },
  {
   "cell_type": "code",
   "execution_count": 24,
   "metadata": {},
   "outputs": [
    {
     "data": {
      "text/plain": [
       "True"
      ]
     },
     "execution_count": 24,
     "metadata": {},
     "output_type": "execute_result"
    }
   ],
   "source": [
    "a == None"
   ]
  },
  {
   "cell_type": "code",
   "execution_count": 197,
   "metadata": {},
   "outputs": [
    {
     "data": {
      "text/plain": [
       "False"
      ]
     },
     "execution_count": 197,
     "metadata": {},
     "output_type": "execute_result"
    }
   ],
   "source": [
    "\n"
   ]
  },
  {
   "cell_type": "code",
   "execution_count": null,
   "metadata": {},
   "outputs": [],
   "source": []
  }
 ],
 "metadata": {
  "kernelspec": {
   "display_name": "Python 3",
   "language": "python",
   "name": "python3"
  },
  "language_info": {
   "codemirror_mode": {
    "name": "ipython",
    "version": 3
   },
   "file_extension": ".py",
   "mimetype": "text/x-python",
   "name": "python",
   "nbconvert_exporter": "python",
   "pygments_lexer": "ipython3",
   "version": "3.7.4"
  }
 },
 "nbformat": 4,
 "nbformat_minor": 4
}
