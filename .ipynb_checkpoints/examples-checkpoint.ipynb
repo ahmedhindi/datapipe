{
 "cells": [
  {
   "cell_type": "code",
   "execution_count": 9,
   "metadata": {},
   "outputs": [
    {
     "name": "stdout",
     "output_type": "stream",
     "text": [
      "The autoreload extension is already loaded. To reload it, use:\n",
      "  %reload_ext autoreload\n"
     ]
    }
   ],
   "source": [
    "%load_ext autoreload\n",
    "%autoreload 2"
   ]
  },
  {
   "cell_type": "code",
   "execution_count": 10,
   "metadata": {},
   "outputs": [
    {
     "ename": "ImportError",
     "evalue": "cannot import name 'Processor' from 'dukto' (H:\\myprojects\\Process\\dukto\\dukto\\__init__.py)",
     "output_type": "error",
     "traceback": [
      "\u001b[1;31m---------------------------------------------------------------------------\u001b[0m",
      "\u001b[1;31mImportError\u001b[0m                               Traceback (most recent call last)",
      "\u001b[1;32m<ipython-input-10-8ce44ed70f4d>\u001b[0m in \u001b[0;36m<module>\u001b[1;34m\u001b[0m\n\u001b[1;32m----> 1\u001b[1;33m \u001b[1;32mfrom\u001b[0m \u001b[0mdukto\u001b[0m \u001b[1;32mimport\u001b[0m \u001b[0mProcessor\u001b[0m\u001b[1;33m,\u001b[0m \u001b[0mPipe\u001b[0m\u001b[1;33m\u001b[0m\u001b[1;33m\u001b[0m\u001b[0m\n\u001b[0m\u001b[0;32m      2\u001b[0m \u001b[1;32mimport\u001b[0m \u001b[0mpandas\u001b[0m \u001b[1;32mas\u001b[0m \u001b[0mpd\u001b[0m\u001b[1;33m\u001b[0m\u001b[1;33m\u001b[0m\u001b[0m\n\u001b[0;32m      3\u001b[0m \u001b[1;32mimport\u001b[0m \u001b[0mnumpy\u001b[0m \u001b[1;32mas\u001b[0m \u001b[0mnp\u001b[0m\u001b[1;33m\u001b[0m\u001b[1;33m\u001b[0m\u001b[0m\n",
      "\u001b[1;31mImportError\u001b[0m: cannot import name 'Processor' from 'dukto' (H:\\myprojects\\Process\\dukto\\dukto\\__init__.py)"
     ]
    }
   ],
   "source": [
    "from dukto import Processor, Pipe\n",
    "import pandas as pd\n",
    "import numpy as np"
   ]
  },
  {
   "cell_type": "code",
   "execution_count": 22,
   "metadata": {},
   "outputs": [],
   "source": [
    "dev  = pd.read_csv('data/student_dev.csv', index_col=0)\n",
    "prod = pd.read_csv('data/student_prod.csv', index_col=0)"
   ]
  },
  {
   "cell_type": "code",
   "execution_count": 23,
   "metadata": {},
   "outputs": [],
   "source": [
    "def grade_prod_mapper(g):\n",
    "    return {'Freshman':\"9th\",'Sophomore':\"10th\",'Junior':'11th','Senior':\"12th\"}[g]\n",
    "\n",
    "pipeline = [Processor('chem_grade', \n",
    "                      dev=lambda x:(int(x.split('/')[0])/60)*100, ),\n",
    "            Processor(['phy_grade', 'bio_grade'], \n",
    "                      dev=lambda x:int(x)),\n",
    "            Processor('age', \n",
    "                      dev=lambda x:int(x[:-1])/12 if 'm' in x else int(x)),\n",
    "            Processor('height', \n",
    "                      dev=lambda x:float(x[:-2])*2.54, \n",
    "                      prod= lambda x:float(x[:-2])),\n",
    "            Processor('grade', \n",
    "                      dev=lambda x:int(x[:-2]),\n",
    "                      prod=[grade_prod_mapper, lambda x:int(x[:-2])], suffix='_new')\n",
    "           ]"
   ]
  },
  {
   "cell_type": "code",
   "execution_count": 6,
   "metadata": {},
   "outputs": [
    {
     "data": {
      "text/plain": [
       "[Processor(chem_grade),\n",
       " Processor(['phy_grade', 'bio_grade']),\n",
       " Processor(age),\n",
       " Processor(height),\n",
       " Processor(grade)]"
      ]
     },
     "execution_count": 6,
     "metadata": {},
     "output_type": "execute_result"
    }
   ],
   "source": [
    "pipeline"
   ]
  },
  {
   "cell_type": "code",
   "execution_count": 7,
   "metadata": {},
   "outputs": [],
   "source": [
    "devpipe = Pipe(data=dev, pipeline=pipeline,mode='dev')"
   ]
  },
  {
   "cell_type": "code",
   "execution_count": 8,
   "metadata": {},
   "outputs": [
    {
     "name": "stdout",
     "output_type": "stream",
     "text": [
      ">>> ['chem_grade']\n",
      "name chem_grade\n",
      ">>> ['phy_grade', 'bio_grade']\n",
      "name phy_grade\n",
      "name bio_grade\n",
      ">>> ['age']\n",
      "name age\n",
      ">>> ['height']\n",
      "name height\n",
      ">>> ['grade']\n",
      "name grade\n"
     ]
    },
    {
     "data": {
      "text/html": [
       "<div>\n",
       "<style scoped>\n",
       "    .dataframe tbody tr th:only-of-type {\n",
       "        vertical-align: middle;\n",
       "    }\n",
       "\n",
       "    .dataframe tbody tr th {\n",
       "        vertical-align: top;\n",
       "    }\n",
       "\n",
       "    .dataframe thead th {\n",
       "        text-align: right;\n",
       "    }\n",
       "</style>\n",
       "<table border=\"1\" class=\"dataframe\">\n",
       "  <thead>\n",
       "    <tr style=\"text-align: right;\">\n",
       "      <th></th>\n",
       "      <th>name</th>\n",
       "      <th>chem_grade</th>\n",
       "      <th>phy_grade</th>\n",
       "      <th>bio_grade</th>\n",
       "      <th>age</th>\n",
       "      <th>height</th>\n",
       "      <th>grade</th>\n",
       "      <th>grade_new</th>\n",
       "    </tr>\n",
       "  </thead>\n",
       "  <tbody>\n",
       "    <tr>\n",
       "      <th>0</th>\n",
       "      <td>Anjelica Mccrossen</td>\n",
       "      <td>66.666667</td>\n",
       "      <td>50</td>\n",
       "      <td>52</td>\n",
       "      <td>17.000000</td>\n",
       "      <td>139.70</td>\n",
       "      <td>9th</td>\n",
       "      <td>9</td>\n",
       "    </tr>\n",
       "    <tr>\n",
       "      <th>1</th>\n",
       "      <td>Billie-Rose Garofolo</td>\n",
       "      <td>13.333333</td>\n",
       "      <td>98</td>\n",
       "      <td>66</td>\n",
       "      <td>15.000000</td>\n",
       "      <td>144.78</td>\n",
       "      <td>9th</td>\n",
       "      <td>9</td>\n",
       "    </tr>\n",
       "    <tr>\n",
       "      <th>2</th>\n",
       "      <td>Cyrita Reesor</td>\n",
       "      <td>78.333333</td>\n",
       "      <td>46</td>\n",
       "      <td>35</td>\n",
       "      <td>18.000000</td>\n",
       "      <td>142.24</td>\n",
       "      <td>9th</td>\n",
       "      <td>9</td>\n",
       "    </tr>\n",
       "    <tr>\n",
       "      <th>3</th>\n",
       "      <td>Kiyanna Glaeser</td>\n",
       "      <td>6.666667</td>\n",
       "      <td>96</td>\n",
       "      <td>64</td>\n",
       "      <td>14.500000</td>\n",
       "      <td>142.24</td>\n",
       "      <td>9th</td>\n",
       "      <td>9</td>\n",
       "    </tr>\n",
       "    <tr>\n",
       "      <th>4</th>\n",
       "      <td>Giangiorgio Shelenberger</td>\n",
       "      <td>58.333333</td>\n",
       "      <td>80</td>\n",
       "      <td>31</td>\n",
       "      <td>15.583333</td>\n",
       "      <td>157.48</td>\n",
       "      <td>9th</td>\n",
       "      <td>9</td>\n",
       "    </tr>\n",
       "    <tr>\n",
       "      <th>...</th>\n",
       "      <td>...</td>\n",
       "      <td>...</td>\n",
       "      <td>...</td>\n",
       "      <td>...</td>\n",
       "      <td>...</td>\n",
       "      <td>...</td>\n",
       "      <td>...</td>\n",
       "      <td>...</td>\n",
       "    </tr>\n",
       "    <tr>\n",
       "      <th>709</th>\n",
       "      <td>Onalee Ryals</td>\n",
       "      <td>63.333333</td>\n",
       "      <td>81</td>\n",
       "      <td>49</td>\n",
       "      <td>14.000000</td>\n",
       "      <td>167.64</td>\n",
       "      <td>9th</td>\n",
       "      <td>9</td>\n",
       "    </tr>\n",
       "    <tr>\n",
       "      <th>710</th>\n",
       "      <td>Jomira Fiedler</td>\n",
       "      <td>43.333333</td>\n",
       "      <td>98</td>\n",
       "      <td>93</td>\n",
       "      <td>17.000000</td>\n",
       "      <td>147.32</td>\n",
       "      <td>9th</td>\n",
       "      <td>9</td>\n",
       "    </tr>\n",
       "    <tr>\n",
       "      <th>711</th>\n",
       "      <td>Rether Fincel</td>\n",
       "      <td>60.000000</td>\n",
       "      <td>76</td>\n",
       "      <td>9</td>\n",
       "      <td>18.000000</td>\n",
       "      <td>165.10</td>\n",
       "      <td>9th</td>\n",
       "      <td>9</td>\n",
       "    </tr>\n",
       "    <tr>\n",
       "      <th>712</th>\n",
       "      <td>Reyelle Mazzola</td>\n",
       "      <td>5.000000</td>\n",
       "      <td>83</td>\n",
       "      <td>93</td>\n",
       "      <td>16.000000</td>\n",
       "      <td>147.32</td>\n",
       "      <td>9th</td>\n",
       "      <td>9</td>\n",
       "    </tr>\n",
       "    <tr>\n",
       "      <th>713</th>\n",
       "      <td>Sijtske Skare</td>\n",
       "      <td>21.666667</td>\n",
       "      <td>72</td>\n",
       "      <td>51</td>\n",
       "      <td>14.000000</td>\n",
       "      <td>139.70</td>\n",
       "      <td>9th</td>\n",
       "      <td>9</td>\n",
       "    </tr>\n",
       "  </tbody>\n",
       "</table>\n",
       "<p>714 rows × 8 columns</p>\n",
       "</div>"
      ],
      "text/plain": [
       "                         name  chem_grade  phy_grade  bio_grade        age  \\\n",
       "0          Anjelica Mccrossen   66.666667         50         52  17.000000   \n",
       "1        Billie-Rose Garofolo   13.333333         98         66  15.000000   \n",
       "2               Cyrita Reesor   78.333333         46         35  18.000000   \n",
       "3             Kiyanna Glaeser    6.666667         96         64  14.500000   \n",
       "4    Giangiorgio Shelenberger   58.333333         80         31  15.583333   \n",
       "..                        ...         ...        ...        ...        ...   \n",
       "709              Onalee Ryals   63.333333         81         49  14.000000   \n",
       "710            Jomira Fiedler   43.333333         98         93  17.000000   \n",
       "711             Rether Fincel   60.000000         76          9  18.000000   \n",
       "712           Reyelle Mazzola    5.000000         83         93  16.000000   \n",
       "713             Sijtske Skare   21.666667         72         51  14.000000   \n",
       "\n",
       "     height grade  grade_new  \n",
       "0    139.70   9th          9  \n",
       "1    144.78   9th          9  \n",
       "2    142.24   9th          9  \n",
       "3    142.24   9th          9  \n",
       "4    157.48   9th          9  \n",
       "..      ...   ...        ...  \n",
       "709  167.64   9th          9  \n",
       "710  147.32   9th          9  \n",
       "711  165.10   9th          9  \n",
       "712  147.32   9th          9  \n",
       "713  139.70   9th          9  \n",
       "\n",
       "[714 rows x 8 columns]"
      ]
     },
     "execution_count": 8,
     "metadata": {},
     "output_type": "execute_result"
    }
   ],
   "source": [
    "devpipe.run()"
   ]
  },
  {
   "cell_type": "code",
   "execution_count": 9,
   "metadata": {},
   "outputs": [
    {
     "data": {
      "text/plain": [
       "\n",
       "        Mode: dev \n",
       "        input data shape: (714, 7) \n",
       "        \n",
       "            Columns: ['chem_grade']\n",
       "            Time to finish: 0.002\n",
       "            \n",
       "            Columns: ['phy_grade', 'bio_grade']\n",
       "            Time to finish: 0.002\n",
       "            \n",
       "            Columns: ['age']\n",
       "            Time to finish: 0.001\n",
       "            \n",
       "            Columns: ['height']\n",
       "            Time to finish: 0.001\n",
       "            \n",
       "            Columns: ['grade']\n",
       "            Time to finish: 0.001\n",
       "            \n",
       "        "
      ]
     },
     "execution_count": 9,
     "metadata": {},
     "output_type": "execute_result"
    }
   ],
   "source": [
    "devpipe"
   ]
  },
  {
   "cell_type": "code",
   "execution_count": 10,
   "metadata": {},
   "outputs": [],
   "source": [
    "prodpipe = Pipe(data=prod, pipeline=pipeline,mode='prod')"
   ]
  },
  {
   "cell_type": "code",
   "execution_count": 11,
   "metadata": {},
   "outputs": [
    {
     "name": "stdout",
     "output_type": "stream",
     "text": [
      ">>> ['chem_grade']\n",
      "name chem_grade\n",
      ">>> ['phy_grade', 'bio_grade']\n",
      "name phy_grade\n",
      "name bio_grade\n",
      ">>> ['age']\n",
      "name age\n",
      ">>> ['height']\n",
      "name height\n",
      ">>> ['grade']\n",
      "name grade\n"
     ]
    },
    {
     "data": {
      "text/html": [
       "<div>\n",
       "<style scoped>\n",
       "    .dataframe tbody tr th:only-of-type {\n",
       "        vertical-align: middle;\n",
       "    }\n",
       "\n",
       "    .dataframe tbody tr th {\n",
       "        vertical-align: top;\n",
       "    }\n",
       "\n",
       "    .dataframe thead th {\n",
       "        text-align: right;\n",
       "    }\n",
       "</style>\n",
       "<table border=\"1\" class=\"dataframe\">\n",
       "  <thead>\n",
       "    <tr style=\"text-align: right;\">\n",
       "      <th></th>\n",
       "      <th>name</th>\n",
       "      <th>chem_grade</th>\n",
       "      <th>phy_grade</th>\n",
       "      <th>bio_grade</th>\n",
       "      <th>age</th>\n",
       "      <th>height</th>\n",
       "      <th>grade</th>\n",
       "      <th>grade_new</th>\n",
       "    </tr>\n",
       "  </thead>\n",
       "  <tbody>\n",
       "    <tr>\n",
       "      <th>0</th>\n",
       "      <td>Jalyiah Darcey</td>\n",
       "      <td>43.333333</td>\n",
       "      <td>77</td>\n",
       "      <td>17</td>\n",
       "      <td>17.000000</td>\n",
       "      <td>156.0</td>\n",
       "      <td>Freshman</td>\n",
       "      <td>9</td>\n",
       "    </tr>\n",
       "    <tr>\n",
       "      <th>1</th>\n",
       "      <td>Eunita Beahm</td>\n",
       "      <td>18.333333</td>\n",
       "      <td>56</td>\n",
       "      <td>67</td>\n",
       "      <td>15.333333</td>\n",
       "      <td>164.0</td>\n",
       "      <td>Freshman</td>\n",
       "      <td>9</td>\n",
       "    </tr>\n",
       "    <tr>\n",
       "      <th>2</th>\n",
       "      <td>Guluzar Bernand</td>\n",
       "      <td>70.000000</td>\n",
       "      <td>97</td>\n",
       "      <td>65</td>\n",
       "      <td>18.000000</td>\n",
       "      <td>157.0</td>\n",
       "      <td>Freshman</td>\n",
       "      <td>9</td>\n",
       "    </tr>\n",
       "    <tr>\n",
       "      <th>3</th>\n",
       "      <td>Jonatham Mcnicoll</td>\n",
       "      <td>95.000000</td>\n",
       "      <td>68</td>\n",
       "      <td>92</td>\n",
       "      <td>17.000000</td>\n",
       "      <td>149.0</td>\n",
       "      <td>Freshman</td>\n",
       "      <td>9</td>\n",
       "    </tr>\n",
       "    <tr>\n",
       "      <th>4</th>\n",
       "      <td>Greison Hisrich</td>\n",
       "      <td>93.333333</td>\n",
       "      <td>96</td>\n",
       "      <td>49</td>\n",
       "      <td>14.000000</td>\n",
       "      <td>163.0</td>\n",
       "      <td>Freshman</td>\n",
       "      <td>9</td>\n",
       "    </tr>\n",
       "    <tr>\n",
       "      <th>...</th>\n",
       "      <td>...</td>\n",
       "      <td>...</td>\n",
       "      <td>...</td>\n",
       "      <td>...</td>\n",
       "      <td>...</td>\n",
       "      <td>...</td>\n",
       "      <td>...</td>\n",
       "      <td>...</td>\n",
       "    </tr>\n",
       "    <tr>\n",
       "      <th>281</th>\n",
       "      <td>Bremen Hewatt</td>\n",
       "      <td>73.333333</td>\n",
       "      <td>67</td>\n",
       "      <td>46</td>\n",
       "      <td>14.000000</td>\n",
       "      <td>134.0</td>\n",
       "      <td>Freshman</td>\n",
       "      <td>9</td>\n",
       "    </tr>\n",
       "    <tr>\n",
       "      <th>282</th>\n",
       "      <td>Venerino Billey</td>\n",
       "      <td>26.666667</td>\n",
       "      <td>63</td>\n",
       "      <td>60</td>\n",
       "      <td>17.000000</td>\n",
       "      <td>130.0</td>\n",
       "      <td>Freshman</td>\n",
       "      <td>9</td>\n",
       "    </tr>\n",
       "    <tr>\n",
       "      <th>283</th>\n",
       "      <td>Aylmar Berken</td>\n",
       "      <td>55.000000</td>\n",
       "      <td>47</td>\n",
       "      <td>96</td>\n",
       "      <td>18.000000</td>\n",
       "      <td>155.0</td>\n",
       "      <td>Freshman</td>\n",
       "      <td>9</td>\n",
       "    </tr>\n",
       "    <tr>\n",
       "      <th>284</th>\n",
       "      <td>Lhiam Roysum</td>\n",
       "      <td>58.333333</td>\n",
       "      <td>31</td>\n",
       "      <td>76</td>\n",
       "      <td>14.000000</td>\n",
       "      <td>167.0</td>\n",
       "      <td>Freshman</td>\n",
       "      <td>9</td>\n",
       "    </tr>\n",
       "    <tr>\n",
       "      <th>285</th>\n",
       "      <td>Lagena Kan</td>\n",
       "      <td>20.000000</td>\n",
       "      <td>55</td>\n",
       "      <td>83</td>\n",
       "      <td>18.000000</td>\n",
       "      <td>132.0</td>\n",
       "      <td>Freshman</td>\n",
       "      <td>9</td>\n",
       "    </tr>\n",
       "  </tbody>\n",
       "</table>\n",
       "<p>286 rows × 8 columns</p>\n",
       "</div>"
      ],
      "text/plain": [
       "                  name  chem_grade  phy_grade  bio_grade        age  height  \\\n",
       "0       Jalyiah Darcey   43.333333         77         17  17.000000   156.0   \n",
       "1         Eunita Beahm   18.333333         56         67  15.333333   164.0   \n",
       "2      Guluzar Bernand   70.000000         97         65  18.000000   157.0   \n",
       "3    Jonatham Mcnicoll   95.000000         68         92  17.000000   149.0   \n",
       "4      Greison Hisrich   93.333333         96         49  14.000000   163.0   \n",
       "..                 ...         ...        ...        ...        ...     ...   \n",
       "281      Bremen Hewatt   73.333333         67         46  14.000000   134.0   \n",
       "282    Venerino Billey   26.666667         63         60  17.000000   130.0   \n",
       "283      Aylmar Berken   55.000000         47         96  18.000000   155.0   \n",
       "284       Lhiam Roysum   58.333333         31         76  14.000000   167.0   \n",
       "285         Lagena Kan   20.000000         55         83  18.000000   132.0   \n",
       "\n",
       "        grade  grade_new  \n",
       "0    Freshman          9  \n",
       "1    Freshman          9  \n",
       "2    Freshman          9  \n",
       "3    Freshman          9  \n",
       "4    Freshman          9  \n",
       "..        ...        ...  \n",
       "281  Freshman          9  \n",
       "282  Freshman          9  \n",
       "283  Freshman          9  \n",
       "284  Freshman          9  \n",
       "285  Freshman          9  \n",
       "\n",
       "[286 rows x 8 columns]"
      ]
     },
     "execution_count": 11,
     "metadata": {},
     "output_type": "execute_result"
    }
   ],
   "source": [
    "prodpipe.run()"
   ]
  },
  {
   "cell_type": "code",
   "execution_count": 12,
   "metadata": {},
   "outputs": [],
   "source": [
    "def get_markdown(df, n):\n",
    "    sample = df.head(n).reset_index(drop=True).to_markdown()\n",
    "    return sample"
   ]
  },
  {
   "cell_type": "code",
   "execution_count": 13,
   "metadata": {},
   "outputs": [
    {
     "name": "stdout",
     "output_type": "stream",
     "text": [
      "|    | name                 | chem_grade   |   phy_grade |   bio_grade |   age | height   | grade   |\n",
      "|---:|:---------------------|:-------------|------------:|------------:|------:|:---------|:--------|\n",
      "|  0 | Anjelica Mccrossen   | 40/60        |          50 |          52 |    17 | 55in     | 9th     |\n",
      "|  1 | Billie-Rose Garofolo | 8/60         |          98 |          66 |    15 | 57in     | 9th     |\n",
      "|  2 | Cyrita Reesor        | 47/60        |          46 |          35 |    18 | 56in     | 9th     |\n"
     ]
    }
   ],
   "source": [
    "print(get_markdown(dev, 3))"
   ]
  },
  {
   "cell_type": "code",
   "execution_count": 14,
   "metadata": {},
   "outputs": [
    {
     "name": "stdout",
     "output_type": "stream",
     "text": [
      ">>> ['chem_grade']\n",
      "name chem_grade\n",
      ">>> ['phy_grade', 'bio_grade']\n",
      "name phy_grade\n",
      "name bio_grade\n",
      ">>> ['age']\n",
      "name age\n",
      ">>> ['height']\n",
      "name height\n",
      ">>> ['grade']\n",
      "name grade\n"
     ]
    }
   ],
   "source": [
    "res= devpipe.run()"
   ]
  },
  {
   "cell_type": "code",
   "execution_count": 15,
   "metadata": {},
   "outputs": [
    {
     "name": "stdout",
     "output_type": "stream",
     "text": [
      ">>> ['chem_grade']\n",
      "name chem_grade\n",
      ">>> ['phy_grade', 'bio_grade']\n",
      "name phy_grade\n",
      "name bio_grade\n",
      ">>> ['age']\n",
      "name age\n",
      ">>> ['height']\n",
      "name height\n",
      ">>> ['grade']\n",
      "name grade\n"
     ]
    }
   ],
   "source": [
    "prodres = prodpipe.run()"
   ]
  },
  {
   "cell_type": "code",
   "execution_count": 16,
   "metadata": {},
   "outputs": [
    {
     "name": "stdout",
     "output_type": "stream",
     "text": [
      "|    | name                 | chem_grade   |   phy_grade |   bio_grade |   age | height   | grade   |\n",
      "|---:|:---------------------|:-------------|------------:|------------:|------:|:---------|:--------|\n",
      "|  0 | Anjelica Mccrossen   | 40/60        |          50 |          52 |    17 | 55in     | 9th     |\n",
      "|  1 | Billie-Rose Garofolo | 8/60         |          98 |          66 |    15 | 57in     | 9th     |\n",
      "|  2 | Cyrita Reesor        | 47/60        |          46 |          35 |    18 | 56in     | 9th     |\n"
     ]
    }
   ],
   "source": [
    "print(get_markdown(dev, 3))"
   ]
  },
  {
   "cell_type": "code",
   "execution_count": 17,
   "metadata": {},
   "outputs": [
    {
     "name": "stdout",
     "output_type": "stream",
     "text": [
      "|    | name                 |   chem_grade |   phy_grade |   bio_grade |   age |   height | grade   |   grade_new |\n",
      "|---:|:---------------------|-------------:|------------:|------------:|------:|---------:|:--------|------------:|\n",
      "|  0 | Anjelica Mccrossen   |      66.6667 |          50 |          52 |    17 |   139.7  | 9th     |           9 |\n",
      "|  1 | Billie-Rose Garofolo |      13.3333 |          98 |          66 |    15 |   144.78 | 9th     |           9 |\n",
      "|  2 | Cyrita Reesor        |      78.3333 |          46 |          35 |    18 |   142.24 | 9th     |           9 |\n"
     ]
    }
   ],
   "source": [
    "print(get_markdown(res, 3))"
   ]
  },
  {
   "cell_type": "code",
   "execution_count": 18,
   "metadata": {},
   "outputs": [
    {
     "name": "stdout",
     "output_type": "stream",
     "text": [
      "|    | name            | chem_grade   |   phy_grade |   bio_grade | age   | height   | grade    |\n",
      "|---:|:----------------|:-------------|------------:|------------:|:------|:---------|:---------|\n",
      "|  0 | Jalyiah Darcey  | 26/60        |          77 |          17 | 17    | 156cm    | Freshman |\n",
      "|  1 | Eunita Beahm    | 11/60        |          56 |          67 | 184m  | 164cm    | Freshman |\n",
      "|  2 | Guluzar Bernand | 42/60        |          97 |          65 | 18    | 157cm    | Freshman |\n"
     ]
    }
   ],
   "source": [
    "print(get_markdown(prod, 3))"
   ]
  },
  {
   "cell_type": "code",
   "execution_count": null,
   "metadata": {},
   "outputs": [],
   "source": []
  },
  {
   "cell_type": "code",
   "execution_count": 19,
   "metadata": {},
   "outputs": [
    {
     "name": "stdout",
     "output_type": "stream",
     "text": [
      "|    | name            |   chem_grade |   phy_grade |   bio_grade |     age |   height | grade    |   grade_new |\n",
      "|---:|:----------------|-------------:|------------:|------------:|--------:|---------:|:---------|------------:|\n",
      "|  0 | Jalyiah Darcey  |      43.3333 |          77 |          17 | 17      |      156 | Freshman |           9 |\n",
      "|  1 | Eunita Beahm    |      18.3333 |          56 |          67 | 15.3333 |      164 | Freshman |           9 |\n",
      "|  2 | Guluzar Bernand |      70      |          97 |          65 | 18      |      157 | Freshman |           9 |\n"
     ]
    }
   ],
   "source": [
    "print(get_markdown(prodres, 3))"
   ]
  },
  {
   "cell_type": "code",
   "execution_count": 57,
   "metadata": {},
   "outputs": [
    {
     "data": {
      "text/plain": [
       "{'15', 'sdfs'}"
      ]
     },
     "execution_count": 57,
     "metadata": {},
     "output_type": "execute_result"
    }
   ],
   "source": [
    "{\"15\", 'sdfs'}"
   ]
  },
  {
   "cell_type": "code",
   "execution_count": 1,
   "metadata": {},
   "outputs": [
    {
     "ename": "NameError",
     "evalue": "name 'pd' is not defined",
     "output_type": "error",
     "traceback": [
      "\u001b[0;31m---------------------------------------------------------------------------\u001b[0m",
      "\u001b[0;31mNameError\u001b[0m                                 Traceback (most recent call last)",
      "\u001b[0;32m<ipython-input-1-6fb1d104d58b>\u001b[0m in \u001b[0;36m<module>\u001b[0;34m\u001b[0m\n\u001b[0;32m----> 1\u001b[0;31m \u001b[0mpd\u001b[0m\u001b[0;34m.\u001b[0m\u001b[0mDataFrame\u001b[0m\u001b[0;34m(\u001b[0m\u001b[0;34m{\u001b[0m\u001b[0;34m'one'\u001b[0m\u001b[0;34m:\u001b[0m\u001b[0;36m1\u001b[0m\u001b[0;34m,\u001b[0m \u001b[0;34m'two'\u001b[0m\u001b[0;34m:\u001b[0m\u001b[0;36m2\u001b[0m\u001b[0;34m}\u001b[0m\u001b[0;34m.\u001b[0m\u001b[0mkeys\u001b[0m\u001b[0;34m(\u001b[0m\u001b[0;34m)\u001b[0m\u001b[0;34m,\u001b[0m \u001b[0mcolumns\u001b[0m\u001b[0;34m=\u001b[0m\u001b[0;34m[\u001b[0m\u001b[0;34m'name'\u001b[0m\u001b[0;34m]\u001b[0m\u001b[0;34m)\u001b[0m\u001b[0;34m[\u001b[0m\u001b[0;34m'name'\u001b[0m\u001b[0;34m]\u001b[0m\u001b[0;34m\u001b[0m\u001b[0;34m\u001b[0m\u001b[0m\n\u001b[0m",
      "\u001b[0;31mNameError\u001b[0m: name 'pd' is not defined"
     ]
    }
   ],
   "source": [
    "pd.DataFrame({'one':1, 'two':2}.keys(), columns=['name'])['name']"
   ]
  },
  {
   "cell_type": "code",
   "execution_count": null,
   "metadata": {},
   "outputs": [],
   "source": []
  }
 ],
 "metadata": {
  "kernelspec": {
   "display_name": "Python 3",
   "language": "python",
   "name": "python3"
  },
  "language_info": {
   "codemirror_mode": {
    "name": "ipython",
    "version": 3
   },
   "file_extension": ".py",
   "mimetype": "text/x-python",
   "name": "python",
   "nbconvert_exporter": "python",
   "pygments_lexer": "ipython3",
   "version": "3.7.4"
  }
 },
 "nbformat": 4,
 "nbformat_minor": 4
}
