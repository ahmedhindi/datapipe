{
 "cells": [
  {
   "cell_type": "code",
   "execution_count": 182,
   "metadata": {},
   "outputs": [],
   "source": [
    "import pandas as pd\n",
    "from dukto import Pipe, Processor\n",
    "import numpy as np"
   ]
  },
  {
   "cell_type": "code",
   "execution_count": 183,
   "metadata": {},
   "outputs": [],
   "source": [
    "def get_markdown(df, n):\n",
    "    sample = df.sample(n).reset_index(drop=True).to_markdown()\n",
    "    return sample"
   ]
  },
  {
   "cell_type": "code",
   "execution_count": 184,
   "metadata": {},
   "outputs": [],
   "source": [
    "last = pd.read_csv('notes/last_names.all.txt')\n",
    "first = pd.read_csv('https://raw.githubusercontent.com/Debdut/names.io/master/first_names.all.txt')"
   ]
  },
  {
   "cell_type": "markdown",
   "metadata": {},
   "source": [
    "### names"
   ]
  },
  {
   "cell_type": "code",
   "execution_count": 185,
   "metadata": {},
   "outputs": [],
   "source": [
    "first_option = first.iloc[:,0].sample(1000).tolist()\n",
    "last_options = last.iloc[:,0].sample(1000).tolist()\n",
    "df = pd.DataFrame({'first_name':first_option,\n",
    " 'last_name':last_options,})\n",
    "name = (df.first_name.str.title() + ' '+ df.last_name.str.title()).tolist()"
   ]
  },
  {
   "cell_type": "markdown",
   "metadata": {},
   "source": [
    "### grades"
   ]
  },
  {
   "cell_type": "code",
   "execution_count": 186,
   "metadata": {},
   "outputs": [],
   "source": [
    "chem_grade_options = [f\"{i}/60\" for i in  np.random.choice(range(60), size=1000)]\n",
    "ph_grades_options = [str(i) for i in np.random.choice(a=np.arange(0,100), size=1000, p=np.linspace(0,100,100)/ sum(np.linspace(0,100,100)))]"
   ]
  },
  {
   "cell_type": "markdown",
   "metadata": {},
   "source": [
    "### age"
   ]
  },
  {
   "cell_type": "code",
   "execution_count": 187,
   "metadata": {},
   "outputs": [],
   "source": [
    "age = [i for i in np.random.choice(np.arange(168, 216), size=1000)]\n",
    "age_options = [str(i)+\"m\" if np.random.choice([0,1], p=[0.7,0.3]) else f\"{round(int(i)/12)}\" for i in height]"
   ]
  },
  {
   "cell_type": "markdown",
   "metadata": {},
   "source": [
    "### Height"
   ]
  },
  {
   "cell_type": "code",
   "execution_count": 188,
   "metadata": {},
   "outputs": [],
   "source": [
    "height = [i for i in np.random.choice(np.arange(168, 216), size=1000)]\n",
    "height_options = [str(i)+\"cm\" if np.random.choice([0,1], p=[0.7,0.3]) else f\"{round(int(i)*0.393701)}in\" for i in np.random.choice(np.arange(130, 170), size=1000)]"
   ]
  },
  {
   "cell_type": "code",
   "execution_count": 197,
   "metadata": {},
   "outputs": [],
   "source": [
    "data = pd.DataFrame({\n",
    "    'name':name,\n",
    "    'chem_grade': chem_grade_options,\n",
    "    'phy_grade':ph_grades,\n",
    "    'age': age_options,\n",
    "    'height':height_options,\n",
    "    'age2':age\n",
    "    \n",
    "})"
   ]
  },
  {
   "cell_type": "code",
   "execution_count": 198,
   "metadata": {},
   "outputs": [],
   "source": [
    "dev = data[data.height.str.contains('in')].copy().reset_index(drop=True)\n",
    "prod = data[data.height.str.contains('cm')].copy().reset_index(drop=True)"
   ]
  },
  {
   "cell_type": "code",
   "execution_count": 199,
   "metadata": {},
   "outputs": [],
   "source": [
    "def get_grade(n, dev=True):\n",
    "    if 14 <= n >= 15:\n",
    "        return ('9th' if dev else 'Freshman')\n",
    "    elif 15 <= n >= 16:\n",
    "        return ('10th' if dev else 'Sophomore')\n",
    "    elif 16 <= n >= 17:\n",
    "        return ('11th' if dev else 'Junior')\n",
    "    elif 17 <= n >= 18:\n",
    "        return ('12th' if dev else 'Senior')\n"
   ]
  },
  {
   "cell_type": "code",
   "execution_count": 200,
   "metadata": {},
   "outputs": [],
   "source": [
    "dev['grade'] = dev.age2.apply(get_grade)\n",
    "prod['grade'] = prod.age2.apply(get_grade, dev=False)"
   ]
  },
  {
   "cell_type": "code",
   "execution_count": 201,
   "metadata": {},
   "outputs": [],
   "source": [
    "prod.drop('age2', axis=1, inplace=True)\n",
    "dev.drop('age2', axis=1, inplace=True)"
   ]
  },
  {
   "cell_type": "code",
   "execution_count": 202,
   "metadata": {},
   "outputs": [],
   "source": [
    "dev.to_csv('data/student_dev.csv')\n",
    "prod.to_csv('data/student_prod.csv')"
   ]
  },
  {
   "cell_type": "code",
   "execution_count": null,
   "metadata": {},
   "outputs": [],
   "source": []
  }
 ],
 "metadata": {
  "kernelspec": {
   "display_name": "Python 3",
   "language": "python",
   "name": "python3"
  },
  "language_info": {
   "codemirror_mode": {
    "name": "ipython",
    "version": 3
   },
   "file_extension": ".py",
   "mimetype": "text/x-python",
   "name": "python",
   "nbconvert_exporter": "python",
   "pygments_lexer": "ipython3",
   "version": "3.8.5"
  }
 },
 "nbformat": 4,
 "nbformat_minor": 4
}
