{
 "cells": [
  {
   "cell_type": "markdown",
   "metadata": {},
   "source": [
    "# dukto"
   ]
  },
  {
   "cell_type": "markdown",
   "metadata": {},
   "source": [
    "`dukto means pipeline in`[esperanto](https://en.wikipedia.org/wiki/Esperanto)"
   ]
  },
  {
   "cell_type": "markdown",
   "metadata": {},
   "source": [
    "`duckto` is a simple package that aims to create a single pipeline to handle data `cleaning`, `extraction` and `transformation` and tracks and logs sensible stats about all steps in the pipeline."
   ]
  },
  {
   "cell_type": "markdown",
   "metadata": {},
   "source": [
    "### Installation"
   ]
  },
  {
   "cell_type": "markdown",
   "metadata": {},
   "source": [
    "### `pip install duckto`"
   ]
  },
  {
   "cell_type": "markdown",
   "metadata": {},
   "source": [
    "### Let's go though an example of a data cleaning task using [UFC](https://en.wikipedia.org/wiki/Ultimate_Fighting_Championship) data."
   ]
  },
  {
   "cell_type": "code",
   "execution_count": 1,
   "metadata": {},
   "outputs": [],
   "source": [
    "import pandas as pd\n",
    "import numpy as np\n",
    "\n",
    "from dukto.pipe import Pipe\n",
    "from dukto.processor import ColProcessor, MultiColProcessor, Transformer\n",
    "\n",
    "from feature_engine.encoding import CountFrequencyEncoder\n",
    "from feature_engine.imputation import MeanMedianImputer, CategoricalImputer"
   ]
  },
  {
   "cell_type": "code",
   "execution_count": 2,
   "metadata": {},
   "outputs": [],
   "source": [
    "data  = pd.read_csv('data/ufc.csv', index_col=0)"
   ]
  },
  {
   "cell_type": "markdown",
   "metadata": {},
   "source": [
    "### a sample of the data"
   ]
  },
  {
   "cell_type": "code",
   "execution_count": 3,
   "metadata": {},
   "outputs": [
    {
     "data": {
      "text/plain": [
       "(5923, 21)"
      ]
     },
     "execution_count": 3,
     "metadata": {},
     "output_type": "execute_result"
    }
   ],
   "source": [
    "data.shape"
   ]
  },
  {
   "cell_type": "code",
   "execution_count": 4,
   "metadata": {},
   "outputs": [
    {
     "data": {
      "text/plain": [
       "Index(['agg_dob_first', 'agg_dob_second', 'agg_height_first',\n",
       "       'agg_height_second', 'agg_reach_first', 'agg_reach_second',\n",
       "       'agg_stand_first', 'agg_stand_second', 'agg_str_acc_first',\n",
       "       'agg_str_acc_second', 'agg_weight_first', 'date_card',\n",
       "       'first_fighter_res', 'first_sig_str_', 'first_sig_str_percentage',\n",
       "       'first_total_str', 'method', 'second_sig_str_percentage',\n",
       "       'second_total_str', 'time', 'type'],\n",
       "      dtype='object')"
      ]
     },
     "execution_count": 4,
     "metadata": {},
     "output_type": "execute_result"
    }
   ],
   "source": [
    "data.columns"
   ]
  },
  {
   "cell_type": "code",
   "execution_count": 41,
   "metadata": {},
   "outputs": [
    {
     "data": {
      "text/html": [
       "<div>\n",
       "<style scoped>\n",
       "    .dataframe tbody tr th:only-of-type {\n",
       "        vertical-align: middle;\n",
       "    }\n",
       "\n",
       "    .dataframe tbody tr th {\n",
       "        vertical-align: top;\n",
       "    }\n",
       "\n",
       "    .dataframe thead th {\n",
       "        text-align: right;\n",
       "    }\n",
       "</style>\n",
       "<table border=\"1\" class=\"dataframe\">\n",
       "  <thead>\n",
       "    <tr style=\"text-align: right;\">\n",
       "      <th></th>\n",
       "      <th>agg_dob_first</th>\n",
       "      <th>agg_height_first</th>\n",
       "      <th>agg_reach_first</th>\n",
       "      <th>agg_stand_first</th>\n",
       "      <th>agg_str_acc_first</th>\n",
       "      <th>agg_weight_first</th>\n",
       "      <th>first_fighter_res</th>\n",
       "    </tr>\n",
       "  </thead>\n",
       "  <tbody>\n",
       "    <tr>\n",
       "      <th>0</th>\n",
       "      <td>19-Jul-87</td>\n",
       "      <td>6' 4\"</td>\n",
       "      <td>84\"</td>\n",
       "      <td>Orthodox</td>\n",
       "      <td>57%</td>\n",
       "      <td>205 lbs.</td>\n",
       "      <td>W</td>\n",
       "    </tr>\n",
       "    <tr>\n",
       "      <th>1</th>\n",
       "      <td>7-Mar-88</td>\n",
       "      <td>5' 5\"</td>\n",
       "      <td>66\"</td>\n",
       "      <td>Southpaw</td>\n",
       "      <td>51%</td>\n",
       "      <td>125 lbs.</td>\n",
       "      <td>W</td>\n",
       "    </tr>\n",
       "    <tr>\n",
       "      <th>2</th>\n",
       "      <td>16-Jan-92</td>\n",
       "      <td>6' 5\"</td>\n",
       "      <td>80\"</td>\n",
       "      <td>Orthodox</td>\n",
       "      <td>55%</td>\n",
       "      <td>265 lbs.</td>\n",
       "      <td>L</td>\n",
       "    </tr>\n",
       "    <tr>\n",
       "      <th>3</th>\n",
       "      <td>16-Feb-91</td>\n",
       "      <td>5' 8\"</td>\n",
       "      <td>70\"</td>\n",
       "      <td>Orthodox</td>\n",
       "      <td>41%</td>\n",
       "      <td>145 lbs.</td>\n",
       "      <td>L</td>\n",
       "    </tr>\n",
       "    <tr>\n",
       "      <th>4</th>\n",
       "      <td>7-Feb-85</td>\n",
       "      <td>6' 3\"</td>\n",
       "      <td>79\"</td>\n",
       "      <td>Orthodox</td>\n",
       "      <td>50%</td>\n",
       "      <td>260 lbs.</td>\n",
       "      <td>W</td>\n",
       "    </tr>\n",
       "  </tbody>\n",
       "</table>\n",
       "</div>"
      ],
      "text/plain": [
       "  agg_dob_first agg_height_first agg_reach_first agg_stand_first  \\\n",
       "0     19-Jul-87            6' 4\"             84\"        Orthodox   \n",
       "1      7-Mar-88            5' 5\"             66\"        Southpaw   \n",
       "2     16-Jan-92            6' 5\"             80\"        Orthodox   \n",
       "3     16-Feb-91            5' 8\"             70\"        Orthodox   \n",
       "4      7-Feb-85            6' 3\"             79\"        Orthodox   \n",
       "\n",
       "  agg_str_acc_first agg_weight_first first_fighter_res  \n",
       "0               57%         205 lbs.                 W  \n",
       "1               51%         125 lbs.                 W  \n",
       "2               55%         265 lbs.                 L  \n",
       "3               41%         145 lbs.                 L  \n",
       "4               50%         260 lbs.                 W  "
      ]
     },
     "execution_count": 41,
     "metadata": {},
     "output_type": "execute_result"
    }
   ],
   "source": [
    "data.iloc[:5, range(0, 13, 2)]"
   ]
  },
  {
   "cell_type": "markdown",
   "metadata": {},
   "source": []
  },
  {
   "cell_type": "markdown",
   "metadata": {},
   "source": [
    "#### In dukto we have 3 main types of Processors `ColProcessor`, `MultiColProcessor`, and `Transformer`\n",
    "#### To run these we need a `Pipe`"
   ]
  },
  {
   "cell_type": "markdown",
   "metadata": {},
   "source": [
    "# `ColProcessor`\n",
    "\n",
    "### applies function/s to a column/s\n",
    "#### usage:\n",
    "##### In some cases the computation is going to be applied on one column without the need of accessing other columns or rows. \n",
    "##### Examples: changing the type, extracting digits from strings, multiplying by a scalar .. "
   ]
  },
  {
   "cell_type": "markdown",
   "metadata": {},
   "source": [
    "# some arguments\n",
    "- `funcs` (callable or list): in function or function you'll apply to the columns \n",
    "- `name`  (str or list): the name or names of the columns you'll be applying the functions on\n",
    "- `new_name` (dict): if you want to rename the new column you can use a dict to map the old names to the new ones,\n",
    "- `drop` (bool): if true it'll drop the old columns,\n",
    "- `funcs_test` (dict): test cases for the output of that processor given and input example {'1h:30min', 1.5} (if that's the expected output of your funcs)\n",
    "- `suffix` (str): text added at the end of the column name example if suffix=\"_new\"  col_name -> col_name_new\n"
   ]
  },
  {
   "cell_type": "markdown",
   "metadata": {},
   "source": [
    "#### Some cleaning functions that we will use in our examples."
   ]
  },
  {
   "cell_type": "code",
   "execution_count": 16,
   "metadata": {},
   "outputs": [],
   "source": [
    "def convert_foot_to_cm(r):\n",
    "    if isinstance(r, str) and \"'\" in r:\n",
    "        foot, inches = r.split(\"'\")\n",
    "        inches = int(foot)*12 + int(inches.replace('\"', ''))\n",
    "        return inches*2.54\n",
    "    return np.nan\n",
    "\n",
    "def convert_inch_to_cm(r):\n",
    "    if isinstance(r,str) and '\"' in r:\n",
    "        return int(r.replace('\"', '')) * 2.54\n",
    "    return np.nan\n",
    "\n",
    "def num_of_num_to_perc(r):\n",
    "    if isinstance(r,str) and 'of' in r:\n",
    "        thr, landed = map(int, r.split('of'))\n",
    "        if landed > 0:\n",
    "            return thr / landed \n",
    "    return np.nan\n",
    "\n",
    "def pounds_to_kg(r):\n",
    "    if isinstance(r, str) and 'lbs' in r:\n",
    "        return int(r.split(' ')[0]) * 0.4535\n",
    "    return r"
   ]
  },
  {
   "cell_type": "code",
   "execution_count": 17,
   "metadata": {},
   "outputs": [],
   "source": [
    "single_pipe = [\n",
    "    ColProcessor(name=['agg_height_first','agg_height_second'], \n",
    "                 funcs=[convert_foot_to_cm], funcs_test={\"6'2\\\"\":187.96}, suffix='_new'),\n",
    "    \n",
    "    ColProcessor(name=['agg_reach_first','agg_reach_second'], \n",
    "                 funcs=[convert_inch_to_cm], funcs_test={'70\"': 177.80}, suffix='_new'),\n",
    "    \n",
    "    ColProcessor(name=['second_total_str', 'first_total_str'], \n",
    "                 funcs=[num_of_num_to_perc], suffix='_%%_new', funcs_test={'50 of 100':0.5}),\n",
    "    \n",
    "    ColProcessor(name=['agg_dob_first', 'agg_dob_second', 'date_card'], \n",
    "                 funcs=[pd.to_datetime]),\n",
    "    \n",
    "    ColProcessor(name='agg_weight_first', new_name={\"agg_weight_first\":'weight_class'}, \n",
    "                 funcs=[pounds_to_kg], suffix='_new', drop=True)\n",
    "]"
   ]
  },
  {
   "cell_type": "markdown",
   "metadata": {},
   "source": [
    "## `MultiColProcessor`\n",
    "\n",
    "### applies a function that takes and returns a pandas DataFrame\n",
    "### this class is used to add columns based on other column/s\n",
    "\n",
    "#### usage:\n",
    "##### In some cases the computation is going to be applied on more than one column. \n",
    "##### Examples: adding column a and b to create c or dropping some columns if they contain the word java."
   ]
  },
  {
   "cell_type": "markdown",
   "metadata": {},
   "source": [
    "# some arguments\n",
    "- `funcs`  (list): function or function you'll apply \n",
    "- `name`  (str) : in this case it's optional and only useful for logging purpose and easy debugging\n",
    "\n"
   ]
  },
  {
   "cell_type": "markdown",
   "metadata": {},
   "source": [
    "#### Some cleaning functions that we will use in our examples."
   ]
  },
  {
   "cell_type": "code",
   "execution_count": 18,
   "metadata": {},
   "outputs": [],
   "source": [
    "def add_ages(df):\n",
    "    df['first_fighter_age_new'] = df['date_card'] - df['agg_dob_first']\n",
    "    df['second_fighter_age_new'] = df['date_card'] - df['agg_dob_second']\n",
    "    return df\n",
    "\n",
    "def ages_in_years(df):\n",
    "    df[['first_fighter_age_new', 'second_fighter_age_new']] = df[['first_fighter_age_new', 'second_fighter_age_new']].applymap(lambda x:x/np.timedelta64(1, 'Y'))\n",
    "    return df"
   ]
  },
  {
   "cell_type": "code",
   "execution_count": 19,
   "metadata": {},
   "outputs": [],
   "source": [
    "multi_pipe = [\n",
    "    MultiColProcessor(name=['first_fighter_age_new', 'second_fighter_age_new'], \n",
    "                      funcs=[add_ages, ages_in_years]),\n",
    "             ]"
   ]
  },
  {
   "cell_type": "markdown",
   "metadata": {},
   "source": [
    "## `Transformer`\n",
    "\n",
    "### Applies a `feature_engine` and \"`sklearn`\" after using [SklearnTransformerWrapper](https://feature-engine.readthedocs.io/en/1.1.x/wrappers/Wrapper.html)  style transformers to a column/s \n",
    "\n",
    "#### usage:\n",
    "##### Applying transformations on a column/s  \n",
    "##### Examples: `Missing data imputation`, `Categorical variable encoding`, `Discretisation`, `Variable transformation`, `Outlier capping or removal`, `Variable combination`, `Variable selection`."
   ]
  },
  {
   "cell_type": "markdown",
   "metadata": {},
   "source": [
    "# some arguments\n",
    "- `transformers` (list  or Callable): list of transformers.\n",
    "- `name` (str) : in this case it's optional and only useful for logging purposes and easy debugging."
   ]
  },
  {
   "cell_type": "code",
   "execution_count": 20,
   "metadata": {},
   "outputs": [],
   "source": [
    "### selecting columns numarical cols to use as an inpu to the transformers\n",
    "new_cols_func = lambda x: [i for i in x if (('new' in i) and ('weight' not in i))]\n",
    "\n",
    "trans_pipe  = [\n",
    "    Transformer(name_from_func=new_cols_func, \n",
    "                transformers=[MeanMedianImputer], imputation_method='median'),    \n",
    "#     MultiColProcessor(funcs=[lambda x:x.assign(weight_class_new=x.weight_class_new.astype(str))]), # i needed to add this there becouse CategoricalImputer expects a strtype \n",
    "#     Transformer(name=['weight_class_new'], \n",
    "#                 transformers=[CategoricalImputer,CountFrequencyEncoder]),\n",
    "]"
   ]
  },
  {
   "cell_type": "markdown",
   "metadata": {},
   "source": [
    "## Pipe\n",
    "\n",
    "### Runs the pipeline sequentially\n"
   ]
  },
  {
   "cell_type": "markdown",
   "metadata": {},
   "source": [
    "- `data`: pandas DataFrame,\n",
    "- `pipeline` (list): list of all Processors(`ColProcessor`, `MultiColProcessor` and `Transformer`)\n",
    "- `run_test_cases` (bool): if true all test cases will run,\n",
    "- `mode` (str) : \"fit_transform\" can be fit_transform or transform in case you want to apply the pipe on [train vs test](https://stackoverflow.com/questions/23838056/what-is-the-difference-between-transform-and-fit-transform-in-sklearn) data separately."
   ]
  },
  {
   "cell_type": "markdown",
   "metadata": {},
   "source": [
    "## Running"
   ]
  },
  {
   "cell_type": "code",
   "execution_count": 22,
   "metadata": {},
   "outputs": [],
   "source": [
    "from copy import deepcopy as c"
   ]
  },
  {
   "cell_type": "code",
   "execution_count": 23,
   "metadata": {},
   "outputs": [
    {
     "name": "stdout",
     "output_type": "stream",
     "text": [
      "Runningconvert_foot_to_cm(agg_height_first)\n",
      "Runningconvert_foot_to_cm(agg_height_second)\n",
      "Runningconvert_inch_to_cm(agg_reach_first)\n",
      "Runningconvert_inch_to_cm(agg_reach_second)\n",
      "Runningnum_of_num_to_perc(second_total_str)\n",
      "Runningnum_of_num_to_perc(first_total_str)\n",
      "Runningto_datetime(agg_dob_first)\n",
      "Runningto_datetime(agg_dob_second)\n",
      "Runningto_datetime(date_card)\n",
      "Runningpounds_to_kg(agg_weight_first)\n",
      "added columns ['second_fighter_age_new', 'first_fighter_age_new']... deleted columns []\n",
      "[<class 'feature_engine.imputation.mean_median.MeanMedianImputer'>] <class 'type'>\n"
     ]
    }
   ],
   "source": [
    "pipeline = single_pipe+multi_pipe+trans_pipe\n",
    "pipe = Pipe(data=data.copy(), pipeline=c(pipeline), run_test_cases=False, mode='fit_transform')\n",
    "res = pipe.run()"
   ]
  },
  {
   "cell_type": "markdown",
   "metadata": {},
   "source": [
    "## Running with `test`"
   ]
  },
  {
   "cell_type": "code",
   "execution_count": 26,
   "metadata": {},
   "outputs": [
    {
     "name": "stdout",
     "output_type": "stream",
     "text": [
      "Runningconvert_foot_to_cm(agg_height_first)\n",
      "Runningconvert_foot_to_cm(agg_height_second)\n",
      "Runningconvert_foot_to_cm(in)\n",
      "ColProcessor (agg_height_first, agg_height_second) test cases PASSED! 😎\n",
      "Runningconvert_inch_to_cm(agg_reach_first)\n",
      "Runningconvert_inch_to_cm(agg_reach_second)\n",
      "Runningconvert_inch_to_cm(in)\n",
      "ColProcessor (agg_reach_first, agg_reach_second) test cases PASSED! 😎\n",
      "Runningnum_of_num_to_perc(second_total_str)\n",
      "Runningnum_of_num_to_perc(first_total_str)\n",
      "Runningnum_of_num_to_perc(in)\n",
      "ColProcessor (second_total_str, first_total_str) test cases PASSED! 😎\n",
      "Runningto_datetime(agg_dob_first)\n",
      "Runningto_datetime(agg_dob_second)\n",
      "Runningto_datetime(date_card)\n",
      "Runningto_datetime(in)\n",
      "ColProcessor (agg_dob_first, agg_dob_second, date_card) test cases NOT FOUND.\n",
      "Runningpounds_to_kg(agg_weight_first)\n",
      "Runningpounds_to_kg(in)\n",
      "ColProcessor (agg_weight_first)             test cases NOT FOUND.\n",
      "added columns ['second_fighter_age_new', 'first_fighter_age_new']... deleted columns []\n",
      "Multi test not implemented yet\n",
      "[<class 'feature_engine.imputation.mean_median.MeanMedianImputer'>] <class 'type'>\n",
      "transformer test not implemented yet\n"
     ]
    }
   ],
   "source": [
    "pipe = Pipe(data=data.copy(), pipeline=c(pipeline), run_test_cases=True, mode='fit_transform')\n",
    "res = pipe.run()"
   ]
  },
  {
   "cell_type": "markdown",
   "metadata": {},
   "source": [
    "## Using Transform"
   ]
  },
  {
   "cell_type": "code",
   "execution_count": 27,
   "metadata": {},
   "outputs": [],
   "source": [
    "fitted_pipe = pipe.pipeline"
   ]
  },
  {
   "cell_type": "code",
   "execution_count": 28,
   "metadata": {},
   "outputs": [],
   "source": [
    "transform_pipe = Pipe(data=data.head(20), pipeline=fitted_pipe, run_test_cases=False, mode='transform')"
   ]
  },
  {
   "cell_type": "code",
   "execution_count": 29,
   "metadata": {},
   "outputs": [
    {
     "name": "stdout",
     "output_type": "stream",
     "text": [
      "Runningconvert_foot_to_cm(agg_height_first)\n",
      "Runningconvert_foot_to_cm(agg_height_second)\n",
      "Runningconvert_inch_to_cm(agg_reach_first)\n",
      "Runningconvert_inch_to_cm(agg_reach_second)\n",
      "Runningnum_of_num_to_perc(second_total_str)\n",
      "Runningnum_of_num_to_perc(first_total_str)\n",
      "Runningto_datetime(agg_dob_first)\n",
      "Runningto_datetime(agg_dob_second)\n",
      "Runningto_datetime(date_card)\n",
      "Runningpounds_to_kg(agg_weight_first)\n",
      "added columns ['second_fighter_age_new', 'first_fighter_age_new']... deleted columns []\n",
      "[MeanMedianImputer(variables=['agg_height_first_new', 'agg_height_second_new',\n",
      "                             'agg_reach_first_new', 'agg_reach_second_new',\n",
      "                             'second_total_str_%%_new',\n",
      "                             'first_total_str_%%_new', 'first_fighter_age_new',\n",
      "                             'second_fighter_age_new'])] <class 'feature_engine.imputation.mean_median.MeanMedianImputer'>\n"
     ]
    }
   ],
   "source": [
    "res2 = transform_pipe.run()"
   ]
  },
  {
   "cell_type": "markdown",
   "metadata": {},
   "source": [
    "# after "
   ]
  },
  {
   "cell_type": "code",
   "execution_count": 39,
   "metadata": {},
   "outputs": [
    {
     "data": {
      "text/html": [
       "<div>\n",
       "<style scoped>\n",
       "    .dataframe tbody tr th:only-of-type {\n",
       "        vertical-align: middle;\n",
       "    }\n",
       "\n",
       "    .dataframe tbody tr th {\n",
       "        vertical-align: top;\n",
       "    }\n",
       "\n",
       "    .dataframe thead th {\n",
       "        text-align: right;\n",
       "    }\n",
       "</style>\n",
       "<table border=\"1\" class=\"dataframe\">\n",
       "  <thead>\n",
       "    <tr style=\"text-align: right;\">\n",
       "      <th></th>\n",
       "      <th>agg_height_first_new</th>\n",
       "      <th>agg_height_second_new</th>\n",
       "      <th>agg_reach_first_new</th>\n",
       "      <th>agg_reach_second_new</th>\n",
       "      <th>second_total_str_%%_new</th>\n",
       "      <th>first_total_str_%%_new</th>\n",
       "      <th>weight_class_new</th>\n",
       "      <th>first_fighter_age_new</th>\n",
       "      <th>second_fighter_age_new</th>\n",
       "    </tr>\n",
       "  </thead>\n",
       "  <tbody>\n",
       "    <tr>\n",
       "      <th>0</th>\n",
       "      <td>193.04</td>\n",
       "      <td>193.04</td>\n",
       "      <td>213.36</td>\n",
       "      <td>195.58</td>\n",
       "      <td>0.452471</td>\n",
       "      <td>0.629412</td>\n",
       "      <td>92.9675</td>\n",
       "      <td>32.559190</td>\n",
       "      <td>30.119715</td>\n",
       "    </tr>\n",
       "    <tr>\n",
       "      <th>1</th>\n",
       "      <td>165.10</td>\n",
       "      <td>175.26</td>\n",
       "      <td>167.64</td>\n",
       "      <td>172.72</td>\n",
       "      <td>0.397059</td>\n",
       "      <td>0.695122</td>\n",
       "      <td>56.6875</td>\n",
       "      <td>31.923996</td>\n",
       "      <td>31.113575</td>\n",
       "    </tr>\n",
       "    <tr>\n",
       "      <th>2</th>\n",
       "      <td>195.58</td>\n",
       "      <td>182.88</td>\n",
       "      <td>203.20</td>\n",
       "      <td>187.96</td>\n",
       "      <td>0.666667</td>\n",
       "      <td>0.636364</td>\n",
       "      <td>120.1775</td>\n",
       "      <td>28.063547</td>\n",
       "      <td>26.155226</td>\n",
       "    </tr>\n",
       "    <tr>\n",
       "      <th>3</th>\n",
       "      <td>172.72</td>\n",
       "      <td>170.18</td>\n",
       "      <td>177.80</td>\n",
       "      <td>180.34</td>\n",
       "      <td>0.547009</td>\n",
       "      <td>0.391892</td>\n",
       "      <td>65.7575</td>\n",
       "      <td>28.978008</td>\n",
       "      <td>28.509826</td>\n",
       "    </tr>\n",
       "    <tr>\n",
       "      <th>4</th>\n",
       "      <td>190.50</td>\n",
       "      <td>177.80</td>\n",
       "      <td>200.66</td>\n",
       "      <td>185.42</td>\n",
       "      <td>0.805195</td>\n",
       "      <td>0.465517</td>\n",
       "      <td>117.9100</td>\n",
       "      <td>35.001403</td>\n",
       "      <td>36.534631</td>\n",
       "    </tr>\n",
       "  </tbody>\n",
       "</table>\n",
       "</div>"
      ],
      "text/plain": [
       "   agg_height_first_new  agg_height_second_new  agg_reach_first_new  \\\n",
       "0                193.04                 193.04               213.36   \n",
       "1                165.10                 175.26               167.64   \n",
       "2                195.58                 182.88               203.20   \n",
       "3                172.72                 170.18               177.80   \n",
       "4                190.50                 177.80               200.66   \n",
       "\n",
       "   agg_reach_second_new  second_total_str_%%_new  first_total_str_%%_new  \\\n",
       "0                195.58                 0.452471                0.629412   \n",
       "1                172.72                 0.397059                0.695122   \n",
       "2                187.96                 0.666667                0.636364   \n",
       "3                180.34                 0.547009                0.391892   \n",
       "4                185.42                 0.805195                0.465517   \n",
       "\n",
       "   weight_class_new  first_fighter_age_new  second_fighter_age_new  \n",
       "0           92.9675              32.559190               30.119715  \n",
       "1           56.6875              31.923996               31.113575  \n",
       "2          120.1775              28.063547               26.155226  \n",
       "3           65.7575              28.978008               28.509826  \n",
       "4          117.9100              35.001403               36.534631  "
      ]
     },
     "execution_count": 39,
     "metadata": {},
     "output_type": "execute_result"
    }
   ],
   "source": [
    "res.head(5)[[i for i in res.columns if 'new' in i]]"
   ]
  },
  {
   "cell_type": "markdown",
   "metadata": {},
   "source": [
    "# After Transformed"
   ]
  },
  {
   "cell_type": "code",
   "execution_count": 40,
   "metadata": {},
   "outputs": [
    {
     "data": {
      "text/html": [
       "<div>\n",
       "<style scoped>\n",
       "    .dataframe tbody tr th:only-of-type {\n",
       "        vertical-align: middle;\n",
       "    }\n",
       "\n",
       "    .dataframe tbody tr th {\n",
       "        vertical-align: top;\n",
       "    }\n",
       "\n",
       "    .dataframe thead th {\n",
       "        text-align: right;\n",
       "    }\n",
       "</style>\n",
       "<table border=\"1\" class=\"dataframe\">\n",
       "  <thead>\n",
       "    <tr style=\"text-align: right;\">\n",
       "      <th></th>\n",
       "      <th>agg_height_first_new</th>\n",
       "      <th>agg_height_second_new</th>\n",
       "      <th>agg_reach_first_new</th>\n",
       "      <th>agg_reach_second_new</th>\n",
       "      <th>second_total_str_%%_new</th>\n",
       "      <th>first_total_str_%%_new</th>\n",
       "      <th>weight_class_new</th>\n",
       "      <th>first_fighter_age_new</th>\n",
       "      <th>second_fighter_age_new</th>\n",
       "    </tr>\n",
       "  </thead>\n",
       "  <tbody>\n",
       "    <tr>\n",
       "      <th>0</th>\n",
       "      <td>193.04</td>\n",
       "      <td>193.04</td>\n",
       "      <td>213.36</td>\n",
       "      <td>195.58</td>\n",
       "      <td>0.452471</td>\n",
       "      <td>0.629412</td>\n",
       "      <td>92.9675</td>\n",
       "      <td>32.559190</td>\n",
       "      <td>30.119715</td>\n",
       "    </tr>\n",
       "    <tr>\n",
       "      <th>1</th>\n",
       "      <td>165.10</td>\n",
       "      <td>175.26</td>\n",
       "      <td>167.64</td>\n",
       "      <td>172.72</td>\n",
       "      <td>0.397059</td>\n",
       "      <td>0.695122</td>\n",
       "      <td>56.6875</td>\n",
       "      <td>31.923996</td>\n",
       "      <td>31.113575</td>\n",
       "    </tr>\n",
       "    <tr>\n",
       "      <th>2</th>\n",
       "      <td>195.58</td>\n",
       "      <td>182.88</td>\n",
       "      <td>203.20</td>\n",
       "      <td>187.96</td>\n",
       "      <td>0.666667</td>\n",
       "      <td>0.636364</td>\n",
       "      <td>120.1775</td>\n",
       "      <td>28.063547</td>\n",
       "      <td>26.155226</td>\n",
       "    </tr>\n",
       "    <tr>\n",
       "      <th>3</th>\n",
       "      <td>172.72</td>\n",
       "      <td>170.18</td>\n",
       "      <td>177.80</td>\n",
       "      <td>180.34</td>\n",
       "      <td>0.547009</td>\n",
       "      <td>0.391892</td>\n",
       "      <td>65.7575</td>\n",
       "      <td>28.978008</td>\n",
       "      <td>28.509826</td>\n",
       "    </tr>\n",
       "    <tr>\n",
       "      <th>4</th>\n",
       "      <td>190.50</td>\n",
       "      <td>177.80</td>\n",
       "      <td>200.66</td>\n",
       "      <td>185.42</td>\n",
       "      <td>0.805195</td>\n",
       "      <td>0.465517</td>\n",
       "      <td>117.9100</td>\n",
       "      <td>35.001403</td>\n",
       "      <td>36.534631</td>\n",
       "    </tr>\n",
       "  </tbody>\n",
       "</table>\n",
       "</div>"
      ],
      "text/plain": [
       "   agg_height_first_new  agg_height_second_new  agg_reach_first_new  \\\n",
       "0                193.04                 193.04               213.36   \n",
       "1                165.10                 175.26               167.64   \n",
       "2                195.58                 182.88               203.20   \n",
       "3                172.72                 170.18               177.80   \n",
       "4                190.50                 177.80               200.66   \n",
       "\n",
       "   agg_reach_second_new  second_total_str_%%_new  first_total_str_%%_new  \\\n",
       "0                195.58                 0.452471                0.629412   \n",
       "1                172.72                 0.397059                0.695122   \n",
       "2                187.96                 0.666667                0.636364   \n",
       "3                180.34                 0.547009                0.391892   \n",
       "4                185.42                 0.805195                0.465517   \n",
       "\n",
       "   weight_class_new  first_fighter_age_new  second_fighter_age_new  \n",
       "0           92.9675              32.559190               30.119715  \n",
       "1           56.6875              31.923996               31.113575  \n",
       "2          120.1775              28.063547               26.155226  \n",
       "3           65.7575              28.978008               28.509826  \n",
       "4          117.9100              35.001403               36.534631  "
      ]
     },
     "execution_count": 40,
     "metadata": {},
     "output_type": "execute_result"
    }
   ],
   "source": [
    "res2.head(5)[[i for i in res.columns if 'new' in i]]"
   ]
  },
  {
   "cell_type": "markdown",
   "metadata": {},
   "source": [
    "# Before"
   ]
  },
  {
   "cell_type": "code",
   "execution_count": 42,
   "metadata": {},
   "outputs": [
    {
     "data": {
      "text/html": [
       "<div>\n",
       "<style scoped>\n",
       "    .dataframe tbody tr th:only-of-type {\n",
       "        vertical-align: middle;\n",
       "    }\n",
       "\n",
       "    .dataframe tbody tr th {\n",
       "        vertical-align: top;\n",
       "    }\n",
       "\n",
       "    .dataframe thead th {\n",
       "        text-align: right;\n",
       "    }\n",
       "</style>\n",
       "<table border=\"1\" class=\"dataframe\">\n",
       "  <thead>\n",
       "    <tr style=\"text-align: right;\">\n",
       "      <th></th>\n",
       "      <th>agg_dob_first</th>\n",
       "      <th>agg_dob_second</th>\n",
       "      <th>agg_height_first</th>\n",
       "      <th>agg_height_second</th>\n",
       "      <th>agg_reach_first</th>\n",
       "      <th>agg_reach_second</th>\n",
       "      <th>agg_stand_first</th>\n",
       "      <th>agg_stand_second</th>\n",
       "      <th>agg_str_acc_first</th>\n",
       "      <th>agg_str_acc_second</th>\n",
       "      <th>...</th>\n",
       "      <th>date_card</th>\n",
       "      <th>first_fighter_res</th>\n",
       "      <th>first_sig_str_</th>\n",
       "      <th>first_sig_str_percentage</th>\n",
       "      <th>first_total_str</th>\n",
       "      <th>method</th>\n",
       "      <th>second_sig_str_percentage</th>\n",
       "      <th>second_total_str</th>\n",
       "      <th>time</th>\n",
       "      <th>type</th>\n",
       "    </tr>\n",
       "  </thead>\n",
       "  <tbody>\n",
       "    <tr>\n",
       "      <th>0</th>\n",
       "      <td>19-Jul-87</td>\n",
       "      <td>26-Dec-89</td>\n",
       "      <td>6' 4\"</td>\n",
       "      <td>6' 4\"</td>\n",
       "      <td>84\"</td>\n",
       "      <td>77\"</td>\n",
       "      <td>Orthodox</td>\n",
       "      <td>Southpaw</td>\n",
       "      <td>57%</td>\n",
       "      <td>50%</td>\n",
       "      <td>...</td>\n",
       "      <td>8-Feb-20</td>\n",
       "      <td>W</td>\n",
       "      <td>104 of 166</td>\n",
       "      <td>62%</td>\n",
       "      <td>107 of 170</td>\n",
       "      <td>Decision - Unanimous</td>\n",
       "      <td>44%</td>\n",
       "      <td>119 of 263</td>\n",
       "      <td>5:00</td>\n",
       "      <td>belt</td>\n",
       "    </tr>\n",
       "    <tr>\n",
       "      <th>1</th>\n",
       "      <td>7-Mar-88</td>\n",
       "      <td>28-Dec-88</td>\n",
       "      <td>5' 5\"</td>\n",
       "      <td>5' 9\"</td>\n",
       "      <td>66\"</td>\n",
       "      <td>68\"</td>\n",
       "      <td>Southpaw</td>\n",
       "      <td>Orthodox</td>\n",
       "      <td>51%</td>\n",
       "      <td>35%</td>\n",
       "      <td>...</td>\n",
       "      <td>8-Feb-20</td>\n",
       "      <td>W</td>\n",
       "      <td>40 of 65</td>\n",
       "      <td>61%</td>\n",
       "      <td>57 of 82</td>\n",
       "      <td>KO/TKO</td>\n",
       "      <td>30%</td>\n",
       "      <td>27 of 68</td>\n",
       "      <td>1:03</td>\n",
       "      <td>belt</td>\n",
       "    </tr>\n",
       "    <tr>\n",
       "      <th>2</th>\n",
       "      <td>16-Jan-92</td>\n",
       "      <td>13-Dec-93</td>\n",
       "      <td>6' 5\"</td>\n",
       "      <td>6' 0\"</td>\n",
       "      <td>80\"</td>\n",
       "      <td>74\"</td>\n",
       "      <td>Orthodox</td>\n",
       "      <td>Southpaw</td>\n",
       "      <td>55%</td>\n",
       "      <td>55%</td>\n",
       "      <td>...</td>\n",
       "      <td>8-Feb-20</td>\n",
       "      <td>L</td>\n",
       "      <td>7 of 11</td>\n",
       "      <td>63%</td>\n",
       "      <td>7 of 11</td>\n",
       "      <td>KO/TKO</td>\n",
       "      <td>66%</td>\n",
       "      <td>10 of 15</td>\n",
       "      <td>1:59</td>\n",
       "      <td>NaN</td>\n",
       "    </tr>\n",
       "    <tr>\n",
       "      <th>3</th>\n",
       "      <td>16-Feb-91</td>\n",
       "      <td>6-Aug-91</td>\n",
       "      <td>5' 8\"</td>\n",
       "      <td>5' 7\"</td>\n",
       "      <td>70\"</td>\n",
       "      <td>71\"</td>\n",
       "      <td>Orthodox</td>\n",
       "      <td>Orthodox</td>\n",
       "      <td>41%</td>\n",
       "      <td>46%</td>\n",
       "      <td>...</td>\n",
       "      <td>8-Feb-20</td>\n",
       "      <td>L</td>\n",
       "      <td>17 of 60</td>\n",
       "      <td>28%</td>\n",
       "      <td>29 of 74</td>\n",
       "      <td>Decision - Split</td>\n",
       "      <td>48%</td>\n",
       "      <td>64 of 117</td>\n",
       "      <td>5:00</td>\n",
       "      <td>NaN</td>\n",
       "    </tr>\n",
       "    <tr>\n",
       "      <th>4</th>\n",
       "      <td>7-Feb-85</td>\n",
       "      <td>28-Jul-83</td>\n",
       "      <td>6' 3\"</td>\n",
       "      <td>5' 10\"</td>\n",
       "      <td>79\"</td>\n",
       "      <td>73\"</td>\n",
       "      <td>Orthodox</td>\n",
       "      <td>Orthodox</td>\n",
       "      <td>50%</td>\n",
       "      <td>39%</td>\n",
       "      <td>...</td>\n",
       "      <td>8-Feb-20</td>\n",
       "      <td>W</td>\n",
       "      <td>20 of 50</td>\n",
       "      <td>40%</td>\n",
       "      <td>27 of 58</td>\n",
       "      <td>Decision - Unanimous</td>\n",
       "      <td>41%</td>\n",
       "      <td>62 of 77</td>\n",
       "      <td>5:00</td>\n",
       "      <td>NaN</td>\n",
       "    </tr>\n",
       "  </tbody>\n",
       "</table>\n",
       "<p>5 rows × 21 columns</p>\n",
       "</div>"
      ],
      "text/plain": [
       "  agg_dob_first agg_dob_second agg_height_first agg_height_second  \\\n",
       "0     19-Jul-87      26-Dec-89            6' 4\"             6' 4\"   \n",
       "1      7-Mar-88      28-Dec-88            5' 5\"             5' 9\"   \n",
       "2     16-Jan-92      13-Dec-93            6' 5\"             6' 0\"   \n",
       "3     16-Feb-91       6-Aug-91            5' 8\"             5' 7\"   \n",
       "4      7-Feb-85      28-Jul-83            6' 3\"            5' 10\"   \n",
       "\n",
       "  agg_reach_first agg_reach_second agg_stand_first agg_stand_second  \\\n",
       "0             84\"              77\"        Orthodox         Southpaw   \n",
       "1             66\"              68\"        Southpaw         Orthodox   \n",
       "2             80\"              74\"        Orthodox         Southpaw   \n",
       "3             70\"              71\"        Orthodox         Orthodox   \n",
       "4             79\"              73\"        Orthodox         Orthodox   \n",
       "\n",
       "  agg_str_acc_first agg_str_acc_second  ... date_card first_fighter_res  \\\n",
       "0               57%                50%  ...  8-Feb-20                 W   \n",
       "1               51%                35%  ...  8-Feb-20                 W   \n",
       "2               55%                55%  ...  8-Feb-20                 L   \n",
       "3               41%                46%  ...  8-Feb-20                 L   \n",
       "4               50%                39%  ...  8-Feb-20                 W   \n",
       "\n",
       "  first_sig_str_ first_sig_str_percentage first_total_str  \\\n",
       "0     104 of 166                      62%      107 of 170   \n",
       "1       40 of 65                      61%        57 of 82   \n",
       "2        7 of 11                      63%         7 of 11   \n",
       "3       17 of 60                      28%        29 of 74   \n",
       "4       20 of 50                      40%        27 of 58   \n",
       "\n",
       "                   method second_sig_str_percentage second_total_str  time  \\\n",
       "0   Decision - Unanimous                        44%       119 of 263  5:00   \n",
       "1                 KO/TKO                        30%         27 of 68  1:03   \n",
       "2                 KO/TKO                        66%         10 of 15  1:59   \n",
       "3       Decision - Split                        48%        64 of 117  5:00   \n",
       "4   Decision - Unanimous                        41%         62 of 77  5:00   \n",
       "\n",
       "   type  \n",
       "0  belt  \n",
       "1  belt  \n",
       "2   NaN  \n",
       "3   NaN  \n",
       "4   NaN  \n",
       "\n",
       "[5 rows x 21 columns]"
      ]
     },
     "execution_count": 42,
     "metadata": {},
     "output_type": "execute_result"
    }
   ],
   "source": [
    "data.head(5)"
   ]
  },
  {
   "cell_type": "code",
   "execution_count": null,
   "metadata": {},
   "outputs": [],
   "source": []
  }
 ],
 "metadata": {
  "kernelspec": {
   "display_name": "Python 3",
   "language": "python",
   "name": "python3"
  },
  "language_info": {
   "codemirror_mode": {
    "name": "ipython",
    "version": 3
   },
   "file_extension": ".py",
   "mimetype": "text/x-python",
   "name": "python",
   "nbconvert_exporter": "python",
   "pygments_lexer": "ipython3",
   "version": "3.7.4"
  }
 },
 "nbformat": 4,
 "nbformat_minor": 4
}
