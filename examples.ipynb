{
 "cells": [
  {
   "cell_type": "code",
   "execution_count": 119,
   "metadata": {},
   "outputs": [
    {
     "name": "stdout",
     "output_type": "stream",
     "text": [
      "The autoreload extension is already loaded. To reload it, use:\n",
      "  %reload_ext autoreload\n"
     ]
    }
   ],
   "source": [
    "%load_ext autoreload\n",
    "%autoreload 2"
   ]
  },
  {
   "cell_type": "code",
   "execution_count": 120,
   "metadata": {},
   "outputs": [],
   "source": [
    "from dukto.pipe import Pipe\n",
    "from dukto.processor import ColProcessor, MultiColProcessor, Transformer\n",
    "import pandas as pd\n",
    "import numpy as np"
   ]
  },
  {
   "cell_type": "code",
   "execution_count": 121,
   "metadata": {},
   "outputs": [],
   "source": [
    "data  = pd.read_csv('data/students.csv', index_col=0)"
   ]
  },
  {
   "cell_type": "markdown",
   "metadata": {},
   "source": [
    "## ColProcessor\n",
    "### applys function/s to a column/s  "
   ]
  },
  {
   "cell_type": "code",
   "execution_count": 122,
   "metadata": {},
   "outputs": [],
   "source": [
    "def grade_prod_mapper(g):\n",
    "    return {'Freshman':\"9th\",'Sophomore':\"10th\",'Junior':'11th','Senior':\"12th\"}[g]\n",
    "\n",
    "# ColProcessor \n",
    "pipeline = [\n",
    "    ColProcessor('chem_grade',funcs=lambda x:(int(x.split('/')[0])/60)*100, ),\n",
    "    ColProcessor(['phy_grade', 'bio_grade'], funcs=lambda x:int(x)),\n",
    "    ColProcessor('age', funcs=lambda x:int(x[:-1])/12 if 'm' in x else int(x)),\n",
    "    ColProcessor('height',funcs=lambda x:float(x[:-2])*2.54),\n",
    "    ColProcessor('grade',funcs=[grade_prod_mapper, lambda x:int(x[:-2])], suffix='_new')\n",
    "]"
   ]
  },
  {
   "cell_type": "markdown",
   "metadata": {},
   "source": [
    "## MultiColProcessor\n",
    "\n",
    "## applies a function that takes and returns a dataframe\n",
    "## this class is used to add columns based on other column/s"
   ]
  },
  {
   "cell_type": "code",
   "execution_count": 123,
   "metadata": {},
   "outputs": [],
   "source": [
    "def avg_grade(df):\n",
    "    df['avg_grade'] = df[['chem_grade','phy_grade','bio_grade']].mean(axis=1)\n",
    "    return df\n",
    "\n",
    "multi_pipe = [\n",
    "    MultiColProcessor(funcs=[avg_grade], funcs_test={})\n",
    "] "
   ]
  },
  {
   "cell_type": "markdown",
   "metadata": {},
   "source": [
    "## Transformer\n",
    "\n",
    "### applies a feature_engine style transformer to a column/s"
   ]
  },
  {
   "cell_type": "code",
   "execution_count": 124,
   "metadata": {},
   "outputs": [],
   "source": [
    "from feature_engine.encoding import CountFrequencyEncoder\n",
    "from feature_engine.imputation import MeanMedianImputer\n",
    "# add school name so you can encode it\n",
    "\n",
    "transformers = [\n",
    "    Transformer(name=['class'], transformers=[CountFrequencyEncoder]),\n",
    "    Transformer(name=['class', 'age'], transformers=[MeanMedianImputer])\n",
    "    \n",
    "    \n",
    "]"
   ]
  },
  {
   "cell_type": "code",
   "execution_count": 130,
   "metadata": {},
   "outputs": [],
   "source": [
    "# add all pipelines\n",
    "all_pipes = pipeline + multi_pipe + transformers"
   ]
  },
  {
   "cell_type": "code",
   "execution_count": 131,
   "metadata": {},
   "outputs": [],
   "source": [
    "pipe = Pipe(data=data, pipeline=all_pipes)"
   ]
  },
  {
   "cell_type": "code",
   "execution_count": 133,
   "metadata": {},
   "outputs": [
    {
     "data": {
      "text/html": [
       "<div>\n",
       "<style scoped>\n",
       "    .dataframe tbody tr th:only-of-type {\n",
       "        vertical-align: middle;\n",
       "    }\n",
       "\n",
       "    .dataframe tbody tr th {\n",
       "        vertical-align: top;\n",
       "    }\n",
       "\n",
       "    .dataframe thead th {\n",
       "        text-align: right;\n",
       "    }\n",
       "</style>\n",
       "<table border=\"1\" class=\"dataframe\">\n",
       "  <thead>\n",
       "    <tr style=\"text-align: right;\">\n",
       "      <th></th>\n",
       "      <th>name</th>\n",
       "      <th>chem_grade</th>\n",
       "      <th>phy_grade</th>\n",
       "      <th>bio_grade</th>\n",
       "      <th>age</th>\n",
       "      <th>height</th>\n",
       "      <th>grade</th>\n",
       "      <th>class</th>\n",
       "      <th>grade_new</th>\n",
       "      <th>avg_grade</th>\n",
       "    </tr>\n",
       "  </thead>\n",
       "  <tbody>\n",
       "    <tr>\n",
       "      <th>0</th>\n",
       "      <td>Jalyiah Darcey</td>\n",
       "      <td>43.333333</td>\n",
       "      <td>77</td>\n",
       "      <td>17</td>\n",
       "      <td>17.000000</td>\n",
       "      <td>396.24</td>\n",
       "      <td>Freshman</td>\n",
       "      <td>59</td>\n",
       "      <td>9</td>\n",
       "      <td>45.777778</td>\n",
       "    </tr>\n",
       "    <tr>\n",
       "      <th>1</th>\n",
       "      <td>Eunita Beahm</td>\n",
       "      <td>18.333333</td>\n",
       "      <td>56</td>\n",
       "      <td>67</td>\n",
       "      <td>15.333333</td>\n",
       "      <td>416.56</td>\n",
       "      <td>Freshman</td>\n",
       "      <td>140</td>\n",
       "      <td>9</td>\n",
       "      <td>47.111111</td>\n",
       "    </tr>\n",
       "    <tr>\n",
       "      <th>2</th>\n",
       "      <td>Guluzar Bernand</td>\n",
       "      <td>70.000000</td>\n",
       "      <td>97</td>\n",
       "      <td>65</td>\n",
       "      <td>18.000000</td>\n",
       "      <td>398.78</td>\n",
       "      <td>Freshman</td>\n",
       "      <td>59</td>\n",
       "      <td>9</td>\n",
       "      <td>77.333333</td>\n",
       "    </tr>\n",
       "    <tr>\n",
       "      <th>3</th>\n",
       "      <td>Jonatham Mcnicoll</td>\n",
       "      <td>95.000000</td>\n",
       "      <td>68</td>\n",
       "      <td>92</td>\n",
       "      <td>17.000000</td>\n",
       "      <td>378.46</td>\n",
       "      <td>Freshman</td>\n",
       "      <td>87</td>\n",
       "      <td>9</td>\n",
       "      <td>85.000000</td>\n",
       "    </tr>\n",
       "    <tr>\n",
       "      <th>4</th>\n",
       "      <td>Greison Hisrich</td>\n",
       "      <td>93.333333</td>\n",
       "      <td>96</td>\n",
       "      <td>49</td>\n",
       "      <td>14.000000</td>\n",
       "      <td>414.02</td>\n",
       "      <td>Freshman</td>\n",
       "      <td>140</td>\n",
       "      <td>9</td>\n",
       "      <td>79.444444</td>\n",
       "    </tr>\n",
       "  </tbody>\n",
       "</table>\n",
       "</div>"
      ],
      "text/plain": [
       "                name  chem_grade  phy_grade  bio_grade        age  height  \\\n",
       "0     Jalyiah Darcey   43.333333         77         17  17.000000  396.24   \n",
       "1       Eunita Beahm   18.333333         56         67  15.333333  416.56   \n",
       "2    Guluzar Bernand   70.000000         97         65  18.000000  398.78   \n",
       "3  Jonatham Mcnicoll   95.000000         68         92  17.000000  378.46   \n",
       "4    Greison Hisrich   93.333333         96         49  14.000000  414.02   \n",
       "\n",
       "      grade  class  grade_new  avg_grade  \n",
       "0  Freshman     59          9  45.777778  \n",
       "1  Freshman    140          9  47.111111  \n",
       "2  Freshman     59          9  77.333333  \n",
       "3  Freshman     87          9  85.000000  \n",
       "4  Freshman    140          9  79.444444  "
      ]
     },
     "execution_count": 133,
     "metadata": {},
     "output_type": "execute_result"
    }
   ],
   "source": [
    "pipe.run().head()"
   ]
  },
  {
   "cell_type": "code",
   "execution_count": 135,
   "metadata": {},
   "outputs": [
    {
     "data": {
      "text/html": [
       "<div>\n",
       "<style scoped>\n",
       "    .dataframe tbody tr th:only-of-type {\n",
       "        vertical-align: middle;\n",
       "    }\n",
       "\n",
       "    .dataframe tbody tr th {\n",
       "        vertical-align: top;\n",
       "    }\n",
       "\n",
       "    .dataframe thead th {\n",
       "        text-align: right;\n",
       "    }\n",
       "</style>\n",
       "<table border=\"1\" class=\"dataframe\">\n",
       "  <thead>\n",
       "    <tr style=\"text-align: right;\">\n",
       "      <th></th>\n",
       "      <th>name</th>\n",
       "      <th>chem_grade</th>\n",
       "      <th>phy_grade</th>\n",
       "      <th>bio_grade</th>\n",
       "      <th>age</th>\n",
       "      <th>height</th>\n",
       "      <th>grade</th>\n",
       "      <th>class</th>\n",
       "    </tr>\n",
       "  </thead>\n",
       "  <tbody>\n",
       "    <tr>\n",
       "      <th>0</th>\n",
       "      <td>Jalyiah Darcey</td>\n",
       "      <td>26/60</td>\n",
       "      <td>77</td>\n",
       "      <td>17</td>\n",
       "      <td>17</td>\n",
       "      <td>156cm</td>\n",
       "      <td>Freshman</td>\n",
       "      <td>A</td>\n",
       "    </tr>\n",
       "    <tr>\n",
       "      <th>1</th>\n",
       "      <td>Eunita Beahm</td>\n",
       "      <td>11/60</td>\n",
       "      <td>56</td>\n",
       "      <td>67</td>\n",
       "      <td>184m</td>\n",
       "      <td>164cm</td>\n",
       "      <td>Freshman</td>\n",
       "      <td>C</td>\n",
       "    </tr>\n",
       "    <tr>\n",
       "      <th>2</th>\n",
       "      <td>Guluzar Bernand</td>\n",
       "      <td>42/60</td>\n",
       "      <td>97</td>\n",
       "      <td>65</td>\n",
       "      <td>18</td>\n",
       "      <td>157cm</td>\n",
       "      <td>Freshman</td>\n",
       "      <td>A</td>\n",
       "    </tr>\n",
       "    <tr>\n",
       "      <th>3</th>\n",
       "      <td>Jonatham Mcnicoll</td>\n",
       "      <td>57/60</td>\n",
       "      <td>68</td>\n",
       "      <td>92</td>\n",
       "      <td>17</td>\n",
       "      <td>149cm</td>\n",
       "      <td>Freshman</td>\n",
       "      <td>B</td>\n",
       "    </tr>\n",
       "    <tr>\n",
       "      <th>4</th>\n",
       "      <td>Greison Hisrich</td>\n",
       "      <td>56/60</td>\n",
       "      <td>96</td>\n",
       "      <td>49</td>\n",
       "      <td>14</td>\n",
       "      <td>163cm</td>\n",
       "      <td>Freshman</td>\n",
       "      <td>C</td>\n",
       "    </tr>\n",
       "  </tbody>\n",
       "</table>\n",
       "</div>"
      ],
      "text/plain": [
       "                name chem_grade  phy_grade  bio_grade   age height     grade  \\\n",
       "0     Jalyiah Darcey      26/60         77         17    17  156cm  Freshman   \n",
       "1       Eunita Beahm      11/60         56         67  184m  164cm  Freshman   \n",
       "2    Guluzar Bernand      42/60         97         65    18  157cm  Freshman   \n",
       "3  Jonatham Mcnicoll      57/60         68         92    17  149cm  Freshman   \n",
       "4    Greison Hisrich      56/60         96         49    14  163cm  Freshman   \n",
       "\n",
       "  class  \n",
       "0     A  \n",
       "1     C  \n",
       "2     A  \n",
       "3     B  \n",
       "4     C  "
      ]
     },
     "execution_count": 135,
     "metadata": {},
     "output_type": "execute_result"
    }
   ],
   "source": [
    "data.head()"
   ]
  },
  {
   "cell_type": "code",
   "execution_count": null,
   "metadata": {},
   "outputs": [],
   "source": []
  }
 ],
 "metadata": {
  "kernelspec": {
   "display_name": "Python 3",
   "language": "python",
   "name": "python3"
  },
  "language_info": {
   "codemirror_mode": {
    "name": "ipython",
    "version": 3
   },
   "file_extension": ".py",
   "mimetype": "text/x-python",
   "name": "python",
   "nbconvert_exporter": "python",
   "pygments_lexer": "ipython3",
   "version": "3.7.4"
  }
 },
 "nbformat": 4,
 "nbformat_minor": 4
}
