{
 "cells": [
  {
   "cell_type": "code",
   "execution_count": 649,
   "metadata": {},
   "outputs": [
    {
     "name": "stdout",
     "output_type": "stream",
     "text": [
      "The autoreload extension is already loaded. To reload it, use:\n",
      "  %reload_ext autoreload\n"
     ]
    }
   ],
   "source": [
    "%load_ext autoreload\n",
    "%autoreload 2"
   ]
  },
  {
   "cell_type": "code",
   "execution_count": 650,
   "metadata": {},
   "outputs": [],
   "source": [
    "from dukto.pipe import Pipe\n",
    "from dukto.processor import ColProcessor, MultiColProcessor, Transformer\n",
    "import pandas as pd\n",
    "import numpy as np\n",
    "from feature_engine.encoding import CountFrequencyEncoder\n",
    "from feature_engine.imputation import MeanMedianImputer, CategoricalImputer"
   ]
  },
  {
   "cell_type": "code",
   "execution_count": 651,
   "metadata": {},
   "outputs": [],
   "source": [
    "data  = pd.read_csv('data/ufc.csv', index_col=0)"
   ]
  },
  {
   "cell_type": "markdown",
   "metadata": {},
   "source": [
    "# ColProcessor\n",
    "### applies function/s to a column/s  "
   ]
  },
  {
   "cell_type": "code",
   "execution_count": 652,
   "metadata": {},
   "outputs": [],
   "source": [
    "def convert_foot_to_cm(r):\n",
    "    if isinstance(r, str) and \"'\" in r:\n",
    "        foot, inches = r.split(\"'\")\n",
    "        inches = int(foot)*12 + int(inches.replace('\"', ''))\n",
    "        return inches*2.54\n",
    "    return np.nan\n",
    "\n",
    "def convert_inch_to_cm(r):\n",
    "    if isinstance(r,str) and '\"' in r:\n",
    "        return int(r.replace('\"', '')) * 2.54\n",
    "    return np.nan\n",
    "\n",
    "def num_of_num_to_perc(r):\n",
    "    if isinstance(r,str) and 'of' in r:\n",
    "        thr, landed = map(int, r.split('of'))\n",
    "        if landed > 0:\n",
    "            return thr / landed \n",
    "    return np.nan\n",
    "\n",
    "def pounds_to_kg(r):\n",
    "    if isinstance(r, str) and 'lbs' in r:\n",
    "        return int(r.split(' ')[0]) * 0.4535\n",
    "    return r"
   ]
  },
  {
   "cell_type": "code",
   "execution_count": 653,
   "metadata": {},
   "outputs": [],
   "source": [
    "single_pipe = [\n",
    "    ColProcessor(name=['agg_height_first','agg_height_second'], \n",
    "                 funcs=[convert_foot_to_cm], funcs_test={\"6'2\\\"\":187.96}, suffix='_new'),\n",
    "    \n",
    "    ColProcessor(name=['agg_reach_first','agg_reach_second'], \n",
    "                 funcs=[convert_inch_to_cm], funcs_test={'70\"': 177.80}, suffix='_new'),\n",
    "    \n",
    "    ColProcessor(name=['second_total_str', 'first_total_str'], \n",
    "                 funcs=[num_of_num_to_perc], suffix='_%%_new', funcs_test={'50 of 100':0.5}),\n",
    "    \n",
    "    ColProcessor(name=['agg_dob_first', 'agg_dob_second', 'date_card'], \n",
    "                 funcs=[pd.to_datetime]),\n",
    "    \n",
    "    ColProcessor(name='agg_weight_first', new_name={\"agg_weight_first\":'weight_class'}, \n",
    "                 funcs=[pounds_to_kg], suffix='_new', drop=True)\n",
    "]"
   ]
  },
  {
   "cell_type": "markdown",
   "metadata": {},
   "source": [
    "## MultiColProcessor\n",
    "\n",
    "## applies a function that takes and returns a pandas DataFrame\n",
    "## this class is used to add columns based on other column/s"
   ]
  },
  {
   "cell_type": "code",
   "execution_count": 654,
   "metadata": {},
   "outputs": [],
   "source": [
    "def add_ages(df):\n",
    "    df['first_fighter_age_new'] = df['date_card'] - df['agg_dob_first']\n",
    "    df['second_fighter_age_new'] = df['date_card'] - df['agg_dob_second']\n",
    "    return df\n",
    "\n",
    "def ages_in_years(df):\n",
    "    df[['first_fighter_age_new', 'second_fighter_age_new']] = df[['first_fighter_age_new', 'second_fighter_age_new']].applymap(lambda x:x/np.timedelta64(1, 'Y'))\n",
    "    return df"
   ]
  },
  {
   "cell_type": "code",
   "execution_count": 655,
   "metadata": {},
   "outputs": [],
   "source": [
    "multi_pipe = [\n",
    "    MultiColProcessor(name=['first_fighter_age_new', 'second_fighter_age_new'], \n",
    "                      funcs=[add_ages, ages_in_years]),\n",
    "             ]"
   ]
  },
  {
   "cell_type": "markdown",
   "metadata": {},
   "source": [
    "## Transformer\n",
    "\n",
    "### applies a feature_engine style transformer to a column/s"
   ]
  },
  {
   "cell_type": "code",
   "execution_count": 656,
   "metadata": {},
   "outputs": [],
   "source": [
    "\n",
    "new_cols_func = lambda x: [i for i in x if (('new' in i) and ('weight' not in i))]\n",
    "\n",
    "trans_pipe  = [\n",
    "    Transformer(name_from_func=new_cols_func, \n",
    "                transformers=[MeanMedianImputer]),\n",
    "    \n",
    "    MultiColProcessor(funcs=[lambda x:x.assign(weight_class_new=x.weight_class_new.astype(str))]),\n",
    "    \n",
    "    Transformer(name=['weight_class_new'], \n",
    "                transformers=[CategoricalImputer,CountFrequencyEncoder]),\n",
    "]"
   ]
  },
  {
   "cell_type": "code",
   "execution_count": 657,
   "metadata": {},
   "outputs": [],
   "source": [
    "pipeline = single_pipe+multi_pipe+trans_pipe"
   ]
  },
  {
   "cell_type": "code",
   "execution_count": 658,
   "metadata": {},
   "outputs": [
    {
     "data": {
      "text/plain": [
       "[ColProcessor(agg_height_first, agg_height_second),\n",
       " ColProcessor(agg_reach_first, agg_reach_second),\n",
       " ColProcessor(second_total_str, first_total_str),\n",
       " ColProcessor(agg_dob_first, agg_dob_second, date_card),\n",
       " ColProcessor(agg_weight_first),\n",
       " MultiColProcessor(first_fighter_age_new, second_fighter_age_new),\n",
       " Transformer(),\n",
       " MultiColProcessor(),\n",
       " Transformer()]"
      ]
     },
     "execution_count": 658,
     "metadata": {},
     "output_type": "execute_result"
    }
   ],
   "source": [
    "pipeline"
   ]
  },
  {
   "cell_type": "code",
   "execution_count": 659,
   "metadata": {},
   "outputs": [],
   "source": [
    "pipe = Pipe(data=data, pipeline=pipeline, run_test_cases=True)"
   ]
  },
  {
   "cell_type": "code",
   "execution_count": 660,
   "metadata": {},
   "outputs": [
    {
     "name": "stdout",
     "output_type": "stream",
     "text": [
      "ColProcessor (agg_height_first, agg_height_second) test cases PASSED! 😎\n",
      "ColProcessor (agg_reach_first, agg_reach_second) test cases PASSED! 😎\n",
      "ColProcessor (second_total_str, first_total_str) test cases PASSED! 😎\n",
      "ColProcessor (agg_dob_first, agg_dob_second, date_card) test cases NOT FOUND.\n",
      "ColProcessor (agg_weight_first)             test cases NOT FOUND.\n",
      "Multi test not implemented yet\n",
      "transformer test not implemented yet\n",
      "Multi test not implemented yet\n",
      "transformer test not implemented yet\n"
     ]
    }
   ],
   "source": [
    "res = pipe.run()"
   ]
  },
  {
   "cell_type": "markdown",
   "metadata": {},
   "source": [
    "# after "
   ]
  },
  {
   "cell_type": "code",
   "execution_count": 666,
   "metadata": {},
   "outputs": [
    {
     "data": {
      "text/html": [
       "<div>\n",
       "<style scoped>\n",
       "    .dataframe tbody tr th:only-of-type {\n",
       "        vertical-align: middle;\n",
       "    }\n",
       "\n",
       "    .dataframe tbody tr th {\n",
       "        vertical-align: top;\n",
       "    }\n",
       "\n",
       "    .dataframe thead th {\n",
       "        text-align: right;\n",
       "    }\n",
       "</style>\n",
       "<table border=\"1\" class=\"dataframe\">\n",
       "  <thead>\n",
       "    <tr style=\"text-align: right;\">\n",
       "      <th></th>\n",
       "      <th>agg_height_first_new</th>\n",
       "      <th>agg_height_second_new</th>\n",
       "      <th>agg_reach_first_new</th>\n",
       "      <th>agg_reach_second_new</th>\n",
       "      <th>second_total_str_%%_new</th>\n",
       "      <th>first_total_str_%%_new</th>\n",
       "      <th>weight_class_new</th>\n",
       "      <th>first_fighter_age_new</th>\n",
       "      <th>second_fighter_age_new</th>\n",
       "    </tr>\n",
       "  </thead>\n",
       "  <tbody>\n",
       "    <tr>\n",
       "      <th>0</th>\n",
       "      <td>193.04</td>\n",
       "      <td>193.04</td>\n",
       "      <td>213.36</td>\n",
       "      <td>195.58</td>\n",
       "      <td>0.452471</td>\n",
       "      <td>0.629412</td>\n",
       "      <td>454</td>\n",
       "      <td>32.559190</td>\n",
       "      <td>30.119715</td>\n",
       "    </tr>\n",
       "    <tr>\n",
       "      <th>1</th>\n",
       "      <td>165.10</td>\n",
       "      <td>175.26</td>\n",
       "      <td>167.64</td>\n",
       "      <td>172.72</td>\n",
       "      <td>0.397059</td>\n",
       "      <td>0.695122</td>\n",
       "      <td>382</td>\n",
       "      <td>31.923996</td>\n",
       "      <td>31.113575</td>\n",
       "    </tr>\n",
       "    <tr>\n",
       "      <th>2</th>\n",
       "      <td>195.58</td>\n",
       "      <td>182.88</td>\n",
       "      <td>203.20</td>\n",
       "      <td>187.96</td>\n",
       "      <td>0.666667</td>\n",
       "      <td>0.636364</td>\n",
       "      <td>96</td>\n",
       "      <td>28.063547</td>\n",
       "      <td>26.155226</td>\n",
       "    </tr>\n",
       "  </tbody>\n",
       "</table>\n",
       "</div>"
      ],
      "text/plain": [
       "   agg_height_first_new  agg_height_second_new  agg_reach_first_new  \\\n",
       "0                193.04                 193.04               213.36   \n",
       "1                165.10                 175.26               167.64   \n",
       "2                195.58                 182.88               203.20   \n",
       "\n",
       "   agg_reach_second_new  second_total_str_%%_new  first_total_str_%%_new  \\\n",
       "0                195.58                 0.452471                0.629412   \n",
       "1                172.72                 0.397059                0.695122   \n",
       "2                187.96                 0.666667                0.636364   \n",
       "\n",
       "   weight_class_new  first_fighter_age_new  second_fighter_age_new  \n",
       "0               454              32.559190               30.119715  \n",
       "1               382              31.923996               31.113575  \n",
       "2                96              28.063547               26.155226  "
      ]
     },
     "execution_count": 666,
     "metadata": {},
     "output_type": "execute_result"
    }
   ],
   "source": [
    "res[[i for i in res.columns if 'new' in i]].head(3)"
   ]
  },
  {
   "cell_type": "markdown",
   "metadata": {},
   "source": [
    "# Before"
   ]
  },
  {
   "cell_type": "code",
   "execution_count": 665,
   "metadata": {},
   "outputs": [
    {
     "data": {
      "text/html": [
       "<div>\n",
       "<style scoped>\n",
       "    .dataframe tbody tr th:only-of-type {\n",
       "        vertical-align: middle;\n",
       "    }\n",
       "\n",
       "    .dataframe tbody tr th {\n",
       "        vertical-align: top;\n",
       "    }\n",
       "\n",
       "    .dataframe thead th {\n",
       "        text-align: right;\n",
       "    }\n",
       "</style>\n",
       "<table border=\"1\" class=\"dataframe\">\n",
       "  <thead>\n",
       "    <tr style=\"text-align: right;\">\n",
       "      <th></th>\n",
       "      <th>agg_dob_first</th>\n",
       "      <th>agg_dob_second</th>\n",
       "      <th>agg_height_first</th>\n",
       "      <th>agg_height_second</th>\n",
       "      <th>agg_reach_first</th>\n",
       "      <th>agg_reach_second</th>\n",
       "      <th>agg_stand_first</th>\n",
       "      <th>agg_stand_second</th>\n",
       "      <th>agg_str_acc_first</th>\n",
       "      <th>agg_str_acc_second</th>\n",
       "      <th>...</th>\n",
       "      <th>date_card</th>\n",
       "      <th>first_fighter_res</th>\n",
       "      <th>first_sig_str_</th>\n",
       "      <th>first_sig_str_percentage</th>\n",
       "      <th>first_total_str</th>\n",
       "      <th>method</th>\n",
       "      <th>second_sig_str_percentage</th>\n",
       "      <th>second_total_str</th>\n",
       "      <th>time</th>\n",
       "      <th>type</th>\n",
       "    </tr>\n",
       "  </thead>\n",
       "  <tbody>\n",
       "    <tr>\n",
       "      <th>0</th>\n",
       "      <td>19-Jul-87</td>\n",
       "      <td>26-Dec-89</td>\n",
       "      <td>6' 4\"</td>\n",
       "      <td>6' 4\"</td>\n",
       "      <td>84\"</td>\n",
       "      <td>77\"</td>\n",
       "      <td>Orthodox</td>\n",
       "      <td>Southpaw</td>\n",
       "      <td>57%</td>\n",
       "      <td>50%</td>\n",
       "      <td>...</td>\n",
       "      <td>8-Feb-20</td>\n",
       "      <td>W</td>\n",
       "      <td>104 of 166</td>\n",
       "      <td>62%</td>\n",
       "      <td>107 of 170</td>\n",
       "      <td>Decision - Unanimous</td>\n",
       "      <td>44%</td>\n",
       "      <td>119 of 263</td>\n",
       "      <td>5:00</td>\n",
       "      <td>belt</td>\n",
       "    </tr>\n",
       "    <tr>\n",
       "      <th>1</th>\n",
       "      <td>7-Mar-88</td>\n",
       "      <td>28-Dec-88</td>\n",
       "      <td>5' 5\"</td>\n",
       "      <td>5' 9\"</td>\n",
       "      <td>66\"</td>\n",
       "      <td>68\"</td>\n",
       "      <td>Southpaw</td>\n",
       "      <td>Orthodox</td>\n",
       "      <td>51%</td>\n",
       "      <td>35%</td>\n",
       "      <td>...</td>\n",
       "      <td>8-Feb-20</td>\n",
       "      <td>W</td>\n",
       "      <td>40 of 65</td>\n",
       "      <td>61%</td>\n",
       "      <td>57 of 82</td>\n",
       "      <td>KO/TKO</td>\n",
       "      <td>30%</td>\n",
       "      <td>27 of 68</td>\n",
       "      <td>1:03</td>\n",
       "      <td>belt</td>\n",
       "    </tr>\n",
       "    <tr>\n",
       "      <th>2</th>\n",
       "      <td>16-Jan-92</td>\n",
       "      <td>13-Dec-93</td>\n",
       "      <td>6' 5\"</td>\n",
       "      <td>6' 0\"</td>\n",
       "      <td>80\"</td>\n",
       "      <td>74\"</td>\n",
       "      <td>Orthodox</td>\n",
       "      <td>Southpaw</td>\n",
       "      <td>55%</td>\n",
       "      <td>55%</td>\n",
       "      <td>...</td>\n",
       "      <td>8-Feb-20</td>\n",
       "      <td>L</td>\n",
       "      <td>7 of 11</td>\n",
       "      <td>63%</td>\n",
       "      <td>7 of 11</td>\n",
       "      <td>KO/TKO</td>\n",
       "      <td>66%</td>\n",
       "      <td>10 of 15</td>\n",
       "      <td>1:59</td>\n",
       "      <td>NaN</td>\n",
       "    </tr>\n",
       "  </tbody>\n",
       "</table>\n",
       "<p>3 rows × 21 columns</p>\n",
       "</div>"
      ],
      "text/plain": [
       "  agg_dob_first agg_dob_second agg_height_first agg_height_second  \\\n",
       "0     19-Jul-87      26-Dec-89            6' 4\"             6' 4\"   \n",
       "1      7-Mar-88      28-Dec-88            5' 5\"             5' 9\"   \n",
       "2     16-Jan-92      13-Dec-93            6' 5\"             6' 0\"   \n",
       "\n",
       "  agg_reach_first agg_reach_second agg_stand_first agg_stand_second  \\\n",
       "0             84\"              77\"        Orthodox         Southpaw   \n",
       "1             66\"              68\"        Southpaw         Orthodox   \n",
       "2             80\"              74\"        Orthodox         Southpaw   \n",
       "\n",
       "  agg_str_acc_first agg_str_acc_second  ... date_card first_fighter_res  \\\n",
       "0               57%                50%  ...  8-Feb-20                 W   \n",
       "1               51%                35%  ...  8-Feb-20                 W   \n",
       "2               55%                55%  ...  8-Feb-20                 L   \n",
       "\n",
       "  first_sig_str_ first_sig_str_percentage first_total_str  \\\n",
       "0     104 of 166                      62%      107 of 170   \n",
       "1       40 of 65                      61%        57 of 82   \n",
       "2        7 of 11                      63%         7 of 11   \n",
       "\n",
       "                   method second_sig_str_percentage second_total_str  time  \\\n",
       "0   Decision - Unanimous                        44%       119 of 263  5:00   \n",
       "1                 KO/TKO                        30%         27 of 68  1:03   \n",
       "2                 KO/TKO                        66%         10 of 15  1:59   \n",
       "\n",
       "   type  \n",
       "0  belt  \n",
       "1  belt  \n",
       "2   NaN  \n",
       "\n",
       "[3 rows x 21 columns]"
      ]
     },
     "execution_count": 665,
     "metadata": {},
     "output_type": "execute_result"
    }
   ],
   "source": [
    "data.head(3)"
   ]
  },
  {
   "cell_type": "code",
   "execution_count": null,
   "metadata": {},
   "outputs": [],
   "source": []
  }
 ],
 "metadata": {
  "kernelspec": {
   "display_name": "Python 3",
   "language": "python",
   "name": "python3"
  },
  "language_info": {
   "codemirror_mode": {
    "name": "ipython",
    "version": 3
   },
   "file_extension": ".py",
   "mimetype": "text/x-python",
   "name": "python",
   "nbconvert_exporter": "python",
   "pygments_lexer": "ipython3",
   "version": "3.7.4"
  }
 },
 "nbformat": 4,
 "nbformat_minor": 4
}
