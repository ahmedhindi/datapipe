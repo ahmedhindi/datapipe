{
 "cells": [
  {
   "cell_type": "code",
   "execution_count": 580,
   "metadata": {},
   "outputs": [
    {
     "name": "stdout",
     "output_type": "stream",
     "text": [
      "The autoreload extension is already loaded. To reload it, use:\n",
      "  %reload_ext autoreload\n"
     ]
    }
   ],
   "source": [
    "%load_ext autoreload\n",
    "%autoreload 2"
   ]
  },
  {
   "cell_type": "code",
   "execution_count": 581,
   "metadata": {},
   "outputs": [],
   "source": [
    "from dukto.pipe import Pipe\n",
    "from dukto.processor import ColProcessor, MultiColProcessor, Transformer\n",
    "import pandas as pd\n",
    "import numpy as np"
   ]
  },
  {
   "cell_type": "code",
   "execution_count": 582,
   "metadata": {},
   "outputs": [],
   "source": [
    "data  = pd.read_csv('data/ufc.csv', index_col=0)"
   ]
  },
  {
   "cell_type": "markdown",
   "metadata": {},
   "source": [
    "## ColProcessor\n",
    "### applies function/s to a column/s  "
   ]
  },
  {
   "cell_type": "code",
   "execution_count": 583,
   "metadata": {},
   "outputs": [],
   "source": [
    "def convert_foot_to_cm(r):\n",
    "    if isinstance(r, str) and \"'\" in r:\n",
    "        foot, inches = r.split(\"'\")\n",
    "        inches = int(foot)*12 + int(inches.replace('\"', ''))\n",
    "        return inches*2.54\n",
    "    return np.nan\n",
    "\n",
    "def convert_inch_to_cm(r):\n",
    "    if isinstance(r,str) and '\"' in r:\n",
    "        return int(r.replace('\"', '')) * 2.54\n",
    "    return np.nan\n",
    "\n",
    "def num_of_num_to_perc(r):\n",
    "    if isinstance(r,str) and 'of' in r:\n",
    "        thr, landed = map(int, r.split('of'))\n",
    "        if landed > 0:\n",
    "            return thr / landed \n",
    "    return np.nan\n",
    "\n",
    "def pounds_to_kg(r):\n",
    "    if isinstance(r, str) and 'lbs' in r:\n",
    "        return int(r.split(' ')[0]) * 0.4535\n",
    "    return r"
   ]
  },
  {
   "cell_type": "code",
   "execution_count": 584,
   "metadata": {},
   "outputs": [],
   "source": [
    "single_pipe = [\n",
    "    ColProcessor(name=['agg_height_first','agg_height_second'], funcs=[convert_foot_to_cm], funcs_test={\"6'2\\\"\":187.96}, suffix='_new'),\n",
    "    ColProcessor(name=['agg_reach_first','agg_reach_second'], funcs=[convert_inch_to_cm], funcs_test={'70\"': 177.80}, suffix='_new'),\n",
    "    ColProcessor(name=['second_total_str', 'first_total_str'], funcs=[num_of_num_to_perc], suffix='_%%_new', funcs_test={'50 of 100':0.5}),\n",
    "    ColProcessor(name=['agg_dob_first', 'agg_dob_second', 'date_card'], funcs=[pd.to_datetime]),\n",
    "    ColProcessor(name='agg_weight_first', new_name={\"agg_weight_first\":'weight_class'}, funcs=[pounds_to_kg], suffix='_new', drop=True)\n",
    "]"
   ]
  },
  {
   "cell_type": "markdown",
   "metadata": {},
   "source": [
    "## MultiColProcessor\n",
    "\n",
    "## applies a function that takes and returns a dataframe\n",
    "## this class is used to add columns based on other column/s"
   ]
  },
  {
   "cell_type": "code",
   "execution_count": 585,
   "metadata": {},
   "outputs": [],
   "source": [
    "def add_ages(df):\n",
    "    df['first_fighter_age_new'] = df['date_card'] - df['agg_dob_first']\n",
    "    df['second_fighter_age_new'] = df['date_card'] - df['agg_dob_second']\n",
    "    return df\n",
    "\n",
    "def ages_in_years(df):\n",
    "    df[['first_fighter_age_new', 'second_fighter_age_new']] = df[['first_fighter_age_new', 'second_fighter_age_new']].applymap(lambda x:x/np.timedelta64(1, 'Y'))\n",
    "    return df"
   ]
  },
  {
   "cell_type": "code",
   "execution_count": 586,
   "metadata": {},
   "outputs": [],
   "source": [
    "multi_pipe = [\n",
    "    MultiColProcessor(name=['first_fighter_age_new', 'second_fighter_age_new'], funcs=[add_ages, ages_in_years]),\n",
    "             ]"
   ]
  },
  {
   "cell_type": "markdown",
   "metadata": {},
   "source": [
    "## Transformer\n",
    "\n",
    "### applies a feature_engine style transformer to a column/s"
   ]
  },
  {
   "cell_type": "code",
   "execution_count": 608,
   "metadata": {},
   "outputs": [],
   "source": [
    "# res[[i for i in res.columns if 'new' in i]]"
   ]
  },
  {
   "cell_type": "code",
   "execution_count": null,
   "metadata": {},
   "outputs": [],
   "source": [
    "data.assign()"
   ]
  },
  {
   "cell_type": "code",
   "execution_count": 621,
   "metadata": {},
   "outputs": [],
   "source": [
    "from feature_engine.encoding import CountFrequencyEncoder\n",
    "from feature_engine.imputation import MeanMedianImputer, CategoricalImputer\n",
    "# add school name so you can encode it\n",
    "\n",
    "new_cols_func = lambda x: [i for i in x if (('new' in i) and ('weight' not in i))]\n",
    "\n",
    "trans_pipe  = [\n",
    "    Transformer(name_from_func=new_cols_func, transformers=[MeanMedianImputer]),\n",
    "    MultiColProcessor(funcs=[lambda x:x.assign(weight_class_new=x.weight_class_new.astype(str))]),\n",
    "    Transformer(name=['weight_class_new'], transformers=[CategoricalImputer,CountFrequencyEncoder]),\n",
    "]"
   ]
  },
  {
   "cell_type": "code",
   "execution_count": 622,
   "metadata": {},
   "outputs": [],
   "source": [
    "pipeline = single_pipe+multi_pipe+trans_pipe"
   ]
  },
  {
   "cell_type": "code",
   "execution_count": 623,
   "metadata": {},
   "outputs": [
    {
     "data": {
      "text/plain": [
       "[Transformer(), MultiColProcessor(), Transformer()]"
      ]
     },
     "execution_count": 623,
     "metadata": {},
     "output_type": "execute_result"
    }
   ],
   "source": [
    "trans_pipe"
   ]
  },
  {
   "cell_type": "code",
   "execution_count": 624,
   "metadata": {},
   "outputs": [],
   "source": [
    "pipe = Pipe(data=data, pipeline=pipeline, run_test_cases=True)"
   ]
  },
  {
   "cell_type": "code",
   "execution_count": 625,
   "metadata": {},
   "outputs": [
    {
     "name": "stdout",
     "output_type": "stream",
     "text": [
      "ColProcessor (agg_height_first, agg_height_second) test cases PASSED! 😎\n",
      "ColProcessor (agg_reach_first, agg_reach_second) test cases PASSED! 😎\n",
      "ColProcessor (second_total_str, first_total_str) test cases PASSED! 😎\n",
      "ColProcessor (agg_dob_first, agg_dob_second, date_card) test cases NOT FOUND.\n",
      "ColProcessor (agg_weight_first)             test cases NOT FOUND.\n",
      "not implemented yet\n",
      "not implemented yet\n"
     ]
    }
   ],
   "source": [
    "res = pipe.run()"
   ]
  },
  {
   "cell_type": "code",
   "execution_count": 630,
   "metadata": {},
   "outputs": [
    {
     "data": {
      "text/html": [
       "<div>\n",
       "<style scoped>\n",
       "    .dataframe tbody tr th:only-of-type {\n",
       "        vertical-align: middle;\n",
       "    }\n",
       "\n",
       "    .dataframe tbody tr th {\n",
       "        vertical-align: top;\n",
       "    }\n",
       "\n",
       "    .dataframe thead th {\n",
       "        text-align: right;\n",
       "    }\n",
       "</style>\n",
       "<table border=\"1\" class=\"dataframe\">\n",
       "  <thead>\n",
       "    <tr style=\"text-align: right;\">\n",
       "      <th></th>\n",
       "      <th>agg_height_first_new</th>\n",
       "      <th>agg_height_second_new</th>\n",
       "      <th>agg_reach_first_new</th>\n",
       "      <th>agg_reach_second_new</th>\n",
       "      <th>second_total_str_%%_new</th>\n",
       "      <th>first_total_str_%%_new</th>\n",
       "      <th>weight_class_new</th>\n",
       "      <th>first_fighter_age_new</th>\n",
       "      <th>second_fighter_age_new</th>\n",
       "    </tr>\n",
       "  </thead>\n",
       "  <tbody>\n",
       "    <tr>\n",
       "      <th>0</th>\n",
       "      <td>193.04</td>\n",
       "      <td>193.04</td>\n",
       "      <td>213.36</td>\n",
       "      <td>195.58</td>\n",
       "      <td>0.452471</td>\n",
       "      <td>0.629412</td>\n",
       "      <td>454</td>\n",
       "      <td>32.559190</td>\n",
       "      <td>30.119715</td>\n",
       "    </tr>\n",
       "    <tr>\n",
       "      <th>1</th>\n",
       "      <td>165.10</td>\n",
       "      <td>175.26</td>\n",
       "      <td>167.64</td>\n",
       "      <td>172.72</td>\n",
       "      <td>0.397059</td>\n",
       "      <td>0.695122</td>\n",
       "      <td>382</td>\n",
       "      <td>31.923996</td>\n",
       "      <td>31.113575</td>\n",
       "    </tr>\n",
       "    <tr>\n",
       "      <th>2</th>\n",
       "      <td>195.58</td>\n",
       "      <td>182.88</td>\n",
       "      <td>203.20</td>\n",
       "      <td>187.96</td>\n",
       "      <td>0.666667</td>\n",
       "      <td>0.636364</td>\n",
       "      <td>96</td>\n",
       "      <td>28.063547</td>\n",
       "      <td>26.155226</td>\n",
       "    </tr>\n",
       "    <tr>\n",
       "      <th>3</th>\n",
       "      <td>172.72</td>\n",
       "      <td>170.18</td>\n",
       "      <td>177.80</td>\n",
       "      <td>180.34</td>\n",
       "      <td>0.547009</td>\n",
       "      <td>0.391892</td>\n",
       "      <td>614</td>\n",
       "      <td>28.978008</td>\n",
       "      <td>28.509826</td>\n",
       "    </tr>\n",
       "    <tr>\n",
       "      <th>4</th>\n",
       "      <td>190.50</td>\n",
       "      <td>177.80</td>\n",
       "      <td>200.66</td>\n",
       "      <td>185.42</td>\n",
       "      <td>0.805195</td>\n",
       "      <td>0.465517</td>\n",
       "      <td>31</td>\n",
       "      <td>35.001403</td>\n",
       "      <td>36.534631</td>\n",
       "    </tr>\n",
       "    <tr>\n",
       "      <th>...</th>\n",
       "      <td>...</td>\n",
       "      <td>...</td>\n",
       "      <td>...</td>\n",
       "      <td>...</td>\n",
       "      <td>...</td>\n",
       "      <td>...</td>\n",
       "      <td>...</td>\n",
       "      <td>...</td>\n",
       "      <td>...</td>\n",
       "    </tr>\n",
       "    <tr>\n",
       "      <th>5918</th>\n",
       "      <td>154.94</td>\n",
       "      <td>160.02</td>\n",
       "      <td>157.48</td>\n",
       "      <td>162.56</td>\n",
       "      <td>0.469880</td>\n",
       "      <td>0.541667</td>\n",
       "      <td>184</td>\n",
       "      <td>27.858204</td>\n",
       "      <td>33.054751</td>\n",
       "    </tr>\n",
       "    <tr>\n",
       "      <th>5919</th>\n",
       "      <td>182.88</td>\n",
       "      <td>185.42</td>\n",
       "      <td>195.58</td>\n",
       "      <td>190.50</td>\n",
       "      <td>0.465753</td>\n",
       "      <td>0.398601</td>\n",
       "      <td>1012</td>\n",
       "      <td>27.223009</td>\n",
       "      <td>28.570060</td>\n",
       "    </tr>\n",
       "    <tr>\n",
       "      <th>5920</th>\n",
       "      <td>193.04</td>\n",
       "      <td>177.80</td>\n",
       "      <td>200.66</td>\n",
       "      <td>182.88</td>\n",
       "      <td>0.792880</td>\n",
       "      <td>0.537634</td>\n",
       "      <td>96</td>\n",
       "      <td>31.976016</td>\n",
       "      <td>35.294359</td>\n",
       "    </tr>\n",
       "    <tr>\n",
       "      <th>5921</th>\n",
       "      <td>172.72</td>\n",
       "      <td>182.88</td>\n",
       "      <td>175.26</td>\n",
       "      <td>177.80</td>\n",
       "      <td>0.636364</td>\n",
       "      <td>0.500000</td>\n",
       "      <td>897</td>\n",
       "      <td>32.367537</td>\n",
       "      <td>32.186835</td>\n",
       "    </tr>\n",
       "    <tr>\n",
       "      <th>5922</th>\n",
       "      <td>167.64</td>\n",
       "      <td>162.56</td>\n",
       "      <td>175.26</td>\n",
       "      <td>170.18</td>\n",
       "      <td>0.737864</td>\n",
       "      <td>0.715447</td>\n",
       "      <td>382</td>\n",
       "      <td>23.699323</td>\n",
       "      <td>25.596693</td>\n",
       "    </tr>\n",
       "  </tbody>\n",
       "</table>\n",
       "<p>5923 rows × 9 columns</p>\n",
       "</div>"
      ],
      "text/plain": [
       "      agg_height_first_new  agg_height_second_new  agg_reach_first_new  \\\n",
       "0                   193.04                 193.04               213.36   \n",
       "1                   165.10                 175.26               167.64   \n",
       "2                   195.58                 182.88               203.20   \n",
       "3                   172.72                 170.18               177.80   \n",
       "4                   190.50                 177.80               200.66   \n",
       "...                    ...                    ...                  ...   \n",
       "5918                154.94                 160.02               157.48   \n",
       "5919                182.88                 185.42               195.58   \n",
       "5920                193.04                 177.80               200.66   \n",
       "5921                172.72                 182.88               175.26   \n",
       "5922                167.64                 162.56               175.26   \n",
       "\n",
       "      agg_reach_second_new  second_total_str_%%_new  first_total_str_%%_new  \\\n",
       "0                   195.58                 0.452471                0.629412   \n",
       "1                   172.72                 0.397059                0.695122   \n",
       "2                   187.96                 0.666667                0.636364   \n",
       "3                   180.34                 0.547009                0.391892   \n",
       "4                   185.42                 0.805195                0.465517   \n",
       "...                    ...                      ...                     ...   \n",
       "5918                162.56                 0.469880                0.541667   \n",
       "5919                190.50                 0.465753                0.398601   \n",
       "5920                182.88                 0.792880                0.537634   \n",
       "5921                177.80                 0.636364                0.500000   \n",
       "5922                170.18                 0.737864                0.715447   \n",
       "\n",
       "      weight_class_new  first_fighter_age_new  second_fighter_age_new  \n",
       "0                  454              32.559190               30.119715  \n",
       "1                  382              31.923996               31.113575  \n",
       "2                   96              28.063547               26.155226  \n",
       "3                  614              28.978008               28.509826  \n",
       "4                   31              35.001403               36.534631  \n",
       "...                ...                    ...                     ...  \n",
       "5918               184              27.858204               33.054751  \n",
       "5919              1012              27.223009               28.570060  \n",
       "5920                96              31.976016               35.294359  \n",
       "5921               897              32.367537               32.186835  \n",
       "5922               382              23.699323               25.596693  \n",
       "\n",
       "[5923 rows x 9 columns]"
      ]
     },
     "execution_count": 630,
     "metadata": {},
     "output_type": "execute_result"
    }
   ],
   "source": [
    "res[[i for i in res.columns if 'new' in i]]"
   ]
  },
  {
   "cell_type": "code",
   "execution_count": 561,
   "metadata": {},
   "outputs": [],
   "source": [
    "def avg_grade(df):\n",
    "    df['avg_grade'] = df[['chem_grade','phy_grade','bio_grade']].mean(axis=1)\n",
    "    return df\n",
    "\n",
    "multi_pipe = [\n",
    "    MultiColProcessor(funcs=[avg_grade], funcs_test={})\n",
    "] "
   ]
  },
  {
   "cell_type": "code",
   "execution_count": 562,
   "metadata": {},
   "outputs": [],
   "source": [
    "from feature_engine.encoding import CountFrequencyEncoder\n",
    "from feature_engine.imputation import MeanMedianImputer, CategoricalImputer\n",
    "# add school name so you can encode it\n",
    "\n",
    "new_cols_func = lambda x: [i for i in x if (('new' in i) and ('weight' not in i))]\n",
    "\n",
    "transformers = [\n",
    "    Transformer(name_from_func=new_cols_func, transformers=[MeanMedianImputer]),\n",
    "    Transformer(name=['weight_class_new'], transformers=[CategoricalImputer,CountFrequencyEncoder]),\n",
    "]"
   ]
  },
  {
   "cell_type": "code",
   "execution_count": 563,
   "metadata": {},
   "outputs": [],
   "source": [
    "# add all pipelines\n",
    "all_pipes = single_pipe + multi_pipe + transformers"
   ]
  }
 ],
 "metadata": {
  "kernelspec": {
   "display_name": "Python 3",
   "language": "python",
   "name": "python3"
  },
  "language_info": {
   "codemirror_mode": {
    "name": "ipython",
    "version": 3
   },
   "file_extension": ".py",
   "mimetype": "text/x-python",
   "name": "python",
   "nbconvert_exporter": "python",
   "pygments_lexer": "ipython3",
   "version": "3.7.4"
  }
 },
 "nbformat": 4,
 "nbformat_minor": 4
}
