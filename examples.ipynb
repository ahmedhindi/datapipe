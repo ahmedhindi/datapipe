{
 "cells": [
  {
   "cell_type": "code",
   "execution_count": 138,
   "metadata": {},
   "outputs": [
    {
     "name": "stdout",
     "output_type": "stream",
     "text": [
      "The autoreload extension is already loaded. To reload it, use:\n",
      "  %reload_ext autoreload\n"
     ]
    }
   ],
   "source": [
    "%load_ext autoreload\n",
    "%autoreload 2"
   ]
  },
  {
   "cell_type": "code",
   "execution_count": 139,
   "metadata": {},
   "outputs": [],
   "source": [
    "sample_data = pd.read_csv('tests/data/test_ufc.csv')"
   ]
  },
  {
   "cell_type": "code",
   "execution_count": 154,
   "metadata": {},
   "outputs": [
    {
     "data": {
      "text/plain": [
       "False"
      ]
     },
     "execution_count": 154,
     "metadata": {},
     "output_type": "execute_result"
    }
   ],
   "source": [
    "np.isnan(24.354) "
   ]
  },
  {
   "cell_type": "code",
   "execution_count": 160,
   "metadata": {},
   "outputs": [],
   "source": [
    "single_pipe = [\n",
    "        ColProcessor(\n",
    "            name=\"agg_weight_first\",\n",
    "            new_name={\"agg_weight_first\": \"weight_class\"},\n",
    "            funcs=[pounds_to_kg, lambda x:int(x) if not np.isnan(x) else 0],\n",
    "            suffix=\"_new\",\n",
    "            drop=True,\n",
    "        ),\n",
    "    ]"
   ]
  },
  {
   "cell_type": "code",
   "execution_count": 161,
   "metadata": {},
   "outputs": [
    {
     "name": "stdout",
     "output_type": "stream",
     "text": [
      "running <function pounds_to_kg at 0x00000189E85BF5E8> \n",
      " 0    205 lbs.\n",
      "1         NaN\n",
      "2    170 lbs.\n",
      "3    155 lbs.\n",
      "4    125 lbs.\n",
      "Name: agg_weight_first, dtype: object\n",
      "running <function <lambda> at 0x00000189E862CDC8> \n",
      " 0    92.9675\n",
      "1        NaN\n",
      "2    77.0950\n",
      "3    70.2925\n",
      "4    56.6875\n",
      "Name: agg_weight_first, dtype: float64\n"
     ]
    }
   ],
   "source": [
    "pipe = Pipe(data=sample_data, pipeline=single_pipe, run_test_cases=False)\n",
    "res = pipe.run()"
   ]
  },
  {
   "cell_type": "code",
   "execution_count": 162,
   "metadata": {},
   "outputs": [],
   "source": [
    "single_pipe[0].funcs = single_pipe[0].funcs[0]"
   ]
  },
  {
   "cell_type": "code",
   "execution_count": 163,
   "metadata": {},
   "outputs": [
    {
     "data": {
      "text/plain": [
       "0     92\n",
       "1      0\n",
       "2     77\n",
       "3     70\n",
       "4     56\n",
       "5     92\n",
       "6     83\n",
       "7     65\n",
       "8     77\n",
       "9     92\n",
       "10    77\n",
       "11    61\n",
       "12    70\n",
       "13    65\n",
       "14    83\n",
       "15    61\n",
       "16    83\n",
       "17    65\n",
       "18     0\n",
       "19    92\n",
       "Name: weight_class_new, dtype: int64"
      ]
     },
     "execution_count": 163,
     "metadata": {},
     "output_type": "execute_result"
    }
   ],
   "source": [
    "res.weight_class_new"
   ]
  },
  {
   "cell_type": "code",
   "execution_count": 71,
   "metadata": {},
   "outputs": [],
   "source": [
    "from dukto.pipe import Pipe\n",
    "from dukto.processor import ColProcessor, MultiColProcessor, Transformer\n",
    "import pandas as pd\n",
    "import numpy as np\n",
    "from feature_engine.encoding import CountFrequencyEncoder\n",
    "from feature_engine.imputation import MeanMedianImputer, CategoricalImputer"
   ]
  },
  {
   "cell_type": "code",
   "execution_count": 72,
   "metadata": {},
   "outputs": [],
   "source": [
    "data  = pd.read_csv('data/ufc.csv', index_col=0)"
   ]
  },
  {
   "cell_type": "markdown",
   "metadata": {},
   "source": [
    "# ColProcessor\n",
    "### applies function/s to a column/s  "
   ]
  },
  {
   "cell_type": "code",
   "execution_count": 73,
   "metadata": {},
   "outputs": [],
   "source": [
    "def convert_foot_to_cm(r):\n",
    "    if isinstance(r, str) and \"'\" in r:\n",
    "        foot, inches = r.split(\"'\")\n",
    "        inches = int(foot)*12 + int(inches.replace('\"', ''))\n",
    "        return inches*2.54\n",
    "    return np.nan\n",
    "\n",
    "def convert_inch_to_cm(r):\n",
    "    if isinstance(r,str) and '\"' in r:\n",
    "        return int(r.replace('\"', '')) * 2.54\n",
    "    return np.nan\n",
    "\n",
    "def num_of_num_to_perc(r):\n",
    "    if isinstance(r,str) and 'of' in r:\n",
    "        thr, landed = map(int, r.split('of'))\n",
    "        if landed > 0:\n",
    "            return thr / landed \n",
    "    return np.nan\n",
    "\n",
    "def pounds_to_kg(r):\n",
    "    if isinstance(r, str) and 'lbs' in r:\n",
    "        return int(r.split(' ')[0]) * 0.4535\n",
    "    return r"
   ]
  },
  {
   "cell_type": "code",
   "execution_count": 74,
   "metadata": {},
   "outputs": [],
   "source": [
    "single_pipe = [\n",
    "    ColProcessor(name=['agg_height_first','agg_height_second'], \n",
    "                 funcs=[convert_foot_to_cm], funcs_test={\"6'2\\\"\":187.96}, suffix='_new'),\n",
    "    \n",
    "    ColProcessor(name=['agg_reach_first','agg_reach_second'], \n",
    "                 funcs=[convert_inch_to_cm], funcs_test={'70\"': 177.80}, suffix='_new'),\n",
    "    \n",
    "    ColProcessor(name=['second_total_str', 'first_total_str'], \n",
    "                 funcs=[num_of_num_to_perc], suffix='_%%_new', funcs_test={'50 of 100':0.5}),\n",
    "    \n",
    "    ColProcessor(name=['agg_dob_first', 'agg_dob_second', 'date_card'], \n",
    "                 funcs=[pd.to_datetime]),\n",
    "    \n",
    "    ColProcessor(name='agg_weight_first', new_name={\"agg_weight_first\":'weight_class'}, \n",
    "                 funcs=[pounds_to_kg, int], suffix='_new', drop=True)\n",
    "]"
   ]
  },
  {
   "cell_type": "code",
   "execution_count": 45,
   "metadata": {},
   "outputs": [],
   "source": [
    "pipe = Pipe(data=sample_data, pipeline=single_pipe, run_test_cases=False)\n",
    "res = pipe.run()"
   ]
  },
  {
   "cell_type": "code",
   "execution_count": 46,
   "metadata": {},
   "outputs": [
    {
     "data": {
      "text/plain": [
       "0     92.9675\n",
       "1         NaN\n",
       "2     77.0950\n",
       "3     70.2925\n",
       "4     56.6875\n",
       "5     92.9675\n",
       "6     83.8975\n",
       "7     65.7575\n",
       "8     77.0950\n",
       "9     92.9675\n",
       "10    77.0950\n",
       "11    61.2225\n",
       "12    70.2925\n",
       "13    65.7575\n",
       "14    83.8975\n",
       "15    61.2225\n",
       "16    83.8975\n",
       "17    65.7575\n",
       "18        NaN\n",
       "19    92.9675\n",
       "Name: weight_class_new, dtype: float64"
      ]
     },
     "execution_count": 46,
     "metadata": {},
     "output_type": "execute_result"
    }
   ],
   "source": [
    "res.weight_class_new"
   ]
  },
  {
   "cell_type": "markdown",
   "metadata": {},
   "source": [
    "## MultiColProcessor\n",
    "\n",
    "## applies a function that takes and returns a pandas DataFrame\n",
    "## this class is used to add columns based on other column/s"
   ]
  },
  {
   "cell_type": "code",
   "execution_count": 20,
   "metadata": {},
   "outputs": [],
   "source": [
    "def add_ages(df):\n",
    "    df['first_fighter_age_new'] = df['date_card'] - df['agg_dob_first']\n",
    "    df['second_fighter_age_new'] = df['date_card'] - df['agg_dob_second']\n",
    "    return df\n",
    "\n",
    "def ages_in_years(df):\n",
    "    df[['first_fighter_age_new', 'second_fighter_age_new']] = df[['first_fighter_age_new', 'second_fighter_age_new']].applymap(lambda x:x/np.timedelta64(1, 'Y'))\n",
    "    return df"
   ]
  },
  {
   "cell_type": "code",
   "execution_count": 21,
   "metadata": {},
   "outputs": [],
   "source": [
    "multi_pipe = [\n",
    "    MultiColProcessor(name=['first_fighter_age_new', 'second_fighter_age_new'], \n",
    "                      funcs=[add_ages, ages_in_years]),\n",
    "             ]"
   ]
  },
  {
   "cell_type": "markdown",
   "metadata": {},
   "source": [
    "## Transformer\n",
    "\n",
    "### applies a feature_engine style transformer to a column/s"
   ]
  },
  {
   "cell_type": "code",
   "execution_count": 22,
   "metadata": {},
   "outputs": [],
   "source": [
    "\n",
    "new_cols_func = lambda x: [i for i in x if (('new' in i) and ('weight' not in i))]\n",
    "\n",
    "trans_pipe  = [\n",
    "    Transformer(name_from_func=new_cols_func, \n",
    "                transformers=[MeanMedianImputer], imputation_method='median'),\n",
    "    \n",
    "    MultiColProcessor(funcs=[lambda x:x.assign(weight_class_new=x.weight_class_new.astype(str))]),\n",
    "    \n",
    "    Transformer(name=['weight_class_new'], \n",
    "                transformers=[CategoricalImputer,CountFrequencyEncoder]),\n",
    "]"
   ]
  },
  {
   "cell_type": "code",
   "execution_count": 23,
   "metadata": {},
   "outputs": [],
   "source": [
    "pipeline = single_pipe+multi_pipe+trans_pipe"
   ]
  },
  {
   "cell_type": "code",
   "execution_count": 24,
   "metadata": {},
   "outputs": [
    {
     "data": {
      "text/plain": [
       "[ColProcessor(agg_height_first, agg_height_second),\n",
       " ColProcessor(agg_reach_first, agg_reach_second),\n",
       " ColProcessor(second_total_str, first_total_str),\n",
       " ColProcessor(agg_dob_first, agg_dob_second, date_card),\n",
       " ColProcessor(agg_weight_first),\n",
       " MultiColProcessor(first_fighter_age_new, second_fighter_age_new),\n",
       " Transformer(),\n",
       " MultiColProcessor(),\n",
       " Transformer()]"
      ]
     },
     "execution_count": 24,
     "metadata": {},
     "output_type": "execute_result"
    }
   ],
   "source": [
    "pipeline"
   ]
  },
  {
   "cell_type": "code",
   "execution_count": 25,
   "metadata": {},
   "outputs": [],
   "source": [
    "pipe = Pipe(data=data, pipeline=pipeline, run_test_cases=True)"
   ]
  },
  {
   "cell_type": "code",
   "execution_count": 26,
   "metadata": {},
   "outputs": [
    {
     "name": "stdout",
     "output_type": "stream",
     "text": [
      "ColProcessor (agg_height_first, agg_height_second) test cases PASSED! 😎\n",
      "ColProcessor (agg_reach_first, agg_reach_second) test cases PASSED! 😎\n",
      "ColProcessor (second_total_str, first_total_str) test cases PASSED! 😎\n",
      "ColProcessor (agg_dob_first, agg_dob_second, date_card) test cases NOT FOUND.\n",
      "ColProcessor (agg_weight_first)             test cases NOT FOUND.\n",
      "Multi test not implemented yet\n",
      "transformer test not implemented yet\n",
      "Multi test not implemented yet\n",
      "transformer test not implemented yet\n"
     ]
    }
   ],
   "source": [
    "res = pipe.run()"
   ]
  },
  {
   "cell_type": "markdown",
   "metadata": {},
   "source": [
    "# after "
   ]
  },
  {
   "cell_type": "code",
   "execution_count": 28,
   "metadata": {},
   "outputs": [
    {
     "data": {
      "text/plain": [
       "0        454\n",
       "1        382\n",
       "2         96\n",
       "3        614\n",
       "4         31\n",
       "        ... \n",
       "5918     184\n",
       "5919    1012\n",
       "5920      96\n",
       "5921     897\n",
       "5922     382\n",
       "Name: weight_class_new, Length: 5923, dtype: int64"
      ]
     },
     "execution_count": 28,
     "metadata": {},
     "output_type": "execute_result"
    }
   ],
   "source": [
    "res.weight_class_new"
   ]
  },
  {
   "cell_type": "markdown",
   "metadata": {},
   "source": [
    "# Before"
   ]
  }
 ],
 "metadata": {
  "kernelspec": {
   "display_name": "Python 3",
   "language": "python",
   "name": "python3"
  },
  "language_info": {
   "codemirror_mode": {
    "name": "ipython",
    "version": 3
   },
   "file_extension": ".py",
   "mimetype": "text/x-python",
   "name": "python",
   "nbconvert_exporter": "python",
   "pygments_lexer": "ipython3",
   "version": "3.7.4"
  }
 },
 "nbformat": 4,
 "nbformat_minor": 4
}
