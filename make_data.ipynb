{
 "cells": [
  {
   "cell_type": "code",
   "execution_count": 1,
   "metadata": {},
   "outputs": [],
   "source": [
    "import pandas as pd\n",
    "from dukto import Pipe, Processor\n",
    "import numpy as np"
   ]
  },
  {
   "cell_type": "code",
   "execution_count": 2,
   "metadata": {},
   "outputs": [],
   "source": [
    "def get_markdown(df, n):\n",
    "    sample = df.sample(n).reset_index(drop=True).to_markdown()\n",
    "    return sample"
   ]
  },
  {
   "cell_type": "code",
   "execution_count": 3,
   "metadata": {},
   "outputs": [],
   "source": [
    "last = pd.read_csv('notes/last_names.all.txt')\n",
    "first = pd.read_csv('https://raw.githubusercontent.com/Debdut/names.io/master/first_names.all.txt')"
   ]
  },
  {
   "cell_type": "markdown",
   "metadata": {},
   "source": [
    "### names"
   ]
  },
  {
   "cell_type": "code",
   "execution_count": 4,
   "metadata": {},
   "outputs": [],
   "source": [
    "first_option = first.iloc[:,0].sample(1000).tolist()\n",
    "last_options = last.iloc[:,0].sample(1000).tolist()\n",
    "df = pd.DataFrame({'first_name':first_option,\n",
    " 'last_name':last_options,})\n",
    "name = (df.first_name.str.title() + ' '+ df.last_name.str.title()).tolist()"
   ]
  },
  {
   "cell_type": "markdown",
   "metadata": {},
   "source": [
    "### grades"
   ]
  },
  {
   "cell_type": "code",
   "execution_count": 5,
   "metadata": {},
   "outputs": [],
   "source": [
    "chem_grade_options = [f\"{i}/60\" for i in  np.random.choice(range(60), size=1000)]\n",
    "ph_grades_options = [str(i) for i in np.random.choice(a=np.arange(0,100), size=1000, p=np.linspace(0,100,100)/ sum(np.linspace(0,100,100)))]"
   ]
  },
  {
   "cell_type": "markdown",
   "metadata": {},
   "source": [
    "### age"
   ]
  },
  {
   "cell_type": "code",
   "execution_count": 8,
   "metadata": {},
   "outputs": [],
   "source": [
    "age = [i for i in np.random.choice(np.arange(168, 216), size=1000)]\n",
    "age_options = [str(i)+\"m\" if np.random.choice([0,1], p=[0.7,0.3]) else f\"{round(int(i)/12)}\" for i in age]"
   ]
  },
  {
   "cell_type": "markdown",
   "metadata": {},
   "source": [
    "### Height"
   ]
  },
  {
   "cell_type": "code",
   "execution_count": 9,
   "metadata": {},
   "outputs": [],
   "source": [
    "height = [i for i in np.random.choice(np.arange(168, 216), size=1000)]\n",
    "height_options = [str(i)+\"cm\" if np.random.choice([0,1], p=[0.7,0.3]) else f\"{round(int(i)*0.393701)}in\" for i in np.random.choice(np.arange(130, 170), size=1000)]"
   ]
  },
  {
   "cell_type": "code",
   "execution_count": 13,
   "metadata": {},
   "outputs": [],
   "source": [
    "data = pd.DataFrame({\n",
    "    'name':name,\n",
    "    'chem_grade': chem_grade_options,\n",
    "    'phy_grade':ph_grades_options,\n",
    "    'bio_grade':np.random.choice(ph_grades_options, size=1000),\n",
    "    'age': age_options,\n",
    "    'height':height_options,\n",
    "    'age2':age\n",
    "    \n",
    "})"
   ]
  },
  {
   "cell_type": "code",
   "execution_count": 14,
   "metadata": {},
   "outputs": [],
   "source": [
    "dev = data[data.height.str.contains('in')].copy().reset_index(drop=True)\n",
    "prod = data[data.height.str.contains('cm')].copy().reset_index(drop=True)"
   ]
  },
  {
   "cell_type": "code",
   "execution_count": 15,
   "metadata": {},
   "outputs": [],
   "source": [
    "def get_grade(n, dev=True):\n",
    "    if 14 <= n >= 15:\n",
    "        return ('9th' if dev else 'Freshman')\n",
    "    elif 15 <= n >= 16:\n",
    "        return ('10th' if dev else 'Sophomore')\n",
    "    elif 16 <= n >= 17:\n",
    "        return ('11th' if dev else 'Junior')\n",
    "    elif 17 <= n >= 18:\n",
    "        return ('12th' if dev else 'Senior')\n"
   ]
  },
  {
   "cell_type": "code",
   "execution_count": 16,
   "metadata": {},
   "outputs": [],
   "source": [
    "dev['grade'] = dev.age2.apply(get_grade)\n",
    "prod['grade'] = prod.age2.apply(get_grade, dev=False)"
   ]
  },
  {
   "cell_type": "code",
   "execution_count": 17,
   "metadata": {},
   "outputs": [],
   "source": [
    "prod.drop('age2', axis=1, inplace=True)\n",
    "dev.drop('age2', axis=1, inplace=True)"
   ]
  },
  {
   "cell_type": "code",
   "execution_count": 18,
   "metadata": {},
   "outputs": [],
   "source": [
    "dev.to_csv('data/student_dev.csv')\n",
    "prod.to_csv('data/student_prod.csv')"
   ]
  },
  {
   "cell_type": "code",
   "execution_count": 20,
   "metadata": {},
   "outputs": [
    {
     "data": {
      "text/html": [
       "<div>\n",
       "<style scoped>\n",
       "    .dataframe tbody tr th:only-of-type {\n",
       "        vertical-align: middle;\n",
       "    }\n",
       "\n",
       "    .dataframe tbody tr th {\n",
       "        vertical-align: top;\n",
       "    }\n",
       "\n",
       "    .dataframe thead th {\n",
       "        text-align: right;\n",
       "    }\n",
       "</style>\n",
       "<table border=\"1\" class=\"dataframe\">\n",
       "  <thead>\n",
       "    <tr style=\"text-align: right;\">\n",
       "      <th></th>\n",
       "      <th>name</th>\n",
       "      <th>chem_grade</th>\n",
       "      <th>phy_grade</th>\n",
       "      <th>bio_grade</th>\n",
       "      <th>age</th>\n",
       "      <th>height</th>\n",
       "      <th>grade</th>\n",
       "    </tr>\n",
       "  </thead>\n",
       "  <tbody>\n",
       "    <tr>\n",
       "      <th>0</th>\n",
       "      <td>Jalyiah Darcey</td>\n",
       "      <td>26/60</td>\n",
       "      <td>77</td>\n",
       "      <td>17</td>\n",
       "      <td>17</td>\n",
       "      <td>156cm</td>\n",
       "      <td>Freshman</td>\n",
       "    </tr>\n",
       "    <tr>\n",
       "      <th>1</th>\n",
       "      <td>Eunita Beahm</td>\n",
       "      <td>11/60</td>\n",
       "      <td>56</td>\n",
       "      <td>67</td>\n",
       "      <td>184m</td>\n",
       "      <td>164cm</td>\n",
       "      <td>Freshman</td>\n",
       "    </tr>\n",
       "    <tr>\n",
       "      <th>2</th>\n",
       "      <td>Guluzar Bernand</td>\n",
       "      <td>42/60</td>\n",
       "      <td>97</td>\n",
       "      <td>65</td>\n",
       "      <td>18</td>\n",
       "      <td>157cm</td>\n",
       "      <td>Freshman</td>\n",
       "    </tr>\n",
       "    <tr>\n",
       "      <th>3</th>\n",
       "      <td>Jonatham Mcnicoll</td>\n",
       "      <td>57/60</td>\n",
       "      <td>68</td>\n",
       "      <td>92</td>\n",
       "      <td>17</td>\n",
       "      <td>149cm</td>\n",
       "      <td>Freshman</td>\n",
       "    </tr>\n",
       "    <tr>\n",
       "      <th>4</th>\n",
       "      <td>Greison Hisrich</td>\n",
       "      <td>56/60</td>\n",
       "      <td>96</td>\n",
       "      <td>49</td>\n",
       "      <td>14</td>\n",
       "      <td>163cm</td>\n",
       "      <td>Freshman</td>\n",
       "    </tr>\n",
       "    <tr>\n",
       "      <th>...</th>\n",
       "      <td>...</td>\n",
       "      <td>...</td>\n",
       "      <td>...</td>\n",
       "      <td>...</td>\n",
       "      <td>...</td>\n",
       "      <td>...</td>\n",
       "      <td>...</td>\n",
       "    </tr>\n",
       "    <tr>\n",
       "      <th>281</th>\n",
       "      <td>Bremen Hewatt</td>\n",
       "      <td>44/60</td>\n",
       "      <td>67</td>\n",
       "      <td>46</td>\n",
       "      <td>14</td>\n",
       "      <td>134cm</td>\n",
       "      <td>Freshman</td>\n",
       "    </tr>\n",
       "    <tr>\n",
       "      <th>282</th>\n",
       "      <td>Venerino Billey</td>\n",
       "      <td>16/60</td>\n",
       "      <td>63</td>\n",
       "      <td>60</td>\n",
       "      <td>17</td>\n",
       "      <td>130cm</td>\n",
       "      <td>Freshman</td>\n",
       "    </tr>\n",
       "    <tr>\n",
       "      <th>283</th>\n",
       "      <td>Aylmar Berken</td>\n",
       "      <td>33/60</td>\n",
       "      <td>47</td>\n",
       "      <td>96</td>\n",
       "      <td>18</td>\n",
       "      <td>155cm</td>\n",
       "      <td>Freshman</td>\n",
       "    </tr>\n",
       "    <tr>\n",
       "      <th>284</th>\n",
       "      <td>Lhiam Roysum</td>\n",
       "      <td>35/60</td>\n",
       "      <td>31</td>\n",
       "      <td>76</td>\n",
       "      <td>14</td>\n",
       "      <td>167cm</td>\n",
       "      <td>Freshman</td>\n",
       "    </tr>\n",
       "    <tr>\n",
       "      <th>285</th>\n",
       "      <td>Lagena Kan</td>\n",
       "      <td>12/60</td>\n",
       "      <td>55</td>\n",
       "      <td>83</td>\n",
       "      <td>18</td>\n",
       "      <td>132cm</td>\n",
       "      <td>Freshman</td>\n",
       "    </tr>\n",
       "  </tbody>\n",
       "</table>\n",
       "<p>286 rows × 7 columns</p>\n",
       "</div>"
      ],
      "text/plain": [
       "                  name chem_grade phy_grade bio_grade   age height     grade\n",
       "0       Jalyiah Darcey      26/60        77        17    17  156cm  Freshman\n",
       "1         Eunita Beahm      11/60        56        67  184m  164cm  Freshman\n",
       "2      Guluzar Bernand      42/60        97        65    18  157cm  Freshman\n",
       "3    Jonatham Mcnicoll      57/60        68        92    17  149cm  Freshman\n",
       "4      Greison Hisrich      56/60        96        49    14  163cm  Freshman\n",
       "..                 ...        ...       ...       ...   ...    ...       ...\n",
       "281      Bremen Hewatt      44/60        67        46    14  134cm  Freshman\n",
       "282    Venerino Billey      16/60        63        60    17  130cm  Freshman\n",
       "283      Aylmar Berken      33/60        47        96    18  155cm  Freshman\n",
       "284       Lhiam Roysum      35/60        31        76    14  167cm  Freshman\n",
       "285         Lagena Kan      12/60        55        83    18  132cm  Freshman\n",
       "\n",
       "[286 rows x 7 columns]"
      ]
     },
     "execution_count": 20,
     "metadata": {},
     "output_type": "execute_result"
    }
   ],
   "source": []
  },
  {
   "cell_type": "code",
   "execution_count": null,
   "metadata": {},
   "outputs": [],
   "source": []
  }
 ],
 "metadata": {
  "kernelspec": {
   "display_name": "Python 3",
   "language": "python",
   "name": "python3"
  },
  "language_info": {
   "codemirror_mode": {
    "name": "ipython",
    "version": 3
   },
   "file_extension": ".py",
   "mimetype": "text/x-python",
   "name": "python",
   "nbconvert_exporter": "python",
   "pygments_lexer": "ipython3",
   "version": "3.8.5"
  }
 },
 "nbformat": 4,
 "nbformat_minor": 4
}
