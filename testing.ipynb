{
 "cells": [
  {
   "cell_type": "code",
   "execution_count": 13,
   "metadata": {},
   "outputs": [
    {
     "name": "stdout",
     "output_type": "stream",
     "text": [
      "The autoreload extension is already loaded. To reload it, use:\n",
      "  %reload_ext autoreload\n"
     ]
    }
   ],
   "source": [
    "%load_ext autoreload\n",
    "%autoreload 2"
   ]
  },
  {
   "cell_type": "code",
   "execution_count": 14,
   "metadata": {},
   "outputs": [],
   "source": [
    "import pandas as pd\n",
    "from dukto.processor import Processor\n",
    "from dukto.pipe import Pipe\n",
    "import numpy as np"
   ]
  },
  {
   "cell_type": "code",
   "execution_count": 70,
   "metadata": {},
   "outputs": [],
   "source": [
    "dev  = pd.read_csv('data/student_dev.csv', index_col=0)\n",
    "prod = pd.read_csv('data/student_prod.csv', index_col=0)"
   ]
  },
  {
   "cell_type": "code",
   "execution_count": 74,
   "metadata": {},
   "outputs": [],
   "source": [
    "pipeline = [Processor(['chem_grade'], \n",
    "                      dev=lambda x:(int(x.split('/')[0])/60)*100,\n",
    "                      dev_test={'30/60' : 50.0})]"
   ]
  },
  {
   "cell_type": "code",
   "execution_count": 75,
   "metadata": {},
   "outputs": [],
   "source": [
    "devpipe = Pipe(data=dev, pipeline=pipeline,mode='dev',run_test_cases=True )"
   ]
  },
  {
   "cell_type": "code",
   "execution_count": 76,
   "metadata": {},
   "outputs": [
    {
     "name": "stdout",
     "output_type": "stream",
     "text": [
      "(chem_grade) dev test cases.. PASSED!\n"
     ]
    },
    {
     "data": {
      "text/html": [
       "<div>\n",
       "<style scoped>\n",
       "    .dataframe tbody tr th:only-of-type {\n",
       "        vertical-align: middle;\n",
       "    }\n",
       "\n",
       "    .dataframe tbody tr th {\n",
       "        vertical-align: top;\n",
       "    }\n",
       "\n",
       "    .dataframe thead th {\n",
       "        text-align: right;\n",
       "    }\n",
       "</style>\n",
       "<table border=\"1\" class=\"dataframe\">\n",
       "  <thead>\n",
       "    <tr style=\"text-align: right;\">\n",
       "      <th></th>\n",
       "      <th>name</th>\n",
       "      <th>chem_grade</th>\n",
       "      <th>phy_grade</th>\n",
       "      <th>bio_grade</th>\n",
       "      <th>age</th>\n",
       "      <th>height</th>\n",
       "      <th>grade</th>\n",
       "    </tr>\n",
       "  </thead>\n",
       "  <tbody>\n",
       "    <tr>\n",
       "      <th>0</th>\n",
       "      <td>Anjelica Mccrossen</td>\n",
       "      <td>66.666667</td>\n",
       "      <td>50</td>\n",
       "      <td>52</td>\n",
       "      <td>17</td>\n",
       "      <td>55in</td>\n",
       "      <td>9th</td>\n",
       "    </tr>\n",
       "    <tr>\n",
       "      <th>1</th>\n",
       "      <td>Billie-Rose Garofolo</td>\n",
       "      <td>13.333333</td>\n",
       "      <td>98</td>\n",
       "      <td>66</td>\n",
       "      <td>15</td>\n",
       "      <td>57in</td>\n",
       "      <td>9th</td>\n",
       "    </tr>\n",
       "    <tr>\n",
       "      <th>2</th>\n",
       "      <td>Cyrita Reesor</td>\n",
       "      <td>78.333333</td>\n",
       "      <td>46</td>\n",
       "      <td>35</td>\n",
       "      <td>18</td>\n",
       "      <td>56in</td>\n",
       "      <td>9th</td>\n",
       "    </tr>\n",
       "    <tr>\n",
       "      <th>3</th>\n",
       "      <td>Kiyanna Glaeser</td>\n",
       "      <td>6.666667</td>\n",
       "      <td>96</td>\n",
       "      <td>64</td>\n",
       "      <td>174m</td>\n",
       "      <td>56in</td>\n",
       "      <td>9th</td>\n",
       "    </tr>\n",
       "    <tr>\n",
       "      <th>4</th>\n",
       "      <td>Giangiorgio Shelenberger</td>\n",
       "      <td>58.333333</td>\n",
       "      <td>80</td>\n",
       "      <td>31</td>\n",
       "      <td>187m</td>\n",
       "      <td>62in</td>\n",
       "      <td>9th</td>\n",
       "    </tr>\n",
       "    <tr>\n",
       "      <th>...</th>\n",
       "      <td>...</td>\n",
       "      <td>...</td>\n",
       "      <td>...</td>\n",
       "      <td>...</td>\n",
       "      <td>...</td>\n",
       "      <td>...</td>\n",
       "      <td>...</td>\n",
       "    </tr>\n",
       "    <tr>\n",
       "      <th>709</th>\n",
       "      <td>Onalee Ryals</td>\n",
       "      <td>63.333333</td>\n",
       "      <td>81</td>\n",
       "      <td>49</td>\n",
       "      <td>14</td>\n",
       "      <td>66in</td>\n",
       "      <td>9th</td>\n",
       "    </tr>\n",
       "    <tr>\n",
       "      <th>710</th>\n",
       "      <td>Jomira Fiedler</td>\n",
       "      <td>43.333333</td>\n",
       "      <td>98</td>\n",
       "      <td>93</td>\n",
       "      <td>17</td>\n",
       "      <td>58in</td>\n",
       "      <td>9th</td>\n",
       "    </tr>\n",
       "    <tr>\n",
       "      <th>711</th>\n",
       "      <td>Rether Fincel</td>\n",
       "      <td>60.000000</td>\n",
       "      <td>76</td>\n",
       "      <td>9</td>\n",
       "      <td>18</td>\n",
       "      <td>65in</td>\n",
       "      <td>9th</td>\n",
       "    </tr>\n",
       "    <tr>\n",
       "      <th>712</th>\n",
       "      <td>Reyelle Mazzola</td>\n",
       "      <td>5.000000</td>\n",
       "      <td>83</td>\n",
       "      <td>93</td>\n",
       "      <td>16</td>\n",
       "      <td>58in</td>\n",
       "      <td>9th</td>\n",
       "    </tr>\n",
       "    <tr>\n",
       "      <th>713</th>\n",
       "      <td>Sijtske Skare</td>\n",
       "      <td>21.666667</td>\n",
       "      <td>72</td>\n",
       "      <td>51</td>\n",
       "      <td>14</td>\n",
       "      <td>55in</td>\n",
       "      <td>9th</td>\n",
       "    </tr>\n",
       "  </tbody>\n",
       "</table>\n",
       "<p>714 rows × 7 columns</p>\n",
       "</div>"
      ],
      "text/plain": [
       "                         name  chem_grade  phy_grade  bio_grade   age height  \\\n",
       "0          Anjelica Mccrossen   66.666667         50         52    17   55in   \n",
       "1        Billie-Rose Garofolo   13.333333         98         66    15   57in   \n",
       "2               Cyrita Reesor   78.333333         46         35    18   56in   \n",
       "3             Kiyanna Glaeser    6.666667         96         64  174m   56in   \n",
       "4    Giangiorgio Shelenberger   58.333333         80         31  187m   62in   \n",
       "..                        ...         ...        ...        ...   ...    ...   \n",
       "709              Onalee Ryals   63.333333         81         49    14   66in   \n",
       "710            Jomira Fiedler   43.333333         98         93    17   58in   \n",
       "711             Rether Fincel   60.000000         76          9    18   65in   \n",
       "712           Reyelle Mazzola    5.000000         83         93    16   58in   \n",
       "713             Sijtske Skare   21.666667         72         51    14   55in   \n",
       "\n",
       "    grade  \n",
       "0     9th  \n",
       "1     9th  \n",
       "2     9th  \n",
       "3     9th  \n",
       "4     9th  \n",
       "..    ...  \n",
       "709   9th  \n",
       "710   9th  \n",
       "711   9th  \n",
       "712   9th  \n",
       "713   9th  \n",
       "\n",
       "[714 rows x 7 columns]"
      ]
     },
     "execution_count": 76,
     "metadata": {},
     "output_type": "execute_result"
    }
   ],
   "source": [
    "devpipe.run()"
   ]
  },
  {
   "cell_type": "code",
   "execution_count": 61,
   "metadata": {},
   "outputs": [],
   "source": [
    "data = pd.Series(data={'50':50, \"20\":20}).to_frame().reset_index()\n",
    "data.columns = ['in', 'out']"
   ]
  },
  {
   "cell_type": "code",
   "execution_count": 68,
   "metadata": {},
   "outputs": [],
   "source": [
    "a = Processor(['phy_grade', 'bio_grade'], \n",
    "                      dev=lambda x:int(x),\n",
    "                      dev_test={'50':50, \"20\":20},\n",
    "                      prod_test={50:\"50\", \"20\":20},run_test_cases=True\n",
    "                     )"
   ]
  },
  {
   "cell_type": "code",
   "execution_count": 69,
   "metadata": {},
   "outputs": [
    {
     "name": "stdout",
     "output_type": "stream",
     "text": [
      "(phy_grade, bio_grade) dev test cases.. PASSED!\n"
     ]
    }
   ],
   "source": [
    "a.test(mode='dev')"
   ]
  },
  {
   "cell_type": "code",
   "execution_count": null,
   "metadata": {},
   "outputs": [],
   "source": [
    "devpipe = Pipe(data=dev, pipeline=,mode='dev')"
   ]
  }
 ],
 "metadata": {
  "kernelspec": {
   "display_name": "Python 3",
   "language": "python",
   "name": "python3"
  },
  "language_info": {
   "codemirror_mode": {
    "name": "ipython",
    "version": 3
   },
   "file_extension": ".py",
   "mimetype": "text/x-python",
   "name": "python",
   "nbconvert_exporter": "python",
   "pygments_lexer": "ipython3",
   "version": "3.8.5"
  }
 },
 "nbformat": 4,
 "nbformat_minor": 4
}
